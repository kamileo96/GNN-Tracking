{
  "cells": [
    {
      "cell_type": "markdown",
      "metadata": {
        "id": "view-in-github",
        "colab_type": "text"
      },
      "source": [
        "<a href=\"https://colab.research.google.com/github/kamileo96/GNN-Tracking/blob/main/GNN_muonE_3D_v2.ipynb\" target=\"_parent\"><img src=\"https://colab.research.google.com/assets/colab-badge.svg\" alt=\"Open In Colab\"/></a>"
      ]
    },
    {
      "cell_type": "markdown",
      "metadata": {
        "id": "Z_vum9p0R7yZ"
      },
      "source": [
        "# Tutorial: GNNs for Particle Tracking\n",
        "\n",
        "HEP.TrkX group\n",
        "\n",
        "Steve Farrell, Daniel Murname\n",
        "\n",
        "*Feb 2020*\n",
        "\n",
        "Adapted for MuonE tracking by Marcin Wolter\n",
        "\n",
        "*July 2020*"
      ]
    },
    {
      "cell_type": "code",
      "execution_count": null,
      "metadata": {
        "colab": {
          "base_uri": "https://localhost:8080/"
        },
        "id": "NO8Pb7UPCg5f",
        "outputId": "43e1b106-e711-4ab0-c772-7c9e7eb8e1d3"
      },
      "outputs": [
        {
          "output_type": "stream",
          "name": "stdout",
          "text": [
            "Found existing installation: torchvision 0.14.1+cu116\n",
            "Uninstalling torchvision-0.14.1+cu116:\n",
            "  Successfully uninstalled torchvision-0.14.1+cu116\n",
            "Found existing installation: torchtext 0.14.1\n",
            "Uninstalling torchtext-0.14.1:\n",
            "  Successfully uninstalled torchtext-0.14.1\n",
            "Found existing installation: torchaudio 0.13.1+cu116\n",
            "Uninstalling torchaudio-0.13.1+cu116:\n",
            "  Successfully uninstalled torchaudio-0.13.1+cu116\n",
            "Looking in indexes: https://pypi.org/simple, https://us-python.pkg.dev/colab-wheels/public/simple/\n",
            "Looking in links: https://download.pytorch.org/whl/torch_stable.html\n",
            "Collecting torch==1.11.0+cu113\n",
            "  Downloading https://download.pytorch.org/whl/cu113/torch-1.11.0%2Bcu113-cp38-cp38-linux_x86_64.whl (1637.0 MB)\n",
            "\u001b[2K     \u001b[90m━━━━━━━━━━━━━━━━━━━━━━━━━━━━━━━━━━━━━━━━\u001b[0m \u001b[32m1.6/1.6 GB\u001b[0m \u001b[31m1.1 MB/s\u001b[0m eta \u001b[36m0:00:00\u001b[0m\n",
            "\u001b[?25hRequirement already satisfied: typing-extensions in /usr/local/lib/python3.8/dist-packages (from torch==1.11.0+cu113) (4.4.0)\n",
            "Installing collected packages: torch\n",
            "  Attempting uninstall: torch\n",
            "    Found existing installation: torch 1.13.1+cu116\n",
            "    Uninstalling torch-1.13.1+cu116:\n",
            "      Successfully uninstalled torch-1.13.1+cu116\n",
            "\u001b[31mERROR: pip's dependency resolver does not currently take into account all the packages that are installed. This behaviour is the source of the following dependency conflicts.\n",
            "fastai 2.7.10 requires torchvision>=0.8.2, which is not installed.\u001b[0m\u001b[31m\n",
            "\u001b[0mSuccessfully installed torch-1.11.0+cu113\n"
          ]
        }
      ],
      "source": [
        "!pip uninstall torchvision torchtext torchaudio --yes\n",
        "!pip install torch==1.11.0+cu113  -f https://download.pytorch.org/whl/torch_stable.html"
      ]
    },
    {
      "cell_type": "code",
      "execution_count": null,
      "metadata": {
        "id": "vZh8UpRMR7yp"
      },
      "outputs": [],
      "source": [
        "# System imports\n",
        "import os\n",
        "import sys\n",
        "from pprint import pprint as pp\n",
        "from time import time as tt\n",
        "\n",
        "# External imports\n",
        "import matplotlib.pyplot as plt\n",
        "import matplotlib.colors\n",
        "import numpy as np\n",
        "import pandas as pd\n",
        "import seaborn as sns\n",
        "import torch"
      ]
    },
    {
      "cell_type": "code",
      "execution_count": null,
      "metadata": {
        "colab": {
          "base_uri": "https://localhost:8080/"
        },
        "id": "nCH4u73YSkuf",
        "outputId": "6eb29a75-e61b-401a-ab2e-2bc04d8bf716"
      },
      "outputs": [
        {
          "output_type": "stream",
          "name": "stdout",
          "text": [
            "1.11.0+cu113\n",
            "PyTorch version: None , CUDA version: 11.3\n"
          ]
        }
      ],
      "source": [
        "print(\"PyTorch version:\",print(torch.__version__),\", CUDA version:\", torch.version.cuda)"
      ]
    },
    {
      "cell_type": "code",
      "execution_count": null,
      "metadata": {
        "colab": {
          "base_uri": "https://localhost:8080/",
          "height": 797
        },
        "id": "5yAAs3ZiTNGX",
        "outputId": "0de11ca5-c556-4305-8689-7e9bfbce260b"
      },
      "outputs": [
        {
          "output_type": "stream",
          "name": "stdout",
          "text": [
            "Looking in indexes: https://pypi.org/simple, https://us-python.pkg.dev/colab-wheels/public/simple/\n",
            "Looking in links: https://pytorch-geometric.com/whl/torch-1.11.0+cu113.html\n",
            "Collecting torch-geometric\n",
            "  Downloading torch_geometric-2.2.0.tar.gz (564 kB)\n",
            "\u001b[2K     \u001b[90m━━━━━━━━━━━━━━━━━━━━━━━━━━━━━━━━━━━━━━\u001b[0m \u001b[32m565.0/565.0 KB\u001b[0m \u001b[31m10.6 MB/s\u001b[0m eta \u001b[36m0:00:00\u001b[0m\n",
            "\u001b[?25h  Preparing metadata (setup.py) ... \u001b[?25l\u001b[?25hdone\n",
            "Collecting torch-sparse==0.6.13\n",
            "  Downloading https://data.pyg.org/whl/torch-1.11.0%2Bcu113/torch_sparse-0.6.13-cp38-cp38-linux_x86_64.whl (3.5 MB)\n",
            "\u001b[2K     \u001b[90m━━━━━━━━━━━━━━━━━━━━━━━━━━━━━━━━━━━━━━━━\u001b[0m \u001b[32m3.5/3.5 MB\u001b[0m \u001b[31m8.0 MB/s\u001b[0m eta \u001b[36m0:00:00\u001b[0m\n",
            "\u001b[?25hCollecting torch-scatter==2.0.9\n",
            "  Downloading https://data.pyg.org/whl/torch-1.11.0%2Bcu113/torch_scatter-2.0.9-cp38-cp38-linux_x86_64.whl (7.9 MB)\n",
            "\u001b[2K     \u001b[90m━━━━━━━━━━━━━━━━━━━━━━━━━━━━━━━━━━━━━━━━\u001b[0m \u001b[32m7.9/7.9 MB\u001b[0m \u001b[31m14.3 MB/s\u001b[0m eta \u001b[36m0:00:00\u001b[0m\n",
            "\u001b[?25hRequirement already satisfied: scipy in /usr/local/lib/python3.8/dist-packages (from torch-sparse==0.6.13) (1.7.3)\n",
            "Requirement already satisfied: tqdm in /usr/local/lib/python3.8/dist-packages (from torch-geometric) (4.64.1)\n",
            "Requirement already satisfied: numpy in /usr/local/lib/python3.8/dist-packages (from torch-geometric) (1.21.6)\n",
            "Requirement already satisfied: jinja2 in /usr/local/lib/python3.8/dist-packages (from torch-geometric) (2.11.3)\n",
            "Requirement already satisfied: requests in /usr/local/lib/python3.8/dist-packages (from torch-geometric) (2.25.1)\n",
            "Requirement already satisfied: pyparsing in /usr/local/lib/python3.8/dist-packages (from torch-geometric) (3.0.9)\n",
            "Requirement already satisfied: scikit-learn in /usr/local/lib/python3.8/dist-packages (from torch-geometric) (1.0.2)\n",
            "Collecting psutil>=5.8.0\n",
            "  Downloading psutil-5.9.4-cp36-abi3-manylinux_2_12_x86_64.manylinux2010_x86_64.manylinux_2_17_x86_64.manylinux2014_x86_64.whl (280 kB)\n",
            "\u001b[2K     \u001b[90m━━━━━━━━━━━━━━━━━━━━━━━━━━━━━━━━━━━━━━\u001b[0m \u001b[32m280.2/280.2 KB\u001b[0m \u001b[31m23.4 MB/s\u001b[0m eta \u001b[36m0:00:00\u001b[0m\n",
            "\u001b[?25hRequirement already satisfied: MarkupSafe>=0.23 in /usr/local/lib/python3.8/dist-packages (from jinja2->torch-geometric) (2.0.1)\n",
            "Requirement already satisfied: certifi>=2017.4.17 in /usr/local/lib/python3.8/dist-packages (from requests->torch-geometric) (2022.12.7)\n",
            "Requirement already satisfied: chardet<5,>=3.0.2 in /usr/local/lib/python3.8/dist-packages (from requests->torch-geometric) (4.0.0)\n",
            "Requirement already satisfied: idna<3,>=2.5 in /usr/local/lib/python3.8/dist-packages (from requests->torch-geometric) (2.10)\n",
            "Requirement already satisfied: urllib3<1.27,>=1.21.1 in /usr/local/lib/python3.8/dist-packages (from requests->torch-geometric) (1.24.3)\n",
            "Requirement already satisfied: threadpoolctl>=2.0.0 in /usr/local/lib/python3.8/dist-packages (from scikit-learn->torch-geometric) (3.1.0)\n",
            "Requirement already satisfied: joblib>=0.11 in /usr/local/lib/python3.8/dist-packages (from scikit-learn->torch-geometric) (1.2.0)\n",
            "Building wheels for collected packages: torch-geometric\n",
            "  Building wheel for torch-geometric (setup.py) ... \u001b[?25l\u001b[?25hdone\n",
            "  Created wheel for torch-geometric: filename=torch_geometric-2.2.0-py3-none-any.whl size=773302 sha256=3495a2758abe49a621dd38b6e998cb0d6bcbbcfdd9418aede3a28cebcd28d1a9\n",
            "  Stored in directory: /root/.cache/pip/wheels/59/a3/20/198928106d3169865ae73afcbd3d3d1796cf6b429b55c65378\n",
            "Successfully built torch-geometric\n",
            "Installing collected packages: torch-scatter, psutil, torch-sparse, torch-geometric\n",
            "  Attempting uninstall: psutil\n",
            "    Found existing installation: psutil 5.4.8\n",
            "    Uninstalling psutil-5.4.8:\n",
            "      Successfully uninstalled psutil-5.4.8\n",
            "Successfully installed psutil-5.9.4 torch-geometric-2.2.0 torch-scatter-2.0.9 torch-sparse-0.6.13\n"
          ]
        },
        {
          "output_type": "display_data",
          "data": {
            "application/vnd.colab-display-data+json": {
              "pip_warning": {
                "packages": [
                  "psutil"
                ]
              }
            }
          },
          "metadata": {}
        }
      ],
      "source": [
        "#!pip install torch-scatter==latest+cu101 torch-sparse==latest+cu101 -f https://s3.eu-central-1.amazonaws.com/pytorch-geometric.com/whl/torch-1.5.0.html\n",
        "\"\"\"\n",
        "!pip install torch-geometric\n",
        "!pip install torch-sparse\n",
        "!pip install torch-scatter\"\"\"\n",
        "# MW corrected\n",
        "\n",
        "!pip install torch-geometric \\\n",
        "  torch-sparse==0.6.13 \\\n",
        "  torch-scatter==2.0.9 \\\n",
        "  -f https://pytorch-geometric.com/whl/torch-1.11.0+cu113.html\n"
      ]
    },
    {
      "cell_type": "code",
      "execution_count": null,
      "metadata": {
        "id": "8YLfHA3uSjL_"
      },
      "outputs": [],
      "source": [
        "from torch_geometric.data import Data\n",
        "from torch_geometric.data import DataLoader\n",
        "import torch.nn as nn\n",
        "from torch_scatter import scatter_add\n",
        "import torch.nn.functional as F\n",
        "\n",
        "import ipywidgets as widgets\n",
        "from ipywidgets import interact, interact_manual\n",
        "from IPython.display import clear_output\n",
        "from IPython.display import HTML, display\n",
        "\n",
        "%matplotlib inline\n",
        "\n",
        "# Get rid of RuntimeWarnings, gross\n",
        "import warnings\n",
        "warnings.filterwarnings(\"ignore\", category=RuntimeWarning)"
      ]
    },
    {
      "cell_type": "markdown",
      "metadata": {
        "id": "eusssWsdR73x"
      },
      "source": [
        "## A Simple GNN"
      ]
    },
    {
      "cell_type": "markdown",
      "metadata": {
        "id": "D1FRm4nsR730"
      },
      "source": [
        "### Message Passing GNN"
      ]
    },
    {
      "cell_type": "markdown",
      "metadata": {
        "id": "Gx0VuKz1R732"
      },
      "source": [
        "We can write out the full GNN as a class `MPNN_Network`. One can see its behaviour as:\n",
        "1. Encode (x,y) features as hidden features with an N-layer MLP called `node_encoder`\n",
        "2. Concatenate these along each edge, and feed the concatenated features into another MLP called `edge_network`\n",
        "3. Sum the output of `edge_classifier` at each node (that is, each node receives the sum of the \"messages\" of all connecting edges). This sum is fed into `node_network`\n",
        "4. Add the hidden features to the previous iteration (this helps to preserve information between messages)\n",
        "5. Repeat (2) --> (4) n_graph_iters times\n",
        "6. After the message passing loop, pass the features of each edge through an output classifier network called `edge_classifier`"
      ]
    },
    {
      "cell_type": "code",
      "execution_count": null,
      "metadata": {
        "id": "PEPycV6mR734"
      },
      "outputs": [],
      "source": [
        "def make_mlp(input_size, sizes,\n",
        "             hidden_activation='ReLU',\n",
        "             output_activation='ReLU',\n",
        "             layer_norm=False):\n",
        "    \"\"\"Construct an MLP with specified fully-connected layers.\"\"\"\n",
        "    hidden_activation = getattr(nn, hidden_activation)\n",
        "    if output_activation is not None:\n",
        "        output_activation = getattr(nn, output_activation)\n",
        "    layers = []\n",
        "    n_layers = len(sizes)\n",
        "    sizes = [input_size] + sizes\n",
        "    # Hidden layers\n",
        "    for i in range(n_layers-1):\n",
        "        layers.append(nn.Linear(sizes[i], sizes[i+1]))\n",
        "        if layer_norm:\n",
        "            layers.append(nn.LayerNorm(sizes[i+1]))\n",
        "        layers.append(hidden_activation())\n",
        "    # Final layer\n",
        "    layers.append(nn.Linear(sizes[-2], sizes[-1]))\n",
        "    if output_activation is not None:\n",
        "        if layer_norm:\n",
        "            layers.append(nn.LayerNorm(sizes[-1]))\n",
        "        layers.append(output_activation())\n",
        "    return nn.Sequential(*layers)\n",
        "\n",
        "class MPNN_Network(nn.Module):\n",
        "    \"\"\"\n",
        "    A message-passing graph network which takes a graph with:\n",
        "    - bi-directional edges\n",
        "    - node features, no edge features\n",
        "\n",
        "    and applies the following modules:\n",
        "    - a graph encoder (no message passing)\n",
        "    - recurrent edge and node networks\n",
        "    - an edge classifier\n",
        "    \"\"\"\n",
        "\n",
        "    def __init__(self, input_dim, hidden_node_dim, hidden_edge_dim, in_layers, node_layers, edge_layers,\n",
        "                 n_graph_iters=1, layer_norm=True):\n",
        "        super(MPNN_Network, self).__init__()\n",
        "        self.n_graph_iters = n_graph_iters\n",
        "\n",
        "        # The node encoder transforms input node features to the hidden space\n",
        "        self.node_encoder = make_mlp(input_dim, [hidden_node_dim]*in_layers)\n",
        "\n",
        "        # The edge network computes new edge features from connected nodes\n",
        "        self.edge_network = make_mlp(2*hidden_node_dim,\n",
        "                                     [hidden_edge_dim]*edge_layers,\n",
        "                                     layer_norm=layer_norm)\n",
        "\n",
        "        # The node network computes new node features\n",
        "        self.node_network = make_mlp(hidden_node_dim + hidden_edge_dim,\n",
        "                                     [hidden_node_dim]*node_layers,\n",
        "                                     layer_norm=layer_norm)\n",
        "\n",
        "        # The edge classifier computes final edge scores\n",
        "        self.edge_classifier = make_mlp(2*hidden_node_dim,\n",
        "                                        [hidden_edge_dim, 1],\n",
        "                                        output_activation=None)\n",
        "\n",
        "    def forward(self, data):\n",
        "        # Make every edge bi-directional\n",
        "        send_idx = torch.cat([data.edge_index[0], data.edge_index[1]], dim=0)\n",
        "        recv_idx = torch.cat([data.edge_index[1], data.edge_index[0]], dim=0)\n",
        "\n",
        "        # Encode the graph features into the hidden space\n",
        "        x = self.node_encoder(data.x)\n",
        "\n",
        "        # Loop over graph iterations\n",
        "        for i in range(self.n_graph_iters):\n",
        "\n",
        "            # Previous hidden state\n",
        "            x0 = x\n",
        "\n",
        "            # Compute new edge features\n",
        "            edge_inputs = torch.cat([x[send_idx], x[recv_idx]], dim=1)\n",
        "            e = self.edge_network(edge_inputs)\n",
        "\n",
        "            # Sum edge features coming into each node\n",
        "            aggr_messages = scatter_add(e, recv_idx, dim=0, dim_size=x.shape[0])\n",
        "\n",
        "            # Compute new node features\n",
        "            node_inputs = torch.cat([x, aggr_messages], dim=1)\n",
        "            x = self.node_network(node_inputs)\n",
        "\n",
        "            # Residual connection\n",
        "            x = x + x0\n",
        "\n",
        "        # Compute final edge scores; use original edge directions only\n",
        "        start_idx, end_idx = data.edge_index\n",
        "        clf_inputs = torch.cat([x[start_idx], x[end_idx]], dim=1)\n",
        "        return self.edge_classifier(clf_inputs).squeeze(-1)"
      ]
    },
    {
      "cell_type": "markdown",
      "metadata": {
        "id": "BOsNvEEpR74O"
      },
      "source": [
        "Build a version of the model and print it out."
      ]
    },
    {
      "cell_type": "code",
      "execution_count": null,
      "metadata": {
        "colab": {
          "base_uri": "https://localhost:8080/"
        },
        "id": "5fPSN18uR74Q",
        "outputId": "a5919131-bd26-4ae8-a48a-8da6bbbc26fa"
      },
      "outputs": [
        {
          "output_type": "execute_result",
          "data": {
            "text/plain": [
              "MPNN_Network(\n",
              "  (node_encoder): Sequential(\n",
              "    (0): Linear(in_features=3, out_features=64, bias=True)\n",
              "    (1): ReLU()\n",
              "    (2): Linear(in_features=64, out_features=64, bias=True)\n",
              "    (3): ReLU()\n",
              "  )\n",
              "  (edge_network): Sequential(\n",
              "    (0): Linear(in_features=128, out_features=64, bias=True)\n",
              "    (1): LayerNorm((64,), eps=1e-05, elementwise_affine=True)\n",
              "    (2): ReLU()\n",
              "    (3): Linear(in_features=64, out_features=64, bias=True)\n",
              "    (4): LayerNorm((64,), eps=1e-05, elementwise_affine=True)\n",
              "    (5): ReLU()\n",
              "    (6): Linear(in_features=64, out_features=64, bias=True)\n",
              "    (7): LayerNorm((64,), eps=1e-05, elementwise_affine=True)\n",
              "    (8): ReLU()\n",
              "    (9): Linear(in_features=64, out_features=64, bias=True)\n",
              "    (10): LayerNorm((64,), eps=1e-05, elementwise_affine=True)\n",
              "    (11): ReLU()\n",
              "  )\n",
              "  (node_network): Sequential(\n",
              "    (0): Linear(in_features=128, out_features=64, bias=True)\n",
              "    (1): LayerNorm((64,), eps=1e-05, elementwise_affine=True)\n",
              "    (2): ReLU()\n",
              "    (3): Linear(in_features=64, out_features=64, bias=True)\n",
              "    (4): LayerNorm((64,), eps=1e-05, elementwise_affine=True)\n",
              "    (5): ReLU()\n",
              "    (6): Linear(in_features=64, out_features=64, bias=True)\n",
              "    (7): LayerNorm((64,), eps=1e-05, elementwise_affine=True)\n",
              "    (8): ReLU()\n",
              "    (9): Linear(in_features=64, out_features=64, bias=True)\n",
              "    (10): LayerNorm((64,), eps=1e-05, elementwise_affine=True)\n",
              "    (11): ReLU()\n",
              "  )\n",
              "  (edge_classifier): Sequential(\n",
              "    (0): Linear(in_features=128, out_features=64, bias=True)\n",
              "    (1): ReLU()\n",
              "    (2): Linear(in_features=64, out_features=1, bias=True)\n",
              "  )\n",
              ")"
            ]
          },
          "metadata": {},
          "execution_count": 7
        }
      ],
      "source": [
        "device = torch.device('cuda' if torch.cuda.is_available() else 'cpu')\n",
        "m_configs = {\"input_dim\": 3, \"hidden_node_dim\": 64, \"hidden_edge_dim\": 64, \"in_layers\": 2, \"node_layers\": 4, \"edge_layers\": 4, \"n_graph_iters\": 1, \"layer_norm\": True}\n",
        "model = MPNN_Network(**m_configs).to(device)\n",
        "model"
      ]
    },
    {
      "cell_type": "markdown",
      "metadata": {
        "id": "VSM30cK2R746"
      },
      "source": [
        "### Training"
      ]
    },
    {
      "cell_type": "code",
      "execution_count": null,
      "metadata": {
        "id": "NQrAmWD23j0x"
      },
      "outputs": [],
      "source": [
        "def train(model, train_loader, optimizer):\n",
        "    correct = 0\n",
        "    total = 0\n",
        "    total_loss = 0\n",
        "    for batch in train_loader:\n",
        "        optimizer.zero_grad()\n",
        "        data = batch.to(device)\n",
        "        pred = model(data)\n",
        "        loss = F.binary_cross_entropy_with_logits(pred.float(), data.y.float(), pos_weight=torch.tensor(weight))\n",
        "        loss.backward()\n",
        "        optimizer.step()\n",
        "        total_loss += loss.item()\n",
        "        correct += ((pred > 0.5) == (data.y > 0.5)).sum().item()\n",
        "        total += len(pred)\n",
        "    acc = correct/total\n",
        "    return acc, total_loss\n",
        "\n",
        "def evaluate(model, test_loader):\n",
        "    correct = 0\n",
        "    total = 0\n",
        "    total_loss = 0\n",
        "    for batch in test_loader:\n",
        "        data = batch.to(device)\n",
        "        pred = model(data)\n",
        "        loss = F.binary_cross_entropy_with_logits(pred.float(), data.y.float(), pos_weight=torch.tensor(weight))\n",
        "        total_loss += loss.item()\n",
        "        correct += ((pred > 0.5) == (data.y > 0.5)).sum().item()\n",
        "        total += len(pred)\n",
        "    acc = correct/total\n",
        "    return acc, total_loss"
      ]
    },
    {
      "cell_type": "code",
      "execution_count": null,
      "metadata": {
        "colab": {
          "base_uri": "https://localhost:8080/"
        },
        "id": "T-mGoB8gsrBX",
        "outputId": "1493d9f1-82c1-456e-d017-1c5941d25af5"
      },
      "outputs": [
        {
          "output_type": "stream",
          "name": "stdout",
          "text": [
            "Mounted at /content/drive/\n"
          ]
        }
      ],
      "source": [
        "from google.colab import drive\n",
        "drive.mount('/content/drive/')"
      ]
    },
    {
      "cell_type": "code",
      "source": [
        "import numpy as np, pandas as pd\n",
        "from torch_geometric.data import Data\n",
        "from torch_geometric.data import DataLoader\n",
        "\n",
        "feature_scale_d = 1/10\n",
        "feature_scale_z = 1/1000\n",
        "def phi_d_z(row):\n",
        "  return 0\n",
        "def gen_points(sub_event, hitType_phi):\n",
        "  phis = hitType_phi[sub_event['hitType'].to_numpy(dtype=int)]\n",
        "  ds = sub_event['hitPos'].to_numpy() * feature_scale_d\n",
        "  zs = sub_event['layerZ'].to_numpy() * feature_scale_z\n",
        "  return np.array([phis, ds, zs])\n",
        "\n",
        "def gen_edges(bf, af):\n",
        "  #bf (before) - num of points with 1 hit  per layer\n",
        "  #af (after)  - num of points with 2 hits per layer\n",
        "  #total - total number of points\n",
        "  total = bf + af*2\n",
        "  #this connects the graph like this: ---<===\n",
        "  #and then adds fake edges between two tracks 'X'\n",
        "  #         3 - 4 - 5\n",
        "  # -0-1-2<   X   X\n",
        "  #         6 - 7 - 8\n",
        "  true_edges = [[i, i+1] for i in range(total-1)]\n",
        "  true_edges.append([bf-1, bf + af])\n",
        "  true_edges.remove([bf + af - 1, bf + af])\n",
        "\n",
        "  fake_edges = []\n",
        "  for i in range(af-1):\n",
        "    a = bf + i\n",
        "    b = bf + af + i\n",
        "    fake_edges.append([a, b + 1])\n",
        "    fake_edges.append([b, a + 1])\n",
        "  #[[from],[to]]\n",
        "  edges = np.array(true_edges + fake_edges).T\n",
        "  y = np.append(np.ones(len(true_edges)), np.zeros(len(fake_edges)))\n",
        "  return edges, y\n",
        "\n",
        "def ShuffleIndexSwap(Edges, nIdx):\n",
        "  #changes edges according to the shuffled index\n",
        "  my_dict = {}\n",
        "  for i in range(len(nIdx)):\n",
        "    my_dict[i] = nIdx[i]\n",
        "  \n",
        "  return np.vectorize(my_dict.get)(Edges)\n",
        "\n",
        "def gen3D_event_data(event, hitType_phi):\n",
        "  dfs = []\n",
        "  for num, df_i in event.groupby(event['trackID']):\n",
        "    if num not in [0, 1, 2]:\n",
        "      #raise ValueError(f'Hit type {num} is incorrect')\n",
        "      pass\n",
        "    else:\n",
        "      dfs.append(df_i.sort_values('layerIndex'))\n",
        "  df0, df1, df2 = dfs\n",
        "  p0s = gen_points(df0, hitType_phi)\n",
        "  p1s = gen_points(df1, hitType_phi)\n",
        "  p2s = gen_points(df2, hitType_phi)\n",
        "  x = np.concatenate((p0s, p1s, p2s), axis=1).T\n",
        "  edges, y = gen_edges(p0s.shape[1], p1s.shape[1])\n",
        "  #as of now the data is not shuffled at all, so:\n",
        "  #shuffling points:\n",
        "  nIdx = np.arange(len(x))\n",
        "  np.random.shuffle(nIdx)\n",
        "  edges = ShuffleIndexSwap(edges, nIdx)\n",
        "  x[nIdx] = x.copy()\n",
        "  #shuffling edges:\n",
        "  \n",
        "  neidx = np.arange(len(y))\n",
        "  np.random.shuffle(neidx)\n",
        "  edges[0] = edges[0][neidx]\n",
        "  edges[1] = edges[1][neidx]\n",
        "  y = y[neidx]\n",
        "\n",
        "  #combining into Data:\n",
        "  event_data = Data(x = torch.from_numpy(x).float(), edge_index = torch.from_numpy(edges), y = torch.from_numpy(y))\n",
        "  return event_data\n",
        "\n",
        "def LoadHitFile(event_file, hitType_phi):\n",
        "  data = pd.read_csv(event_file)\n",
        "  data.rename(columns=lambda x: x.strip(), inplace=True)\n",
        "  event_data_list = []\n",
        "  for num, event in data.groupby(data['nEvent']):\n",
        "    try:\n",
        "      event_data_list.append(gen3D_event_data(event, hitType_phi))\n",
        "    except Exception as e:\n",
        "      #print(f'Event number {num} unusable.')\n",
        "      #print(e)\n",
        "      #as of now an error is raised when a particle doesn't reach the 15th layer\n",
        "      pass\n",
        "  return event_data_list\n"
      ],
      "metadata": {
        "id": "35UU8D18WJey"
      },
      "execution_count": null,
      "outputs": []
    },
    {
      "cell_type": "code",
      "source": [
        "event_file= \"/content/drive/My Drive/MuonE_tracking/hitFile_small.csv\"\n",
        "data = pd.read_csv(event_file)\n",
        "data.rename(columns=lambda x: x.strip(), inplace=True)\n",
        "\n",
        "#angle between detection axis and x axis for hit type i\n",
        "hitType_phi = np.array([0, np.pi/2, np.pi/4, -np.pi/4])"
      ],
      "metadata": {
        "id": "1xIGhfLYIzZT"
      },
      "execution_count": null,
      "outputs": []
    },
    {
      "cell_type": "code",
      "source": [
        "dataset = LoadHitFile(event_file, hitType_phi)"
      ],
      "metadata": {
        "id": "yG8zD0J8vlov"
      },
      "execution_count": null,
      "outputs": []
    },
    {
      "cell_type": "code",
      "source": [
        "from sklearn.model_selection import train_test_split\n",
        "train_dataset, test_dataset = train_test_split(dataset, test_size=0.2, random_state=42)\n",
        "train_loader = DataLoader(train_dataset, batch_size=100, shuffle=True)\n",
        "test_loader = DataLoader(test_dataset, batch_size=100, shuffle=True)"
      ],
      "metadata": {
        "colab": {
          "base_uri": "https://localhost:8080/"
        },
        "id": "dwaWg3MKR0CT",
        "outputId": "d56d3f32-d3bd-443a-9439-65b7f02c8c52"
      },
      "execution_count": null,
      "outputs": [
        {
          "output_type": "stream",
          "name": "stderr",
          "text": [
            "/usr/local/lib/python3.8/dist-packages/torch_geometric/deprecation.py:12: UserWarning:\n",
            "\n",
            "'data.DataLoader' is deprecated, use 'loader.DataLoader' instead\n",
            "\n"
          ]
        }
      ]
    },
    {
      "cell_type": "code",
      "source": [
        "train_dataset[0]"
      ],
      "metadata": {
        "colab": {
          "base_uri": "https://localhost:8080/"
        },
        "id": "XMpGEMZZ2ju2",
        "outputId": "fcd14b8e-8323-436c-8248-92bf22261752"
      },
      "execution_count": null,
      "outputs": [
        {
          "output_type": "execute_result",
          "data": {
            "text/plain": [
              "Data(x=[26, 3], edge_index=[2, 43], y=[43])"
            ]
          },
          "metadata": {},
          "execution_count": 46
        }
      ]
    },
    {
      "cell_type": "code",
      "source": [
        "event = data[data['nEvent'] == 2]\n",
        "print(gen3D_event_data(event, hitType_phi))"
      ],
      "metadata": {
        "colab": {
          "base_uri": "https://localhost:8080/"
        },
        "id": "1HccXbvq3rW1",
        "outputId": "dceb8727-ba08-464f-e4ae-d8993ca8d0d4"
      },
      "execution_count": null,
      "outputs": [
        {
          "output_type": "stream",
          "name": "stdout",
          "text": [
            "Data(x=[26, 3], edge_index=[2, 43], y=[43])\n"
          ]
        }
      ]
    },
    {
      "cell_type": "code",
      "source": [
        "print(train_dataset[0].x,\n",
        "train_dataset[0].edge_index,\n",
        "train_dataset[0].y)"
      ],
      "metadata": {
        "colab": {
          "base_uri": "https://localhost:8080/"
        },
        "id": "OAUC4Mk82pZz",
        "outputId": "fc409285-1474-478c-de77-c949fde79885"
      },
      "execution_count": null,
      "outputs": [
        {
          "output_type": "stream",
          "name": "stdout",
          "text": [
            "tensor([[ 0.0000e+00,  2.3124e+00,  1.9600e+00],\n",
            "        [ 0.0000e+00,  1.8969e-02,  1.2660e+00],\n",
            "        [ 1.5708e+00, -3.9622e-01,  8.3200e-01],\n",
            "        [ 1.5708e+00, -8.1466e-01,  1.1460e+00],\n",
            "        [ 0.0000e+00,  1.1568e+00,  1.2660e+00],\n",
            "        [ 1.5708e+00, -1.2650e+00,  1.4796e+00],\n",
            "        [ 1.5708e+00, -6.2962e-03,  8.3200e-01],\n",
            "        [-7.8540e-01,  3.1549e-02,  1.4674e+00],\n",
            "        [ 1.5708e+00, -1.3312e-02,  1.1460e+00],\n",
            "        [ 1.5708e+00, -1.9539e+00,  1.9730e+00],\n",
            "        [ 1.5708e+00, -3.5069e-04,  4.7700e-01],\n",
            "        [ 0.0000e+00,  1.5726e-02,  1.1410e+00],\n",
            "        [ 0.0000e+00,  4.8924e-01,  8.4370e-01],\n",
            "        [ 0.0000e+00, -2.6839e-05,  1.5100e-01],\n",
            "        [ 1.5708e+00, -1.3497e-04,  1.3100e-01],\n",
            "        [ 0.0000e+00,  1.8370e-09, -2.1000e-02],\n",
            "        [ 7.8540e-01,  1.2575e-01,  1.2527e+00],\n",
            "        [ 1.5708e+00, -2.3920e-06, -1.6000e-02],\n",
            "        [ 7.8540e-01,  2.1061e-03,  1.2527e+00],\n",
            "        [-7.8540e-01,  1.9408e+00,  1.4674e+00],\n",
            "        [ 0.0000e+00,  7.9581e-03,  8.4370e-01],\n",
            "        [ 0.0000e+00,  1.1478e-04,  4.9700e-01],\n",
            "        [ 1.5708e+00, -3.2228e-02,  1.9730e+00],\n",
            "        [ 0.0000e+00,  3.7022e-02,  1.9600e+00],\n",
            "        [ 1.5708e+00, -2.0722e-02,  1.4796e+00],\n",
            "        [ 0.0000e+00,  9.4779e-01,  1.1410e+00]]) tensor([[15, 14, 11, 25,  6,  3,  9, 22, 20, 12, 22, 24, 24,  8, 18, 11, 20, 21,\n",
            "         13,  4, 16,  6, 21, 19,  3,  2, 25,  1, 10,  2,  8, 19, 17,  7,  9,  5,\n",
            "          5, 18,  7,  1, 12, 16,  4],\n",
            "        [14, 13, 18, 18, 20, 11, 23,  0,  3,  8, 23, 19,  7, 11,  4, 16,  8,  6,\n",
            "         10,  5,  1, 12,  2, 22, 25, 12, 16, 24, 21, 20, 25,  9, 15,  9,  0, 19,\n",
            "          7,  1, 22,  5,  3,  4, 24]]) tensor([1., 1., 1., 0., 1., 0., 0., 0., 0., 0., 1., 0., 1., 1., 0., 0., 1., 1.,\n",
            "        1., 1., 0., 0., 1., 0., 1., 1., 1., 1., 1., 0., 0., 1., 1., 0., 1., 1.,\n",
            "        0., 1., 1., 0., 1., 1., 0.], dtype=torch.float64)\n"
          ]
        }
      ]
    },
    {
      "cell_type": "code",
      "source": [
        "weight = ((len(train_dataset[0].y) - train_dataset[0].y.sum().item()) / train_dataset[0].y.sum().item())\n",
        "print(\"True / Fake = \", 1/weight)\n",
        "print(\"Fake / True = \", weight)"
      ],
      "metadata": {
        "colab": {
          "base_uri": "https://localhost:8080/"
        },
        "id": "L2n9qqgz22V4",
        "outputId": "714b6e2b-8fbd-458d-e404-f2609ede4636"
      },
      "execution_count": null,
      "outputs": [
        {
          "output_type": "stream",
          "name": "stdout",
          "text": [
            "True / Fake =  1.3888888888888888\n",
            "Fake / True =  0.72\n"
          ]
        }
      ]
    },
    {
      "cell_type": "code",
      "source": [
        "t_loss_v = []\n",
        "t_acc_v = []\n",
        "v_loss_v = []\n",
        "v_acc_v = []\n",
        "ep = 0\n",
        "\n",
        "#weight = 2\n",
        "\n",
        "m_configs = {\"input_dim\": 3, \"hidden_node_dim\": 64, \"hidden_edge_dim\": 32, \"in_layers\": 4, \"node_layers\": 4, \"edge_layers\": 4, \"n_graph_iters\": 20, \"layer_norm\": True}\n",
        "model = MPNN_Network(**m_configs).to(device)\n",
        "\n",
        "optimizer = torch.optim.Adam(model.parameters(), lr=0.0001, weight_decay=1e-4, amsgrad=True)\n",
        "\n",
        "t_loss_v = []\n",
        "t_acc_v = []\n",
        "v_loss_v = []\n",
        "v_acc_v = []\n",
        "ep = 0\n",
        "for epoch in range(50):\n",
        "    ep += 1  \n",
        "    model.train()\n",
        "    acc, total_loss = train(model, train_loader, optimizer)\n",
        "    t_loss_v.append(total_loss)\n",
        "    t_acc_v.append(acc)\n",
        "\n",
        "    model.eval()\n",
        "    acc, total_loss = evaluate(model, test_loader)\n",
        "    v_loss_v.append(total_loss)\n",
        "    v_acc_v.append(acc)\n",
        "\n",
        "    print('Epoch: {}, Accuracy: {:.4f}'.format(ep, acc))\n"
      ],
      "metadata": {
        "colab": {
          "base_uri": "https://localhost:8080/"
        },
        "id": "fbRAMltgFlAV",
        "outputId": "5c6feeca-454c-47af-8436-a31c61da501b"
      },
      "execution_count": null,
      "outputs": [
        {
          "output_type": "stream",
          "name": "stdout",
          "text": [
            "Epoch: 1, Accuracy: 0.5820\n",
            "Epoch: 2, Accuracy: 0.4186\n",
            "Epoch: 3, Accuracy: 0.4419\n",
            "Epoch: 4, Accuracy: 0.4419\n",
            "Epoch: 5, Accuracy: 0.5349\n",
            "Epoch: 6, Accuracy: 0.5814\n",
            "Epoch: 7, Accuracy: 0.5814\n",
            "Epoch: 8, Accuracy: 0.5814\n",
            "Epoch: 9, Accuracy: 0.5814\n",
            "Epoch: 10, Accuracy: 0.5814\n",
            "Epoch: 11, Accuracy: 0.5814\n",
            "Epoch: 12, Accuracy: 0.5814\n",
            "Epoch: 13, Accuracy: 0.5814\n",
            "Epoch: 14, Accuracy: 0.5814\n",
            "Epoch: 15, Accuracy: 0.5814\n",
            "Epoch: 16, Accuracy: 0.5814\n",
            "Epoch: 17, Accuracy: 0.5814\n",
            "Epoch: 18, Accuracy: 0.5814\n",
            "Epoch: 19, Accuracy: 0.5814\n",
            "Epoch: 20, Accuracy: 0.5814\n",
            "Epoch: 21, Accuracy: 0.5814\n",
            "Epoch: 22, Accuracy: 0.5814\n",
            "Epoch: 23, Accuracy: 0.5814\n",
            "Epoch: 24, Accuracy: 0.5814\n",
            "Epoch: 25, Accuracy: 0.5814\n",
            "Epoch: 26, Accuracy: 0.5814\n",
            "Epoch: 27, Accuracy: 0.5814\n",
            "Epoch: 28, Accuracy: 0.5814\n",
            "Epoch: 29, Accuracy: 0.5814\n",
            "Epoch: 30, Accuracy: 0.5814\n",
            "Epoch: 31, Accuracy: 0.5814\n",
            "Epoch: 32, Accuracy: 0.5814\n",
            "Epoch: 33, Accuracy: 0.5814\n",
            "Epoch: 34, Accuracy: 0.5814\n",
            "Epoch: 35, Accuracy: 0.5814\n",
            "Epoch: 36, Accuracy: 0.5814\n",
            "Epoch: 37, Accuracy: 0.5814\n",
            "Epoch: 38, Accuracy: 0.5814\n",
            "Epoch: 39, Accuracy: 0.5814\n",
            "Epoch: 40, Accuracy: 0.5814\n",
            "Epoch: 41, Accuracy: 0.5814\n",
            "Epoch: 42, Accuracy: 0.5814\n",
            "Epoch: 43, Accuracy: 0.5814\n",
            "Epoch: 44, Accuracy: 0.5814\n",
            "Epoch: 45, Accuracy: 0.5814\n",
            "Epoch: 46, Accuracy: 0.5814\n",
            "Epoch: 47, Accuracy: 0.5814\n",
            "Epoch: 48, Accuracy: 0.5814\n",
            "Epoch: 49, Accuracy: 0.5814\n",
            "Epoch: 50, Accuracy: 0.5814\n"
          ]
        }
      ]
    },
    {
      "cell_type": "code",
      "source": [
        "fig, axs = plt.subplots(1, 2, constrained_layout=True, figsize=(10, 5))\n",
        "axs[0].set_title(\"loss\")\n",
        "axs[0].set_yscale(\"linear\")\n",
        "axs[0].plot(np.arange(len(t_loss_v)), t_loss_v, label='train')\n",
        "axs[0].plot(np.arange(len(v_loss_v)), v_loss_v, label='validation')\n",
        "axs[0].legend()\n",
        "\n",
        "axs[1].set_title(\"accuracy\")\n",
        "axs[1].plot(np.arange(len(t_acc_v)), t_acc_v, label='train')\n",
        "axs[1].plot(np.arange(len(v_acc_v)), v_acc_v, label='validation')\n",
        "axs[1].legend()\n",
        "axs[1].set_yscale(\"linear\")"
      ],
      "metadata": {
        "colab": {
          "base_uri": "https://localhost:8080/",
          "height": 385
        },
        "id": "RDn3863eHabS",
        "outputId": "f09a93dd-b4b8-40f6-bf1c-7874343e959d"
      },
      "execution_count": null,
      "outputs": [
        {
          "output_type": "display_data",
          "data": {
            "text/plain": [
              "<Figure size 720x360 with 2 Axes>"
            ],
            "image/png": "[encoded data removed]"
          },
          "metadata": {
            "needs_background": "light"
          }
        }
      ]
    },
    {
      "cell_type": "code",
      "source": [
        "import plotly.express as px\n",
        "def xy_from_phi(phi, d, r):\n",
        "  x = np.cos(phi)*d + np.sin(phi)*r\n",
        "  y = np.sin(phi)*d - np.cos(phi)*r\n",
        "  return x, y\n",
        "def plot_strips_3D(data):\n",
        "  r = 1\n",
        "  phis, ds, zs = data.x[:,0].numpy(), data.x[:,1].numpy(), data.x[:,2].numpy()\n",
        "  df = pd.DataFrame([], columns=['x', 'y', 'z', 'label'])\n",
        "  for j, phi, d, z in zip(range(len(phis)), phis, ds, zs):\n",
        "    p1 = [*xy_from_phi(phi, d, +r), z, j]\n",
        "    p2 = [*xy_from_phi(phi, d, -r), z, j]\n",
        "    print(phi)\n",
        "    df2 = pd.DataFrame([p1, p2], columns=['x', 'y', 'z', 'label'])\n",
        "    df = df.append(df2, ignore_index=True)\n",
        "  fig = px.line_3d(df, x='x', y='y', z='z', line_group='label')\n",
        "  fig.show()"
      ],
      "metadata": {
        "id": "_zntoun5Iifr"
      },
      "execution_count": null,
      "outputs": []
    },
    {
      "cell_type": "code",
      "source": [
        "plot_strips_3D(train_dataset[5])"
      ],
      "metadata": {
        "colab": {
          "base_uri": "https://localhost:8080/",
          "height": 993
        },
        "id": "WJxJzbdqHe-z",
        "outputId": "a3a0367c-8eb7-44ff-dbe3-26ef50e886a9"
      },
      "execution_count": null,
      "outputs": [
        {
          "output_type": "stream",
          "name": "stdout",
          "text": [
            "1.5707964\n",
            "0.0\n",
            "1.5707964\n",
            "0.0\n",
            "0.0\n",
            "1.5707964\n",
            "0.7853982\n",
            "0.0\n",
            "1.5707964\n",
            "0.0\n",
            "0.0\n",
            "0.0\n",
            "0.0\n",
            "1.5707964\n",
            "0.0\n",
            "0.0\n",
            "1.5707964\n",
            "1.5707964\n",
            "0.0\n",
            "1.5707964\n",
            "1.5707964\n",
            "0.7853982\n",
            "-0.7853982\n",
            "-0.7853982\n",
            "1.5707964\n",
            "1.5707964\n"
          ]
        },
        {
          "output_type": "display_data",
          "data": {
            "text/html": [
              "<html>\n",
              "<head><meta charset=\"utf-8\" /></head>\n",
              "<body>\n",
              "    <div>            <script src=\"https://cdnjs.cloudflare.com/ajax/libs/mathjax/2.7.5/MathJax.js?config=TeX-AMS-MML_SVG\"></script><script type=\"text/javascript\">if (window.MathJax) {MathJax.Hub.Config({SVG: {font: \"STIX-Web\"}});}</script>                <script type=\"text/javascript\">window.PlotlyConfig = {MathJaxConfig: 'local'};</script>\n",
              "        <script src=\"https://cdn.plot.ly/plotly-2.8.3.min.js\"></script>                <div id=\"1435a0a5-6581-4d91-a939-c18cb8558176\" class=\"plotly-graph-div\" style=\"height:525px; width:100%;\"></div>            <script type=\"text/javascript\">                                    window.PLOTLYENV=window.PLOTLYENV || {};                                    if (document.getElementById(\"1435a0a5-6581-4d91-a939-c18cb8558176\")) {                    Plotly.newPlot(                        \"1435a0a5-6581-4d91-a939-c18cb8558176\",                        [{\"hovertemplate\":\"label=0<br>x=%{x}<br>y=%{y}<br>z=%{z}<extra></extra>\",\"legendgroup\":\"\",\"line\":{\"color\":\"#636efa\",\"dash\":\"solid\"},\"marker\":{\"symbol\":\"circle\"},\"mode\":\"lines\",\"name\":\"\",\"scene\":\"scene\",\"showlegend\":false,\"x\":[0.9999998792892626,-1.0000001207107374],\"y\":[2.761539979777062,2.7615398923542855],\"z\":[1.9730000495910645,1.9730000495910645],\"type\":\"scatter3d\"},{\"hovertemplate\":\"label=1<br>x=%{x}<br>y=%{y}<br>z=%{z}<extra></extra>\",\"legendgroup\":\"\",\"line\":{\"color\":\"#636efa\",\"dash\":\"solid\"},\"marker\":{\"symbol\":\"circle\"},\"mode\":\"lines\",\"name\":\"\",\"scene\":\"scene\",\"showlegend\":false,\"x\":[-0.006656229961663485,-0.006656229961663485],\"y\":[-1.0,1.0],\"z\":[0.8436999917030334,0.8436999917030334],\"type\":\"scatter3d\"},{\"hovertemplate\":\"label=2<br>x=%{x}<br>y=%{y}<br>z=%{z}<extra></extra>\",\"legendgroup\":\"\",\"line\":{\"color\":\"#636efa\",\"dash\":\"solid\"},\"marker\":{\"symbol\":\"circle\"},\"mode\":\"lines\",\"name\":\"\",\"scene\":\"scene\",\"showlegend\":false,\"x\":[0.9999999999998592,-1.0000000000001408],\"y\":[3.2652614478934083e-06,3.1778386713199325e-06],\"z\":[0.13099999725818634,0.13099999725818634],\"type\":\"scatter3d\"},{\"hovertemplate\":\"label=3<br>x=%{x}<br>y=%{y}<br>z=%{z}<extra></extra>\",\"legendgroup\":\"\",\"line\":{\"color\":\"#636efa\",\"dash\":\"solid\"},\"marker\":{\"symbol\":\"circle\"},\"mode\":\"lines\",\"name\":\"\",\"scene\":\"scene\",\"showlegend\":false,\"x\":[-0.01571209914982319,-0.01571209914982319],\"y\":[-1.0,1.0],\"z\":[1.2660000324249268,1.2660000324249268],\"type\":\"scatter3d\"},{\"hovertemplate\":\"label=4<br>x=%{x}<br>y=%{y}<br>z=%{z}<extra></extra>\",\"legendgroup\":\"\",\"line\":{\"color\":\"#636efa\",\"dash\":\"solid\"},\"marker\":{\"symbol\":\"circle\"},\"mode\":\"lines\",\"name\":\"\",\"scene\":\"scene\",\"showlegend\":false,\"x\":[-0.031525298953056335,-0.031525298953056335],\"y\":[-1.0,1.0],\"z\":[1.9600000381469727,1.9600000381469727],\"type\":\"scatter3d\"},{\"hovertemplate\":\"label=5<br>x=%{x}<br>y=%{y}<br>z=%{z}<extra></extra>\",\"legendgroup\":\"\",\"line\":{\"color\":\"#636efa\",\"dash\":\"solid\"},\"marker\":{\"symbol\":\"circle\"},\"mode\":\"lines\",\"name\":\"\",\"scene\":\"scene\",\"showlegend\":false,\"x\":[0.9999999218055748,-1.0000000781944252],\"y\":[1.788880034289086,1.7888799468663095],\"z\":[1.479599952697754,1.479599952697754],\"type\":\"scatter3d\"},{\"hovertemplate\":\"label=6<br>x=%{x}<br>y=%{y}<br>z=%{z}<extra></extra>\",\"legendgroup\":\"\",\"line\":{\"color\":\"#636efa\",\"dash\":\"solid\"},\"marker\":{\"symbol\":\"circle\"},\"mode\":\"lines\",\"name\":\"\",\"scene\":\"scene\",\"showlegend\":false,\"x\":[1.6911094784736633,0.2768959403038025],\"y\":[0.2768959403038025,1.6911094784736633],\"z\":[1.2526999711990356,1.2526999711990356],\"type\":\"scatter3d\"},{\"hovertemplate\":\"label=7<br>x=%{x}<br>y=%{y}<br>z=%{z}<extra></extra>\",\"legendgroup\":\"\",\"line\":{\"color\":\"#636efa\",\"dash\":\"solid\"},\"marker\":{\"symbol\":\"circle\"},\"mode\":\"lines\",\"name\":\"\",\"scene\":\"scene\",\"showlegend\":false,\"x\":[-6.218510151256851e-08,-6.218510151256851e-08],\"y\":[-1.0,1.0],\"z\":[-0.020999999716877937,-0.020999999716877937],\"type\":\"scatter3d\"},{\"hovertemplate\":\"label=8<br>x=%{x}<br>y=%{y}<br>z=%{z}<extra></extra>\",\"legendgroup\":\"\",\"line\":{\"color\":\"#636efa\",\"dash\":\"solid\"},\"marker\":{\"symbol\":\"circle\"},\"mode\":\"lines\",\"name\":\"\",\"scene\":\"scene\",\"showlegend\":false,\"x\":[0.9999999500947077,-1.0000000499052923],\"y\":[1.1417000730845572,1.1416999856617807],\"z\":[1.1460000276565552,1.1460000276565552],\"type\":\"scatter3d\"},{\"hovertemplate\":\"label=9<br>x=%{x}<br>y=%{y}<br>z=%{z}<extra></extra>\",\"legendgroup\":\"\",\"line\":{\"color\":\"#636efa\",\"dash\":\"solid\"},\"marker\":{\"symbol\":\"circle\"},\"mode\":\"lines\",\"name\":\"\",\"scene\":\"scene\",\"showlegend\":false,\"x\":[-8.744659862713888e-05,-8.744659862713888e-05],\"y\":[-1.0,1.0],\"z\":[0.1509999930858612,0.1509999930858612],\"type\":\"scatter3d\"},{\"hovertemplate\":\"label=10<br>x=%{x}<br>y=%{y}<br>z=%{z}<extra></extra>\",\"legendgroup\":\"\",\"line\":{\"color\":\"#636efa\",\"dash\":\"solid\"},\"marker\":{\"symbol\":\"circle\"},\"mode\":\"lines\",\"name\":\"\",\"scene\":\"scene\",\"showlegend\":false,\"x\":[1.30826997756958,1.30826997756958],\"y\":[-1.0,1.0],\"z\":[1.9600000381469727,1.9600000381469727],\"type\":\"scatter3d\"},{\"hovertemplate\":\"label=11<br>x=%{x}<br>y=%{y}<br>z=%{z}<extra></extra>\",\"legendgroup\":\"\",\"line\":{\"color\":\"#636efa\",\"dash\":\"solid\"},\"marker\":{\"symbol\":\"circle\"},\"mode\":\"lines\",\"name\":\"\",\"scene\":\"scene\",\"showlegend\":false,\"x\":[-0.0003518679877743125,-0.0003518679877743125],\"y\":[-1.0,1.0],\"z\":[0.4970000088214874,0.4970000088214874],\"type\":\"scatter3d\"},{\"hovertemplate\":\"label=12<br>x=%{x}<br>y=%{y}<br>z=%{z}<extra></extra>\",\"legendgroup\":\"\",\"line\":{\"color\":\"#636efa\",\"dash\":\"solid\"},\"marker\":{\"symbol\":\"circle\"},\"mode\":\"lines\",\"name\":\"\",\"scene\":\"scene\",\"showlegend\":false,\"x\":[0.26201799511909485,0.26201799511909485],\"y\":[-1.0,1.0],\"z\":[0.8436999917030334,0.8436999917030334],\"type\":\"scatter3d\"},{\"hovertemplate\":\"label=13<br>x=%{x}<br>y=%{y}<br>z=%{z}<extra></extra>\",\"legendgroup\":\"\",\"line\":{\"color\":\"#636efa\",\"dash\":\"solid\"},\"marker\":{\"symbol\":\"circle\"},\"mode\":\"lines\",\"name\":\"\",\"scene\":\"scene\",\"showlegend\":false,\"x\":[0.9999999984667225,-1.0000000015332775],\"y\":[0.03507734363409298,0.03507725621131641],\"z\":[1.9730000495910645,1.9730000495910645],\"type\":\"scatter3d\"},{\"hovertemplate\":\"label=14<br>x=%{x}<br>y=%{y}<br>z=%{z}<extra></extra>\",\"legendgroup\":\"\",\"line\":{\"color\":\"#636efa\",\"dash\":\"solid\"},\"marker\":{\"symbol\":\"circle\"},\"mode\":\"lines\",\"name\":\"\",\"scene\":\"scene\",\"showlegend\":false,\"x\":[0.6284149885177612,0.6284149885177612],\"y\":[-1.0,1.0],\"z\":[1.2660000324249268,1.2660000324249268],\"type\":\"scatter3d\"},{\"hovertemplate\":\"label=15<br>x=%{x}<br>y=%{y}<br>z=%{z}<extra></extra>\",\"legendgroup\":\"\",\"line\":{\"color\":\"#636efa\",\"dash\":\"solid\"},\"marker\":{\"symbol\":\"circle\"},\"mode\":\"lines\",\"name\":\"\",\"scene\":\"scene\",\"showlegend\":false,\"x\":[-0.01299550011754036,-0.01299550011754036],\"y\":[-1.0,1.0],\"z\":[1.1410000324249268,1.1410000324249268],\"type\":\"scatter3d\"},{\"hovertemplate\":\"label=16<br>x=%{x}<br>y=%{y}<br>z=%{z}<extra></extra>\",\"legendgroup\":\"\",\"line\":{\"color\":\"#636efa\",\"dash\":\"solid\"},\"marker\":{\"symbol\":\"circle\"},\"mode\":\"lines\",\"name\":\"\",\"scene\":\"scene\",\"showlegend\":false,\"x\":[0.9999999999937682,-1.000000000006232],\"y\":[0.000142611706159812,0.00014252428338323853],\"z\":[0.47699999809265137,0.47699999809265137],\"type\":\"scatter3d\"},{\"hovertemplate\":\"label=17<br>x=%{x}<br>y=%{y}<br>z=%{z}<extra></extra>\",\"legendgroup\":\"\",\"line\":{\"color\":\"#636efa\",\"dash\":\"solid\"},\"marker\":{\"symbol\":\"circle\"},\"mode\":\"lines\",\"name\":\"\",\"scene\":\"scene\",\"showlegend\":false,\"x\":[0.9999999993557553,-1.0000000006442447],\"y\":[0.014738643481159386,0.014738556058382812],\"z\":[1.1460000276565552,1.1460000276565552],\"type\":\"scatter3d\"},{\"hovertemplate\":\"label=18<br>x=%{x}<br>y=%{y}<br>z=%{z}<extra></extra>\",\"legendgroup\":\"\",\"line\":{\"color\":\"#636efa\",\"dash\":\"solid\"},\"marker\":{\"symbol\":\"circle\"},\"mode\":\"lines\",\"name\":\"\",\"scene\":\"scene\",\"showlegend\":false,\"x\":[0.5133829712867737,0.5133829712867737],\"y\":[-1.0,1.0],\"z\":[1.1410000324249268,1.1410000324249268],\"type\":\"scatter3d\"},{\"hovertemplate\":\"label=19<br>x=%{x}<br>y=%{y}<br>z=%{z}<extra></extra>\",\"legendgroup\":\"\",\"line\":{\"color\":\"#636efa\",\"dash\":\"solid\"},\"marker\":{\"symbol\":\"circle\"},\"mode\":\"lines\",\"name\":\"\",\"scene\":\"scene\",\"showlegend\":false,\"x\":[0.999999999685194,-1.000000000314806],\"y\":[0.007201963509196219,0.007201876086419645],\"z\":[0.8320000171661377,0.8320000171661377],\"type\":\"scatter3d\"},{\"hovertemplate\":\"label=20<br>x=%{x}<br>y=%{y}<br>z=%{z}<extra></extra>\",\"legendgroup\":\"\",\"line\":{\"color\":\"#636efa\",\"dash\":\"solid\"},\"marker\":{\"symbol\":\"circle\"},\"mode\":\"lines\",\"name\":\"\",\"scene\":\"scene\",\"showlegend\":false,\"x\":[0.999999999001505,-1.000000000998495],\"y\":[0.022842944538915333,0.02284285711613876],\"z\":[1.479599952697754,1.479599952697754],\"type\":\"scatter3d\"},{\"hovertemplate\":\"label=21<br>x=%{x}<br>y=%{y}<br>z=%{z}<extra></extra>\",\"legendgroup\":\"\",\"line\":{\"color\":\"#636efa\",\"dash\":\"solid\"},\"marker\":{\"symbol\":\"circle\"},\"mode\":\"lines\",\"name\":\"\",\"scene\":\"scene\",\"showlegend\":false,\"x\":[0.7080317849759012,-0.7061817531939596],\"y\":[-0.7061817531939596,0.7080317849759012],\"z\":[1.2526999711990356,1.2526999711990356],\"type\":\"scatter3d\"},{\"hovertemplate\":\"label=22<br>x=%{x}<br>y=%{y}<br>z=%{z}<extra></extra>\",\"legendgroup\":\"\",\"line\":{\"color\":\"#636efa\",\"dash\":\"solid\"},\"marker\":{\"symbol\":\"circle\"},\"mode\":\"lines\",\"name\":\"\",\"scene\":\"scene\",\"showlegend\":false,\"x\":[-0.7285147793591022,0.6856987588107586],\"y\":[-0.6856987588107586,0.7285147793591022],\"z\":[1.4673999547958374,1.4673999547958374],\"type\":\"scatter3d\"},{\"hovertemplate\":\"label=23<br>x=%{x}<br>y=%{y}<br>z=%{z}<extra></extra>\",\"legendgroup\":\"\",\"line\":{\"color\":\"#636efa\",\"dash\":\"solid\"},\"marker\":{\"symbol\":\"circle\"},\"mode\":\"lines\",\"name\":\"\",\"scene\":\"scene\",\"showlegend\":false,\"x\":[-1.1773483455181122,0.23686519265174866],\"y\":[-0.23686519265174866,1.1773483455181122],\"z\":[1.4673999547958374,1.4673999547958374],\"type\":\"scatter3d\"},{\"hovertemplate\":\"label=24<br>x=%{x}<br>y=%{y}<br>z=%{z}<extra></extra>\",\"legendgroup\":\"\",\"line\":{\"color\":\"#636efa\",\"dash\":\"solid\"},\"marker\":{\"symbol\":\"circle\"},\"mode\":\"lines\",\"name\":\"\",\"scene\":\"scene\",\"showlegend\":false,\"x\":[0.9999999999999885,-1.0000000000000115],\"y\":[3.073653758178807e-07,2.1994259924440485e-07],\"z\":[-0.01600000075995922,-0.01600000075995922],\"type\":\"scatter3d\"},{\"hovertemplate\":\"label=25<br>x=%{x}<br>y=%{y}<br>z=%{z}<extra></extra>\",\"legendgroup\":\"\",\"line\":{\"color\":\"#636efa\",\"dash\":\"solid\"},\"marker\":{\"symbol\":\"circle\"},\"mode\":\"lines\",\"name\":\"\",\"scene\":\"scene\",\"showlegend\":false,\"x\":[0.9999999753206801,-1.00000002467932],\"y\":[0.5645970543238761,0.5645969669010995],\"z\":[0.8320000171661377,0.8320000171661377],\"type\":\"scatter3d\"}],                        {\"template\":{\"data\":{\"bar\":[{\"error_x\":{\"color\":\"#2a3f5f\"},\"error_y\":{\"color\":\"#2a3f5f\"},\"marker\":{\"line\":{\"color\":\"#E5ECF6\",\"width\":0.5},\"pattern\":{\"fillmode\":\"overlay\",\"size\":10,\"solidity\":0.2}},\"type\":\"bar\"}],\"barpolar\":[{\"marker\":{\"line\":{\"color\":\"#E5ECF6\",\"width\":0.5},\"pattern\":{\"fillmode\":\"overlay\",\"size\":10,\"solidity\":0.2}},\"type\":\"barpolar\"}],\"carpet\":[{\"aaxis\":{\"endlinecolor\":\"#2a3f5f\",\"gridcolor\":\"white\",\"linecolor\":\"white\",\"minorgridcolor\":\"white\",\"startlinecolor\":\"#2a3f5f\"},\"baxis\":{\"endlinecolor\":\"#2a3f5f\",\"gridcolor\":\"white\",\"linecolor\":\"white\",\"minorgridcolor\":\"white\",\"startlinecolor\":\"#2a3f5f\"},\"type\":\"carpet\"}],\"choropleth\":[{\"colorbar\":{\"outlinewidth\":0,\"ticks\":\"\"},\"type\":\"choropleth\"}],\"contour\":[{\"colorbar\":{\"outlinewidth\":0,\"ticks\":\"\"},\"colorscale\":[[0.0,\"#0d0887\"],[0.1111111111111111,\"#46039f\"],[0.2222222222222222,\"#7201a8\"],[0.3333333333333333,\"#9c179e\"],[0.4444444444444444,\"#bd3786\"],[0.5555555555555556,\"#d8576b\"],[0.6666666666666666,\"#ed7953\"],[0.7777777777777778,\"#fb9f3a\"],[0.8888888888888888,\"#fdca26\"],[1.0,\"#f0f921\"]],\"type\":\"contour\"}],\"contourcarpet\":[{\"colorbar\":{\"outlinewidth\":0,\"ticks\":\"\"},\"type\":\"contourcarpet\"}],\"heatmap\":[{\"colorbar\":{\"outlinewidth\":0,\"ticks\":\"\"},\"colorscale\":[[0.0,\"#0d0887\"],[0.1111111111111111,\"#46039f\"],[0.2222222222222222,\"#7201a8\"],[0.3333333333333333,\"#9c179e\"],[0.4444444444444444,\"#bd3786\"],[0.5555555555555556,\"#d8576b\"],[0.6666666666666666,\"#ed7953\"],[0.7777777777777778,\"#fb9f3a\"],[0.8888888888888888,\"#fdca26\"],[1.0,\"#f0f921\"]],\"type\":\"heatmap\"}],\"heatmapgl\":[{\"colorbar\":{\"outlinewidth\":0,\"ticks\":\"\"},\"colorscale\":[[0.0,\"#0d0887\"],[0.1111111111111111,\"#46039f\"],[0.2222222222222222,\"#7201a8\"],[0.3333333333333333,\"#9c179e\"],[0.4444444444444444,\"#bd3786\"],[0.5555555555555556,\"#d8576b\"],[0.6666666666666666,\"#ed7953\"],[0.7777777777777778,\"#fb9f3a\"],[0.8888888888888888,\"#fdca26\"],[1.0,\"#f0f921\"]],\"type\":\"heatmapgl\"}],\"histogram\":[{\"marker\":{\"pattern\":{\"fillmode\":\"overlay\",\"size\":10,\"solidity\":0.2}},\"type\":\"histogram\"}],\"histogram2d\":[{\"colorbar\":{\"outlinewidth\":0,\"ticks\":\"\"},\"colorscale\":[[0.0,\"#0d0887\"],[0.1111111111111111,\"#46039f\"],[0.2222222222222222,\"#7201a8\"],[0.3333333333333333,\"#9c179e\"],[0.4444444444444444,\"#bd3786\"],[0.5555555555555556,\"#d8576b\"],[0.6666666666666666,\"#ed7953\"],[0.7777777777777778,\"#fb9f3a\"],[0.8888888888888888,\"#fdca26\"],[1.0,\"#f0f921\"]],\"type\":\"histogram2d\"}],\"histogram2dcontour\":[{\"colorbar\":{\"outlinewidth\":0,\"ticks\":\"\"},\"colorscale\":[[0.0,\"#0d0887\"],[0.1111111111111111,\"#46039f\"],[0.2222222222222222,\"#7201a8\"],[0.3333333333333333,\"#9c179e\"],[0.4444444444444444,\"#bd3786\"],[0.5555555555555556,\"#d8576b\"],[0.6666666666666666,\"#ed7953\"],[0.7777777777777778,\"#fb9f3a\"],[0.8888888888888888,\"#fdca26\"],[1.0,\"#f0f921\"]],\"type\":\"histogram2dcontour\"}],\"mesh3d\":[{\"colorbar\":{\"outlinewidth\":0,\"ticks\":\"\"},\"type\":\"mesh3d\"}],\"parcoords\":[{\"line\":{\"colorbar\":{\"outlinewidth\":0,\"ticks\":\"\"}},\"type\":\"parcoords\"}],\"pie\":[{\"automargin\":true,\"type\":\"pie\"}],\"scatter\":[{\"marker\":{\"colorbar\":{\"outlinewidth\":0,\"ticks\":\"\"}},\"type\":\"scatter\"}],\"scatter3d\":[{\"line\":{\"colorbar\":{\"outlinewidth\":0,\"ticks\":\"\"}},\"marker\":{\"colorbar\":{\"outlinewidth\":0,\"ticks\":\"\"}},\"type\":\"scatter3d\"}],\"scattercarpet\":[{\"marker\":{\"colorbar\":{\"outlinewidth\":0,\"ticks\":\"\"}},\"type\":\"scattercarpet\"}],\"scattergeo\":[{\"marker\":{\"colorbar\":{\"outlinewidth\":0,\"ticks\":\"\"}},\"type\":\"scattergeo\"}],\"scattergl\":[{\"marker\":{\"colorbar\":{\"outlinewidth\":0,\"ticks\":\"\"}},\"type\":\"scattergl\"}],\"scattermapbox\":[{\"marker\":{\"colorbar\":{\"outlinewidth\":0,\"ticks\":\"\"}},\"type\":\"scattermapbox\"}],\"scatterpolar\":[{\"marker\":{\"colorbar\":{\"outlinewidth\":0,\"ticks\":\"\"}},\"type\":\"scatterpolar\"}],\"scatterpolargl\":[{\"marker\":{\"colorbar\":{\"outlinewidth\":0,\"ticks\":\"\"}},\"type\":\"scatterpolargl\"}],\"scatterternary\":[{\"marker\":{\"colorbar\":{\"outlinewidth\":0,\"ticks\":\"\"}},\"type\":\"scatterternary\"}],\"surface\":[{\"colorbar\":{\"outlinewidth\":0,\"ticks\":\"\"},\"colorscale\":[[0.0,\"#0d0887\"],[0.1111111111111111,\"#46039f\"],[0.2222222222222222,\"#7201a8\"],[0.3333333333333333,\"#9c179e\"],[0.4444444444444444,\"#bd3786\"],[0.5555555555555556,\"#d8576b\"],[0.6666666666666666,\"#ed7953\"],[0.7777777777777778,\"#fb9f3a\"],[0.8888888888888888,\"#fdca26\"],[1.0,\"#f0f921\"]],\"type\":\"surface\"}],\"table\":[{\"cells\":{\"fill\":{\"color\":\"#EBF0F8\"},\"line\":{\"color\":\"white\"}},\"header\":{\"fill\":{\"color\":\"#C8D4E3\"},\"line\":{\"color\":\"white\"}},\"type\":\"table\"}]},\"layout\":{\"annotationdefaults\":{\"arrowcolor\":\"#2a3f5f\",\"arrowhead\":0,\"arrowwidth\":1},\"autotypenumbers\":\"strict\",\"coloraxis\":{\"colorbar\":{\"outlinewidth\":0,\"ticks\":\"\"}},\"colorscale\":{\"diverging\":[[0,\"#8e0152\"],[0.1,\"#c51b7d\"],[0.2,\"#de77ae\"],[0.3,\"#f1b6da\"],[0.4,\"#fde0ef\"],[0.5,\"#f7f7f7\"],[0.6,\"#e6f5d0\"],[0.7,\"#b8e186\"],[0.8,\"#7fbc41\"],[0.9,\"#4d9221\"],[1,\"#276419\"]],\"sequential\":[[0.0,\"#0d0887\"],[0.1111111111111111,\"#46039f\"],[0.2222222222222222,\"#7201a8\"],[0.3333333333333333,\"#9c179e\"],[0.4444444444444444,\"#bd3786\"],[0.5555555555555556,\"#d8576b\"],[0.6666666666666666,\"#ed7953\"],[0.7777777777777778,\"#fb9f3a\"],[0.8888888888888888,\"#fdca26\"],[1.0,\"#f0f921\"]],\"sequentialminus\":[[0.0,\"#0d0887\"],[0.1111111111111111,\"#46039f\"],[0.2222222222222222,\"#7201a8\"],[0.3333333333333333,\"#9c179e\"],[0.4444444444444444,\"#bd3786\"],[0.5555555555555556,\"#d8576b\"],[0.6666666666666666,\"#ed7953\"],[0.7777777777777778,\"#fb9f3a\"],[0.8888888888888888,\"#fdca26\"],[1.0,\"#f0f921\"]]},\"colorway\":[\"#636efa\",\"#EF553B\",\"#00cc96\",\"#ab63fa\",\"#FFA15A\",\"#19d3f3\",\"#FF6692\",\"#B6E880\",\"#FF97FF\",\"#FECB52\"],\"font\":{\"color\":\"#2a3f5f\"},\"geo\":{\"bgcolor\":\"white\",\"lakecolor\":\"white\",\"landcolor\":\"#E5ECF6\",\"showlakes\":true,\"showland\":true,\"subunitcolor\":\"white\"},\"hoverlabel\":{\"align\":\"left\"},\"hovermode\":\"closest\",\"mapbox\":{\"style\":\"light\"},\"paper_bgcolor\":\"white\",\"plot_bgcolor\":\"#E5ECF6\",\"polar\":{\"angularaxis\":{\"gridcolor\":\"white\",\"linecolor\":\"white\",\"ticks\":\"\"},\"bgcolor\":\"#E5ECF6\",\"radialaxis\":{\"gridcolor\":\"white\",\"linecolor\":\"white\",\"ticks\":\"\"}},\"scene\":{\"xaxis\":{\"backgroundcolor\":\"#E5ECF6\",\"gridcolor\":\"white\",\"gridwidth\":2,\"linecolor\":\"white\",\"showbackground\":true,\"ticks\":\"\",\"zerolinecolor\":\"white\"},\"yaxis\":{\"backgroundcolor\":\"#E5ECF6\",\"gridcolor\":\"white\",\"gridwidth\":2,\"linecolor\":\"white\",\"showbackground\":true,\"ticks\":\"\",\"zerolinecolor\":\"white\"},\"zaxis\":{\"backgroundcolor\":\"#E5ECF6\",\"gridcolor\":\"white\",\"gridwidth\":2,\"linecolor\":\"white\",\"showbackground\":true,\"ticks\":\"\",\"zerolinecolor\":\"white\"}},\"shapedefaults\":{\"line\":{\"color\":\"#2a3f5f\"}},\"ternary\":{\"aaxis\":{\"gridcolor\":\"white\",\"linecolor\":\"white\",\"ticks\":\"\"},\"baxis\":{\"gridcolor\":\"white\",\"linecolor\":\"white\",\"ticks\":\"\"},\"bgcolor\":\"#E5ECF6\",\"caxis\":{\"gridcolor\":\"white\",\"linecolor\":\"white\",\"ticks\":\"\"}},\"title\":{\"x\":0.05},\"xaxis\":{\"automargin\":true,\"gridcolor\":\"white\",\"linecolor\":\"white\",\"ticks\":\"\",\"title\":{\"standoff\":15},\"zerolinecolor\":\"white\",\"zerolinewidth\":2},\"yaxis\":{\"automargin\":true,\"gridcolor\":\"white\",\"linecolor\":\"white\",\"ticks\":\"\",\"title\":{\"standoff\":15},\"zerolinecolor\":\"white\",\"zerolinewidth\":2}}},\"scene\":{\"domain\":{\"x\":[0.0,1.0],\"y\":[0.0,1.0]},\"xaxis\":{\"title\":{\"text\":\"x\"}},\"yaxis\":{\"title\":{\"text\":\"y\"}},\"zaxis\":{\"title\":{\"text\":\"z\"}}},\"legend\":{\"tracegroupgap\":0},\"margin\":{\"t\":60}},                        {\"responsive\": true}                    ).then(function(){\n",
              "                            \n",
              "var gd = document.getElementById('1435a0a5-6581-4d91-a939-c18cb8558176');\n",
              "var x = new MutationObserver(function (mutations, observer) {{\n",
              "        var display = window.getComputedStyle(gd).display;\n",
              "        if (!display || display === 'none') {{\n",
              "            console.log([gd, 'removed!']);\n",
              "            Plotly.purge(gd);\n",
              "            observer.disconnect();\n",
              "        }}\n",
              "}});\n",
              "\n",
              "// Listen for the removal of the full notebook cells\n",
              "var notebookContainer = gd.closest('#notebook-container');\n",
              "if (notebookContainer) {{\n",
              "    x.observe(notebookContainer, {childList: true});\n",
              "}}\n",
              "\n",
              "// Listen for the clearing of the current output cell\n",
              "var outputEl = gd.closest('.output');\n",
              "if (outputEl) {{\n",
              "    x.observe(outputEl, {childList: true});\n",
              "}}\n",
              "\n",
              "                        })                };                            </script>        </div>\n",
              "</body>\n",
              "</html>"
            ]
          },
          "metadata": {}
        }
      ]
    },
    {
      "cell_type": "code",
      "source": [],
      "metadata": {
        "id": "vNoSYratHkX6"
      },
      "execution_count": null,
      "outputs": []
    }
  ],
  "metadata": {
    "accelerator": "GPU",
    "colab": {
      "provenance": [],
      "include_colab_link": true
    },
    "gpuClass": "standard",
    "kernelspec": {
      "display_name": "Python 3",
      "name": "python3"
    },
    "language_info": {
      "codemirror_mode": {
        "name": "ipython",
        "version": 3
      },
      "file_extension": ".py",
      "mimetype": "text/x-python",
      "name": "python",
      "nbconvert_exporter": "python",
      "pygments_lexer": "ipython3",
      "version": "3.7.1"
    }
  },
  "nbformat": 4,
  "nbformat_minor": 0
}