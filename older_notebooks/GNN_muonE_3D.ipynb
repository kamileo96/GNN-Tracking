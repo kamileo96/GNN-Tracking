{
  "cells": [
    {
      "cell_type": "markdown",
      "metadata": {
        "id": "view-in-github",
        "colab_type": "text"
      },
      "source": [
        "<a href=\"https://colab.research.google.com/github/kamileo96/GNN-Tracking/blob/main/GNN_muonE_3D.ipynb\" target=\"_parent\"><img src=\"https://colab.research.google.com/assets/colab-badge.svg\" alt=\"Open In Colab\"/></a>"
      ]
    },
    {
      "cell_type": "markdown",
      "metadata": {
        "id": "Z_vum9p0R7yZ"
      },
      "source": [
        "# Tutorial: GNNs for Particle Tracking\n",
        "\n",
        "HEP.TrkX group\n",
        "\n",
        "Steve Farrell, Daniel Murname\n",
        "\n",
        "*Feb 2020*\n",
        "\n",
        "Adapted for MuonE tracking by Marcin Wolter\n",
        "\n",
        "*July 2020*"
      ]
    },
    {
      "cell_type": "code",
      "execution_count": null,
      "metadata": {
        "id": "ajl_lOBJMa8f"
      },
      "outputs": [],
      "source": []
    },
    {
      "cell_type": "code",
      "execution_count": null,
      "metadata": {
        "colab": {
          "base_uri": "https://localhost:8080/"
        },
        "id": "NO8Pb7UPCg5f",
        "outputId": "d0fced19-522f-46ab-d165-48a3194b9b8c"
      },
      "outputs": [
        {
          "name": "stdout",
          "output_type": "stream",
          "text": [
            "Found existing installation: torchvision 0.14.1+cu116\n",
            "Uninstalling torchvision-0.14.1+cu116:\n",
            "  Successfully uninstalled torchvision-0.14.1+cu116\n",
            "Found existing installation: torchtext 0.14.1\n",
            "Uninstalling torchtext-0.14.1:\n",
            "  Successfully uninstalled torchtext-0.14.1\n",
            "Found existing installation: torchaudio 0.13.1+cu116\n",
            "Uninstalling torchaudio-0.13.1+cu116:\n",
            "  Successfully uninstalled torchaudio-0.13.1+cu116\n",
            "Looking in indexes: https://pypi.org/simple, https://us-python.pkg.dev/colab-wheels/public/simple/\n",
            "Looking in links: https://download.pytorch.org/whl/torch_stable.html\n",
            "Collecting torch==1.11.0+cu113\n",
            "  Downloading https://download.pytorch.org/whl/cu113/torch-1.11.0%2Bcu113-cp38-cp38-linux_x86_64.whl (1637.0 MB)\n",
            "\u001b[2K     \u001b[90m━━━━━━━━━━━━━━━━━━━━━━━━━━━━━━━━━━━━━━━━\u001b[0m \u001b[32m1.6/1.6 GB\u001b[0m \u001b[31m969.8 kB/s\u001b[0m eta \u001b[36m0:00:00\u001b[0m\n",
            "\u001b[?25hRequirement already satisfied: typing-extensions in /usr/local/lib/python3.8/dist-packages (from torch==1.11.0+cu113) (4.4.0)\n",
            "Installing collected packages: torch\n",
            "  Attempting uninstall: torch\n",
            "    Found existing installation: torch 1.13.1+cu116\n",
            "    Uninstalling torch-1.13.1+cu116:\n",
            "      Successfully uninstalled torch-1.13.1+cu116\n",
            "\u001b[31mERROR: pip's dependency resolver does not currently take into account all the packages that are installed. This behaviour is the source of the following dependency conflicts.\n",
            "fastai 2.7.10 requires torchvision>=0.8.2, which is not installed.\u001b[0m\u001b[31m\n",
            "\u001b[0mSuccessfully installed torch-1.11.0+cu113\n"
          ]
        }
      ],
      "source": [
        "!pip uninstall torchvision torchtext torchaudio --yes\n",
        "!pip install torch==1.11.0+cu113  -f https://download.pytorch.org/whl/torch_stable.html"
      ]
    },
    {
      "cell_type": "code",
      "execution_count": null,
      "metadata": {
        "id": "vZh8UpRMR7yp"
      },
      "outputs": [],
      "source": [
        "# System imports\n",
        "import os\n",
        "import sys\n",
        "from pprint import pprint as pp\n",
        "from time import time as tt\n",
        "\n",
        "# External imports\n",
        "import matplotlib.pyplot as plt\n",
        "import matplotlib.colors\n",
        "import numpy as np\n",
        "import pandas as pd\n",
        "import seaborn as sns\n",
        "import torch"
      ]
    },
    {
      "cell_type": "code",
      "execution_count": null,
      "metadata": {
        "colab": {
          "base_uri": "https://localhost:8080/"
        },
        "id": "nCH4u73YSkuf",
        "outputId": "e8f206b0-85c2-4525-900c-b65ff103ff39"
      },
      "outputs": [
        {
          "name": "stdout",
          "output_type": "stream",
          "text": [
            "1.11.0+cu113\n",
            "PyTorch version: None , CUDA version: 11.3\n"
          ]
        }
      ],
      "source": [
        "print(\"PyTorch version:\",print(torch.__version__),\", CUDA version:\", torch.version.cuda)"
      ]
    },
    {
      "cell_type": "code",
      "execution_count": null,
      "metadata": {
        "colab": {
          "base_uri": "https://localhost:8080/",
          "height": 797
        },
        "id": "5yAAs3ZiTNGX",
        "outputId": "b40bbba3-dbe3-4cfe-83d0-78b870a69fa4"
      },
      "outputs": [
        {
          "name": "stdout",
          "output_type": "stream",
          "text": [
            "Looking in indexes: https://pypi.org/simple, https://us-python.pkg.dev/colab-wheels/public/simple/\n",
            "Looking in links: https://pytorch-geometric.com/whl/torch-1.11.0+cu113.html\n",
            "Collecting torch-geometric\n",
            "  Downloading torch_geometric-2.2.0.tar.gz (564 kB)\n",
            "\u001b[2K     \u001b[90m━━━━━━━━━━━━━━━━━━━━━━━━━━━━━━━━━━━━━━━\u001b[0m \u001b[32m565.0/565.0 KB\u001b[0m \u001b[31m9.2 MB/s\u001b[0m eta \u001b[36m0:00:00\u001b[0m\n",
            "\u001b[?25h  Preparing metadata (setup.py) ... \u001b[?25l\u001b[?25hdone\n",
            "Collecting torch-sparse==0.6.13\n",
            "  Downloading https://data.pyg.org/whl/torch-1.11.0%2Bcu113/torch_sparse-0.6.13-cp38-cp38-linux_x86_64.whl (3.5 MB)\n",
            "\u001b[2K     \u001b[90m━━━━━━━━━━━━━━━━━━━━━━━━━━━━━━━━━━━━━━━━\u001b[0m \u001b[32m3.5/3.5 MB\u001b[0m \u001b[31m51.3 MB/s\u001b[0m eta \u001b[36m0:00:00\u001b[0m\n",
            "\u001b[?25hCollecting torch-scatter==2.0.9\n",
            "  Downloading https://data.pyg.org/whl/torch-1.11.0%2Bcu113/torch_scatter-2.0.9-cp38-cp38-linux_x86_64.whl (7.9 MB)\n",
            "\u001b[2K     \u001b[90m━━━━━━━━━━━━━━━━━━━━━━━━━━━━━━━━━━━━━━━━\u001b[0m \u001b[32m7.9/7.9 MB\u001b[0m \u001b[31m7.8 MB/s\u001b[0m eta \u001b[36m0:00:00\u001b[0m\n",
            "\u001b[?25hRequirement already satisfied: scipy in /usr/local/lib/python3.8/dist-packages (from torch-sparse==0.6.13) (1.7.3)\n",
            "Requirement already satisfied: tqdm in /usr/local/lib/python3.8/dist-packages (from torch-geometric) (4.64.1)\n",
            "Requirement already satisfied: numpy in /usr/local/lib/python3.8/dist-packages (from torch-geometric) (1.21.6)\n",
            "Requirement already satisfied: jinja2 in /usr/local/lib/python3.8/dist-packages (from torch-geometric) (2.11.3)\n",
            "Requirement already satisfied: requests in /usr/local/lib/python3.8/dist-packages (from torch-geometric) (2.25.1)\n",
            "Requirement already satisfied: pyparsing in /usr/local/lib/python3.8/dist-packages (from torch-geometric) (3.0.9)\n",
            "Requirement already satisfied: scikit-learn in /usr/local/lib/python3.8/dist-packages (from torch-geometric) (1.0.2)\n",
            "Collecting psutil>=5.8.0\n",
            "  Downloading psutil-5.9.4-cp36-abi3-manylinux_2_12_x86_64.manylinux2010_x86_64.manylinux_2_17_x86_64.manylinux2014_x86_64.whl (280 kB)\n",
            "\u001b[2K     \u001b[90m━━━━━━━━━━━━━━━━━━━━━━━━━━━━━━━━━━━━━━\u001b[0m \u001b[32m280.2/280.2 KB\u001b[0m \u001b[31m16.6 MB/s\u001b[0m eta \u001b[36m0:00:00\u001b[0m\n",
            "\u001b[?25hRequirement already satisfied: MarkupSafe>=0.23 in /usr/local/lib/python3.8/dist-packages (from jinja2->torch-geometric) (2.0.1)\n",
            "Requirement already satisfied: certifi>=2017.4.17 in /usr/local/lib/python3.8/dist-packages (from requests->torch-geometric) (2022.12.7)\n",
            "Requirement already satisfied: chardet<5,>=3.0.2 in /usr/local/lib/python3.8/dist-packages (from requests->torch-geometric) (4.0.0)\n",
            "Requirement already satisfied: idna<3,>=2.5 in /usr/local/lib/python3.8/dist-packages (from requests->torch-geometric) (2.10)\n",
            "Requirement already satisfied: urllib3<1.27,>=1.21.1 in /usr/local/lib/python3.8/dist-packages (from requests->torch-geometric) (1.24.3)\n",
            "Requirement already satisfied: threadpoolctl>=2.0.0 in /usr/local/lib/python3.8/dist-packages (from scikit-learn->torch-geometric) (3.1.0)\n",
            "Requirement already satisfied: joblib>=0.11 in /usr/local/lib/python3.8/dist-packages (from scikit-learn->torch-geometric) (1.2.0)\n",
            "Building wheels for collected packages: torch-geometric\n",
            "  Building wheel for torch-geometric (setup.py) ... \u001b[?25l\u001b[?25hdone\n",
            "  Created wheel for torch-geometric: filename=torch_geometric-2.2.0-py3-none-any.whl size=773302 sha256=286aeb544260dda34cfa8f45248a771053406b89118e0cae71ab6c472fd6f793\n",
            "  Stored in directory: /root/.cache/pip/wheels/59/a3/20/198928106d3169865ae73afcbd3d3d1796cf6b429b55c65378\n",
            "Successfully built torch-geometric\n",
            "Installing collected packages: torch-scatter, psutil, torch-sparse, torch-geometric\n",
            "  Attempting uninstall: psutil\n",
            "    Found existing installation: psutil 5.4.8\n",
            "    Uninstalling psutil-5.4.8:\n",
            "      Successfully uninstalled psutil-5.4.8\n",
            "Successfully installed psutil-5.9.4 torch-geometric-2.2.0 torch-scatter-2.0.9 torch-sparse-0.6.13\n"
          ]
        },
        {
          "data": {
            "application/vnd.colab-display-data+json": {
              "pip_warning": {
                "packages": [
                  "psutil"
                ]
              }
            }
          },
          "metadata": {},
          "output_type": "display_data"
        }
      ],
      "source": [
        "#!pip install torch-scatter==latest+cu101 torch-sparse==latest+cu101 -f https://s3.eu-central-1.amazonaws.com/pytorch-geometric.com/whl/torch-1.5.0.html\n",
        "\"\"\"\n",
        "!pip install torch-geometric\n",
        "!pip install torch-sparse\n",
        "!pip install torch-scatter\"\"\"\n",
        "# MW corrected\n",
        "\n",
        "!pip install torch-geometric \\\n",
        "  torch-sparse==0.6.13 \\\n",
        "  torch-scatter==2.0.9 \\\n",
        "  -f https://pytorch-geometric.com/whl/torch-1.11.0+cu113.html\n"
      ]
    },
    {
      "cell_type": "code",
      "execution_count": null,
      "metadata": {
        "id": "8YLfHA3uSjL_"
      },
      "outputs": [],
      "source": [
        "from torch_geometric.data import Data\n",
        "from torch_geometric.data import DataLoader\n",
        "import torch.nn as nn\n",
        "from torch_scatter import scatter_add\n",
        "import torch.nn.functional as F\n",
        "\n",
        "import ipywidgets as widgets\n",
        "from ipywidgets import interact, interact_manual\n",
        "from IPython.display import clear_output\n",
        "from IPython.display import HTML, display\n",
        "\n",
        "%matplotlib inline\n",
        "\n",
        "# Get rid of RuntimeWarnings, gross\n",
        "import warnings\n",
        "warnings.filterwarnings(\"ignore\", category=RuntimeWarning)"
      ]
    },
    {
      "cell_type": "markdown",
      "metadata": {
        "id": "OYwHU7mHR7zR"
      },
      "source": [
        "## The Problem"
      ]
    },
    {
      "cell_type": "markdown",
      "metadata": {
        "id": "fkwvGOWWR7zY"
      },
      "source": [
        "Toy Data (changed to 3D)"
      ]
    },
    {
      "cell_type": "code",
      "execution_count": null,
      "metadata": {
        "id": "o-E4TVvVZxrO"
      },
      "outputs": [],
      "source": [
        "import numpy as np\n",
        "\n",
        "minz = 550\n",
        "\n",
        "def GenerateIntersection3D(line_params, z):\n",
        "  #Generates intersections with a plane at z=z\n",
        "  x0, y0, z0, theta, phi = line_params\n",
        "  t = (z-z0)/np.cos(theta)\n",
        "  x = x0 + t * np.cos(phi) * np.sin(theta)\n",
        "  y = y0 + t * np.sin(phi) * np.sin(theta)\n",
        "  return np.array([x,y,z])\n",
        "\n",
        "def GenerateTracks(n):\n",
        "  \"\"\"\n",
        "  #for initial lines not along z axis\n",
        "  thetas = np.abs(np.random.normal(0, 5/180*np.pi, n))\n",
        "  phis = np.random.rand(n)*2*np.pi\n",
        "  r0 = np.random.rand((n,3))\n",
        "  \"\"\"\n",
        "  #initial line along z axis\n",
        "  #z of colision (probably the 200 is a bit much)\n",
        "  z0s = minz + np.random.rand(n)*200\n",
        "  phis = np.random.rand(n)*2*np.pi\n",
        "  #the toy muon would have a small theta:\n",
        "  thetas1 = np.abs(np.random.normal(0, 10/180*np.pi, n)) + 7/180*np.pi\n",
        "  #and the electron would have a larger one (lets say around 40 degrees)\n",
        "  thetas2 = np.abs(np.random.normal(40, 5/180*np.pi, n))\n",
        "  #this could be estimated better but there is no need\n",
        "  r0s = np.array([np.zeros(n), np.zeros(n), z0s])\n",
        "  line_params_1 = np.concatenate((r0s, [thetas1, phis]), axis=0).T\n",
        "  line_params_2 = np.concatenate((r0s, [thetas2, -phis]), axis=0).T\n",
        "  return line_params_1, line_params_2\n",
        "\n",
        "def ShuffleIndexSwap(Edges, nIdx):\n",
        "  #changes edges according to the shuffled index\n",
        "  my_dict = {}\n",
        "  for i in range(len(nIdx)):\n",
        "    my_dict[i] = nIdx[i]\n",
        "  \n",
        "  return np.vectorize(my_dict.get)(Edges)\n",
        "\n",
        "def gen3D_edge_events(n, layerz):\n",
        "  lp1s, lp2s = GenerateTracks(n)\n",
        "  layers_before = layerz[layerz < minz]\n",
        "  layers_after = layerz[layerz >= minz]\n",
        "  points_before = np.zeros((len(layers_before),3))\n",
        "  points_before[2] = layers_before\n",
        "  events_data = []\n",
        "  for lp1, lp2 in zip(lp1s, lp2s):\n",
        "    p1s = GenerateIntersection3D(lp1, layers_after)\n",
        "    p2s = GenerateIntersection3D(lp2, layers_after)\n",
        "\n",
        "    x = np.concatenate((points_before, p1s, p2s), axis=1).T\n",
        "\n",
        "    #this connects the graph like this: ---<===\n",
        "    #and then adds fake edges between two tracks 'X'\n",
        "    #         3 - 4 - 5\n",
        "    # -0-1-2<   X   X\n",
        "    #         6 - 7 - 8\n",
        "    true_edges = [[i, i+1] for i in range(len(x)-1)]\n",
        "    true_edges.append([len(layers_before)-1, len(layers_before) + len(layers_after)])\n",
        "    true_edges.remove([len(layers_before) + len(layers_after) - 1, len(layers_before) + len(layers_after)])\n",
        "\n",
        "    fake_edges = []\n",
        "    for i in range(len(layers_after)-1):\n",
        "      a = len(layers_before) + i\n",
        "      b = len(layers_before) + len(layers_after) + i\n",
        "      fake_edges.append([a, b + 1])\n",
        "      fake_edges.append([b, a + 1])\n",
        "    edges = np.array(true_edges + fake_edges).T\n",
        "    y = np.append(np.ones(len(true_edges)), np.zeros(len(fake_edges)))\n",
        "\n",
        "    #as of now the data is not shuffled at all, so:\n",
        "    #shuffling points:\n",
        "    nIdx = np.arange(len(x))\n",
        "    np.random.shuffle(nIdx)\n",
        "    edges = ShuffleIndexSwap(edges, nIdx)\n",
        "    x[nIdx] = x.copy()\n",
        "    #shuffling edges:\n",
        "    \n",
        "    neidx = np.arange(len(y))\n",
        "    np.random.shuffle(neidx)\n",
        "    edges[0] = edges[0][neidx]\n",
        "    edges[1] = edges[1][neidx]\n",
        "    y = y[neidx]\n",
        "    data = Data(x = torch.from_numpy(x).float(), edge_index = torch.from_numpy(edges), y = torch.from_numpy(y))\n",
        "    events_data.append(data)\n",
        "  return events_data\n",
        "\n",
        "\n",
        "\n",
        "\n"
      ]
    },
    {
      "cell_type": "code",
      "execution_count": null,
      "metadata": {
        "id": "SLjx6QAJYknv"
      },
      "outputs": [],
      "source": [
        "import plotly.express as px\n",
        "def plot_toy_graph_3D(event, pyplot=False):\n",
        "    plt.figure(figsize=(10,5))\n",
        "    x, y, z = event.x[:,0].numpy(), event.x[:,1].numpy(), event.x[:,2].numpy()\n",
        "    e = event.edge_index.numpy()\n",
        "    if pyplot:\n",
        "      fig = plt.figure()\n",
        "      ax = fig.add_subplot(projection='3d')\n",
        "      for j,i1,i2 in zip(e[0],e[1]):\n",
        "        ax.plot([x[i1], x[i2]], [y[i1], y[i2]], [z[i1], z[i2]], c='b')\n",
        "      #ax.plot([x[e[0,:]], x[e[1,:]]], [y[e[0,:]], y[e[1,:]]], [z[e[0,:]], z[e[1,:]]], c='b')\n",
        "      ax.scatter(x, y, z, c='k')\n",
        "    else:\n",
        "      #fig = px.scatter_3d(data[0], 0, 1, 2)\n",
        "      df = pd.DataFrame([], columns=['x', 'y', 'z', 'label'])\n",
        "      for j,i1,i2 in zip(range(len(e[0])),e[0],e[1]):\n",
        "\n",
        "        df2 = pd.DataFrame([[x[i1], y[i1], z[i1], j], [x[i2], y[i2], z[i2], j]], columns=['x', 'y', 'z', 'label'])\n",
        "        df = df.append(df2, ignore_index=True)\n",
        "      fig = px.line_3d(df, x='x', y='y', z='z', line_group='label')\n",
        "      fig.show()\n"
      ]
    },
    {
      "cell_type": "code",
      "execution_count": null,
      "metadata": {
        "colab": {
          "base_uri": "https://localhost:8080/",
          "height": 594
        },
        "id": "amEwVfBnpUjn",
        "outputId": "1ef0773d-73ff-4a52-e9cb-14c83acfcc80"
      },
      "outputs": [
        {
          "name": "stdout",
          "output_type": "stream",
          "text": [
            "[Data(x=[11, 3], edge_index=[2, 16], y=[16])]\n"
          ]
        },
        {
          "data": {
            "text/html": [
              "<html>\n",
              "<head><meta charset=\"utf-8\" /></head>\n",
              "<body>\n",
              "    <div>            <script src=\"https://cdnjs.cloudflare.com/ajax/libs/mathjax/2.7.5/MathJax.js?config=TeX-AMS-MML_SVG\"></script><script type=\"text/javascript\">if (window.MathJax) {MathJax.Hub.Config({SVG: {font: \"STIX-Web\"}});}</script>                <script type=\"text/javascript\">window.PlotlyConfig = {MathJaxConfig: 'local'};</script>\n",
              "        <script src=\"https://cdn.plot.ly/plotly-2.8.3.min.js\"></script>                <div id=\"e744c0fc-3fb3-42c2-985b-1c3b7a5aa755\" class=\"plotly-graph-div\" style=\"height:525px; width:100%;\"></div>            <script type=\"text/javascript\">                                    window.PLOTLYENV=window.PLOTLYENV || {};                                    if (document.getElementById(\"e744c0fc-3fb3-42c2-985b-1c3b7a5aa755\")) {                    Plotly.newPlot(                        \"e744c0fc-3fb3-42c2-985b-1c3b7a5aa755\",                        [{\"hovertemplate\":\"label=0<br>x=%{x}<br>y=%{y}<br>z=%{z}<extra></extra>\",\"legendgroup\":\"\",\"line\":{\"color\":\"#636efa\",\"dash\":\"solid\"},\"marker\":{\"symbol\":\"circle\"},\"mode\":\"lines\",\"name\":\"\",\"scene\":\"scene\",\"showlegend\":false,\"x\":[-50.60845184326172,35.25077819824219],\"y\":[131.48468017578125,91.58426666259766],\"z\":[832.0,1146.0],\"type\":\"scatter3d\"},{\"hovertemplate\":\"label=1<br>x=%{x}<br>y=%{y}<br>z=%{z}<extra></extra>\",\"legendgroup\":\"\",\"line\":{\"color\":\"#636efa\",\"dash\":\"solid\"},\"marker\":{\"symbol\":\"circle\"},\"mode\":\"lines\",\"name\":\"\",\"scene\":\"scene\",\"showlegend\":false,\"x\":[0.0,0.0],\"y\":[0.0,0.0],\"z\":[-16.0,131.0],\"type\":\"scatter3d\"},{\"hovertemplate\":\"label=2<br>x=%{x}<br>y=%{y}<br>z=%{z}<extra></extra>\",\"legendgroup\":\"\",\"line\":{\"color\":\"#636efa\",\"dash\":\"solid\"},\"marker\":{\"symbol\":\"circle\"},\"mode\":\"lines\",\"name\":\"\",\"scene\":\"scene\",\"showlegend\":false,\"x\":[-255.85116577148438,96.79471588134766],\"y\":[664.72119140625,251.48019409179688],\"z\":[1479.5999755859375,1973.0],\"type\":\"scatter3d\"},{\"hovertemplate\":\"label=3<br>x=%{x}<br>y=%{y}<br>z=%{z}<extra></extra>\",\"legendgroup\":\"\",\"line\":{\"color\":\"#636efa\",\"dash\":\"solid\"},\"marker\":{\"symbol\":\"circle\"},\"mode\":\"lines\",\"name\":\"\",\"scene\":\"scene\",\"showlegend\":false,\"x\":[0.0,0.0],\"y\":[0.0,0.0],\"z\":[131.0,477.0],\"type\":\"scatter3d\"},{\"hovertemplate\":\"label=4<br>x=%{x}<br>y=%{y}<br>z=%{z}<extra></extra>\",\"legendgroup\":\"\",\"line\":{\"color\":\"#636efa\",\"dash\":\"solid\"},\"marker\":{\"symbol\":\"circle\"},\"mode\":\"lines\",\"name\":\"\",\"scene\":\"scene\",\"showlegend\":false,\"x\":[-255.85116577148438,-412.2235412597656],\"y\":[664.72119140625,1070.9888916015625],\"z\":[1479.5999755859375,1973.0],\"type\":\"scatter3d\"},{\"hovertemplate\":\"label=5<br>x=%{x}<br>y=%{y}<br>z=%{z}<extra></extra>\",\"legendgroup\":\"\",\"line\":{\"color\":\"#636efa\",\"dash\":\"solid\"},\"marker\":{\"symbol\":\"circle\"},\"mode\":\"lines\",\"name\":\"\",\"scene\":\"scene\",\"showlegend\":false,\"x\":[0.0,-50.60845184326172],\"y\":[0.0,131.48468017578125],\"z\":[477.0,832.0],\"type\":\"scatter3d\"},{\"hovertemplate\":\"label=6<br>x=%{x}<br>y=%{y}<br>z=%{z}<extra></extra>\",\"legendgroup\":\"\",\"line\":{\"color\":\"#636efa\",\"dash\":\"solid\"},\"marker\":{\"symbol\":\"circle\"},\"mode\":\"lines\",\"name\":\"\",\"scene\":\"scene\",\"showlegend\":false,\"x\":[-150.12391662597656,-255.85116577148438],\"y\":[390.0335998535156,664.72119140625],\"z\":[1146.0,1479.5999755859375],\"type\":\"scatter3d\"},{\"hovertemplate\":\"label=7<br>x=%{x}<br>y=%{y}<br>z=%{z}<extra></extra>\",\"legendgroup\":\"\",\"line\":{\"color\":\"#636efa\",\"dash\":\"solid\"},\"marker\":{\"symbol\":\"circle\"},\"mode\":\"lines\",\"name\":\"\",\"scene\":\"scene\",\"showlegend\":false,\"x\":[-50.60845184326172,-150.12391662597656],\"y\":[131.48468017578125,390.0335998535156],\"z\":[832.0,1146.0],\"type\":\"scatter3d\"},{\"hovertemplate\":\"label=8<br>x=%{x}<br>y=%{y}<br>z=%{z}<extra></extra>\",\"legendgroup\":\"\",\"line\":{\"color\":\"#636efa\",\"dash\":\"solid\"},\"marker\":{\"symbol\":\"circle\"},\"mode\":\"lines\",\"name\":\"\",\"scene\":\"scene\",\"showlegend\":false,\"x\":[-150.12391662597656,60.076725006103516],\"y\":[390.0335998535156,156.08399963378906],\"z\":[1146.0,1479.5999755859375],\"type\":\"scatter3d\"},{\"hovertemplate\":\"label=9<br>x=%{x}<br>y=%{y}<br>z=%{z}<extra></extra>\",\"legendgroup\":\"\",\"line\":{\"color\":\"#636efa\",\"dash\":\"solid\"},\"marker\":{\"symbol\":\"circle\"},\"mode\":\"lines\",\"name\":\"\",\"scene\":\"scene\",\"showlegend\":false,\"x\":[35.25077819824219,-255.85116577148438],\"y\":[91.58426666259766,664.72119140625],\"z\":[1146.0,1479.5999755859375],\"type\":\"scatter3d\"},{\"hovertemplate\":\"label=10<br>x=%{x}<br>y=%{y}<br>z=%{z}<extra></extra>\",\"legendgroup\":\"\",\"line\":{\"color\":\"#636efa\",\"dash\":\"solid\"},\"marker\":{\"symbol\":\"circle\"},\"mode\":\"lines\",\"name\":\"\",\"scene\":\"scene\",\"showlegend\":false,\"x\":[35.25077819824219,60.076725006103516],\"y\":[91.58426666259766,156.08399963378906],\"z\":[1146.0,1479.5999755859375],\"type\":\"scatter3d\"},{\"hovertemplate\":\"label=11<br>x=%{x}<br>y=%{y}<br>z=%{z}<extra></extra>\",\"legendgroup\":\"\",\"line\":{\"color\":\"#636efa\",\"dash\":\"solid\"},\"marker\":{\"symbol\":\"circle\"},\"mode\":\"lines\",\"name\":\"\",\"scene\":\"scene\",\"showlegend\":false,\"x\":[60.076725006103516,96.79471588134766],\"y\":[156.08399963378906,251.48019409179688],\"z\":[1479.5999755859375,1973.0],\"type\":\"scatter3d\"},{\"hovertemplate\":\"label=12<br>x=%{x}<br>y=%{y}<br>z=%{z}<extra></extra>\",\"legendgroup\":\"\",\"line\":{\"color\":\"#636efa\",\"dash\":\"solid\"},\"marker\":{\"symbol\":\"circle\"},\"mode\":\"lines\",\"name\":\"\",\"scene\":\"scene\",\"showlegend\":false,\"x\":[11.883431434631348,35.25077819824219],\"y\":[30.87407875061035,91.58426666259766],\"z\":[832.0,1146.0],\"type\":\"scatter3d\"},{\"hovertemplate\":\"label=13<br>x=%{x}<br>y=%{y}<br>z=%{z}<extra></extra>\",\"legendgroup\":\"\",\"line\":{\"color\":\"#636efa\",\"dash\":\"solid\"},\"marker\":{\"symbol\":\"circle\"},\"mode\":\"lines\",\"name\":\"\",\"scene\":\"scene\",\"showlegend\":false,\"x\":[0.0,11.883431434631348],\"y\":[0.0,30.87407875061035],\"z\":[477.0,832.0],\"type\":\"scatter3d\"},{\"hovertemplate\":\"label=14<br>x=%{x}<br>y=%{y}<br>z=%{z}<extra></extra>\",\"legendgroup\":\"\",\"line\":{\"color\":\"#636efa\",\"dash\":\"solid\"},\"marker\":{\"symbol\":\"circle\"},\"mode\":\"lines\",\"name\":\"\",\"scene\":\"scene\",\"showlegend\":false,\"x\":[11.883431434631348,-150.12391662597656],\"y\":[30.87407875061035,390.0335998535156],\"z\":[832.0,1146.0],\"type\":\"scatter3d\"},{\"hovertemplate\":\"label=15<br>x=%{x}<br>y=%{y}<br>z=%{z}<extra></extra>\",\"legendgroup\":\"\",\"line\":{\"color\":\"#636efa\",\"dash\":\"solid\"},\"marker\":{\"symbol\":\"circle\"},\"mode\":\"lines\",\"name\":\"\",\"scene\":\"scene\",\"showlegend\":false,\"x\":[60.076725006103516,-412.2235412597656],\"y\":[156.08399963378906,1070.9888916015625],\"z\":[1479.5999755859375,1973.0],\"type\":\"scatter3d\"}],                        {\"template\":{\"data\":{\"bar\":[{\"error_x\":{\"color\":\"#2a3f5f\"},\"error_y\":{\"color\":\"#2a3f5f\"},\"marker\":{\"line\":{\"color\":\"#E5ECF6\",\"width\":0.5},\"pattern\":{\"fillmode\":\"overlay\",\"size\":10,\"solidity\":0.2}},\"type\":\"bar\"}],\"barpolar\":[{\"marker\":{\"line\":{\"color\":\"#E5ECF6\",\"width\":0.5},\"pattern\":{\"fillmode\":\"overlay\",\"size\":10,\"solidity\":0.2}},\"type\":\"barpolar\"}],\"carpet\":[{\"aaxis\":{\"endlinecolor\":\"#2a3f5f\",\"gridcolor\":\"white\",\"linecolor\":\"white\",\"minorgridcolor\":\"white\",\"startlinecolor\":\"#2a3f5f\"},\"baxis\":{\"endlinecolor\":\"#2a3f5f\",\"gridcolor\":\"white\",\"linecolor\":\"white\",\"minorgridcolor\":\"white\",\"startlinecolor\":\"#2a3f5f\"},\"type\":\"carpet\"}],\"choropleth\":[{\"colorbar\":{\"outlinewidth\":0,\"ticks\":\"\"},\"type\":\"choropleth\"}],\"contour\":[{\"colorbar\":{\"outlinewidth\":0,\"ticks\":\"\"},\"colorscale\":[[0.0,\"#0d0887\"],[0.1111111111111111,\"#46039f\"],[0.2222222222222222,\"#7201a8\"],[0.3333333333333333,\"#9c179e\"],[0.4444444444444444,\"#bd3786\"],[0.5555555555555556,\"#d8576b\"],[0.6666666666666666,\"#ed7953\"],[0.7777777777777778,\"#fb9f3a\"],[0.8888888888888888,\"#fdca26\"],[1.0,\"#f0f921\"]],\"type\":\"contour\"}],\"contourcarpet\":[{\"colorbar\":{\"outlinewidth\":0,\"ticks\":\"\"},\"type\":\"contourcarpet\"}],\"heatmap\":[{\"colorbar\":{\"outlinewidth\":0,\"ticks\":\"\"},\"colorscale\":[[0.0,\"#0d0887\"],[0.1111111111111111,\"#46039f\"],[0.2222222222222222,\"#7201a8\"],[0.3333333333333333,\"#9c179e\"],[0.4444444444444444,\"#bd3786\"],[0.5555555555555556,\"#d8576b\"],[0.6666666666666666,\"#ed7953\"],[0.7777777777777778,\"#fb9f3a\"],[0.8888888888888888,\"#fdca26\"],[1.0,\"#f0f921\"]],\"type\":\"heatmap\"}],\"heatmapgl\":[{\"colorbar\":{\"outlinewidth\":0,\"ticks\":\"\"},\"colorscale\":[[0.0,\"#0d0887\"],[0.1111111111111111,\"#46039f\"],[0.2222222222222222,\"#7201a8\"],[0.3333333333333333,\"#9c179e\"],[0.4444444444444444,\"#bd3786\"],[0.5555555555555556,\"#d8576b\"],[0.6666666666666666,\"#ed7953\"],[0.7777777777777778,\"#fb9f3a\"],[0.8888888888888888,\"#fdca26\"],[1.0,\"#f0f921\"]],\"type\":\"heatmapgl\"}],\"histogram\":[{\"marker\":{\"pattern\":{\"fillmode\":\"overlay\",\"size\":10,\"solidity\":0.2}},\"type\":\"histogram\"}],\"histogram2d\":[{\"colorbar\":{\"outlinewidth\":0,\"ticks\":\"\"},\"colorscale\":[[0.0,\"#0d0887\"],[0.1111111111111111,\"#46039f\"],[0.2222222222222222,\"#7201a8\"],[0.3333333333333333,\"#9c179e\"],[0.4444444444444444,\"#bd3786\"],[0.5555555555555556,\"#d8576b\"],[0.6666666666666666,\"#ed7953\"],[0.7777777777777778,\"#fb9f3a\"],[0.8888888888888888,\"#fdca26\"],[1.0,\"#f0f921\"]],\"type\":\"histogram2d\"}],\"histogram2dcontour\":[{\"colorbar\":{\"outlinewidth\":0,\"ticks\":\"\"},\"colorscale\":[[0.0,\"#0d0887\"],[0.1111111111111111,\"#46039f\"],[0.2222222222222222,\"#7201a8\"],[0.3333333333333333,\"#9c179e\"],[0.4444444444444444,\"#bd3786\"],[0.5555555555555556,\"#d8576b\"],[0.6666666666666666,\"#ed7953\"],[0.7777777777777778,\"#fb9f3a\"],[0.8888888888888888,\"#fdca26\"],[1.0,\"#f0f921\"]],\"type\":\"histogram2dcontour\"}],\"mesh3d\":[{\"colorbar\":{\"outlinewidth\":0,\"ticks\":\"\"},\"type\":\"mesh3d\"}],\"parcoords\":[{\"line\":{\"colorbar\":{\"outlinewidth\":0,\"ticks\":\"\"}},\"type\":\"parcoords\"}],\"pie\":[{\"automargin\":true,\"type\":\"pie\"}],\"scatter\":[{\"marker\":{\"colorbar\":{\"outlinewidth\":0,\"ticks\":\"\"}},\"type\":\"scatter\"}],\"scatter3d\":[{\"line\":{\"colorbar\":{\"outlinewidth\":0,\"ticks\":\"\"}},\"marker\":{\"colorbar\":{\"outlinewidth\":0,\"ticks\":\"\"}},\"type\":\"scatter3d\"}],\"scattercarpet\":[{\"marker\":{\"colorbar\":{\"outlinewidth\":0,\"ticks\":\"\"}},\"type\":\"scattercarpet\"}],\"scattergeo\":[{\"marker\":{\"colorbar\":{\"outlinewidth\":0,\"ticks\":\"\"}},\"type\":\"scattergeo\"}],\"scattergl\":[{\"marker\":{\"colorbar\":{\"outlinewidth\":0,\"ticks\":\"\"}},\"type\":\"scattergl\"}],\"scattermapbox\":[{\"marker\":{\"colorbar\":{\"outlinewidth\":0,\"ticks\":\"\"}},\"type\":\"scattermapbox\"}],\"scatterpolar\":[{\"marker\":{\"colorbar\":{\"outlinewidth\":0,\"ticks\":\"\"}},\"type\":\"scatterpolar\"}],\"scatterpolargl\":[{\"marker\":{\"colorbar\":{\"outlinewidth\":0,\"ticks\":\"\"}},\"type\":\"scatterpolargl\"}],\"scatterternary\":[{\"marker\":{\"colorbar\":{\"outlinewidth\":0,\"ticks\":\"\"}},\"type\":\"scatterternary\"}],\"surface\":[{\"colorbar\":{\"outlinewidth\":0,\"ticks\":\"\"},\"colorscale\":[[0.0,\"#0d0887\"],[0.1111111111111111,\"#46039f\"],[0.2222222222222222,\"#7201a8\"],[0.3333333333333333,\"#9c179e\"],[0.4444444444444444,\"#bd3786\"],[0.5555555555555556,\"#d8576b\"],[0.6666666666666666,\"#ed7953\"],[0.7777777777777778,\"#fb9f3a\"],[0.8888888888888888,\"#fdca26\"],[1.0,\"#f0f921\"]],\"type\":\"surface\"}],\"table\":[{\"cells\":{\"fill\":{\"color\":\"#EBF0F8\"},\"line\":{\"color\":\"white\"}},\"header\":{\"fill\":{\"color\":\"#C8D4E3\"},\"line\":{\"color\":\"white\"}},\"type\":\"table\"}]},\"layout\":{\"annotationdefaults\":{\"arrowcolor\":\"#2a3f5f\",\"arrowhead\":0,\"arrowwidth\":1},\"autotypenumbers\":\"strict\",\"coloraxis\":{\"colorbar\":{\"outlinewidth\":0,\"ticks\":\"\"}},\"colorscale\":{\"diverging\":[[0,\"#8e0152\"],[0.1,\"#c51b7d\"],[0.2,\"#de77ae\"],[0.3,\"#f1b6da\"],[0.4,\"#fde0ef\"],[0.5,\"#f7f7f7\"],[0.6,\"#e6f5d0\"],[0.7,\"#b8e186\"],[0.8,\"#7fbc41\"],[0.9,\"#4d9221\"],[1,\"#276419\"]],\"sequential\":[[0.0,\"#0d0887\"],[0.1111111111111111,\"#46039f\"],[0.2222222222222222,\"#7201a8\"],[0.3333333333333333,\"#9c179e\"],[0.4444444444444444,\"#bd3786\"],[0.5555555555555556,\"#d8576b\"],[0.6666666666666666,\"#ed7953\"],[0.7777777777777778,\"#fb9f3a\"],[0.8888888888888888,\"#fdca26\"],[1.0,\"#f0f921\"]],\"sequentialminus\":[[0.0,\"#0d0887\"],[0.1111111111111111,\"#46039f\"],[0.2222222222222222,\"#7201a8\"],[0.3333333333333333,\"#9c179e\"],[0.4444444444444444,\"#bd3786\"],[0.5555555555555556,\"#d8576b\"],[0.6666666666666666,\"#ed7953\"],[0.7777777777777778,\"#fb9f3a\"],[0.8888888888888888,\"#fdca26\"],[1.0,\"#f0f921\"]]},\"colorway\":[\"#636efa\",\"#EF553B\",\"#00cc96\",\"#ab63fa\",\"#FFA15A\",\"#19d3f3\",\"#FF6692\",\"#B6E880\",\"#FF97FF\",\"#FECB52\"],\"font\":{\"color\":\"#2a3f5f\"},\"geo\":{\"bgcolor\":\"white\",\"lakecolor\":\"white\",\"landcolor\":\"#E5ECF6\",\"showlakes\":true,\"showland\":true,\"subunitcolor\":\"white\"},\"hoverlabel\":{\"align\":\"left\"},\"hovermode\":\"closest\",\"mapbox\":{\"style\":\"light\"},\"paper_bgcolor\":\"white\",\"plot_bgcolor\":\"#E5ECF6\",\"polar\":{\"angularaxis\":{\"gridcolor\":\"white\",\"linecolor\":\"white\",\"ticks\":\"\"},\"bgcolor\":\"#E5ECF6\",\"radialaxis\":{\"gridcolor\":\"white\",\"linecolor\":\"white\",\"ticks\":\"\"}},\"scene\":{\"xaxis\":{\"backgroundcolor\":\"#E5ECF6\",\"gridcolor\":\"white\",\"gridwidth\":2,\"linecolor\":\"white\",\"showbackground\":true,\"ticks\":\"\",\"zerolinecolor\":\"white\"},\"yaxis\":{\"backgroundcolor\":\"#E5ECF6\",\"gridcolor\":\"white\",\"gridwidth\":2,\"linecolor\":\"white\",\"showbackground\":true,\"ticks\":\"\",\"zerolinecolor\":\"white\"},\"zaxis\":{\"backgroundcolor\":\"#E5ECF6\",\"gridcolor\":\"white\",\"gridwidth\":2,\"linecolor\":\"white\",\"showbackground\":true,\"ticks\":\"\",\"zerolinecolor\":\"white\"}},\"shapedefaults\":{\"line\":{\"color\":\"#2a3f5f\"}},\"ternary\":{\"aaxis\":{\"gridcolor\":\"white\",\"linecolor\":\"white\",\"ticks\":\"\"},\"baxis\":{\"gridcolor\":\"white\",\"linecolor\":\"white\",\"ticks\":\"\"},\"bgcolor\":\"#E5ECF6\",\"caxis\":{\"gridcolor\":\"white\",\"linecolor\":\"white\",\"ticks\":\"\"}},\"title\":{\"x\":0.05},\"xaxis\":{\"automargin\":true,\"gridcolor\":\"white\",\"linecolor\":\"white\",\"ticks\":\"\",\"title\":{\"standoff\":15},\"zerolinecolor\":\"white\",\"zerolinewidth\":2},\"yaxis\":{\"automargin\":true,\"gridcolor\":\"white\",\"linecolor\":\"white\",\"ticks\":\"\",\"title\":{\"standoff\":15},\"zerolinecolor\":\"white\",\"zerolinewidth\":2}}},\"scene\":{\"domain\":{\"x\":[0.0,1.0],\"y\":[0.0,1.0]},\"xaxis\":{\"title\":{\"text\":\"x\"}},\"yaxis\":{\"title\":{\"text\":\"y\"}},\"zaxis\":{\"title\":{\"text\":\"z\"}}},\"legend\":{\"tracegroupgap\":0},\"margin\":{\"t\":60}},                        {\"responsive\": true}                    ).then(function(){\n",
              "                            \n",
              "var gd = document.getElementById('e744c0fc-3fb3-42c2-985b-1c3b7a5aa755');\n",
              "var x = new MutationObserver(function (mutations, observer) {{\n",
              "        var display = window.getComputedStyle(gd).display;\n",
              "        if (!display || display === 'none') {{\n",
              "            console.log([gd, 'removed!']);\n",
              "            Plotly.purge(gd);\n",
              "            observer.disconnect();\n",
              "        }}\n",
              "}});\n",
              "\n",
              "// Listen for the removal of the full notebook cells\n",
              "var notebookContainer = gd.closest('#notebook-container');\n",
              "if (notebookContainer) {{\n",
              "    x.observe(notebookContainer, {childList: true});\n",
              "}}\n",
              "\n",
              "// Listen for the clearing of the current output cell\n",
              "var outputEl = gd.closest('.output');\n",
              "if (outputEl) {{\n",
              "    x.observe(outputEl, {childList: true});\n",
              "}}\n",
              "\n",
              "                        })                };                            </script>        </div>\n",
              "</body>\n",
              "</html>"
            ]
          },
          "metadata": {},
          "output_type": "display_data"
        },
        {
          "data": {
            "text/plain": [
              "<Figure size 720x360 with 0 Axes>"
            ]
          },
          "metadata": {},
          "output_type": "display_data"
        },
        {
          "data": {
            "text/plain": [
              "<Figure size 432x288 with 0 Axes>"
            ]
          },
          "metadata": {},
          "output_type": "display_data"
        }
      ],
      "source": [
        "\n",
        "\n",
        "layerz = np.array([-16, 131, 477, 832, 1146, 1479.6, 1973 ])\n",
        "#print(gen3D_edge_events(2,layerz))\n",
        "data = gen3D_edge_events(1,layerz)\n",
        "\n",
        "print(data)\n",
        "plot_toy_graph_3D(data[0], False)\n",
        "#fig = plt.figure()\n",
        "#fig = px.scatter_3d(data[0], 0, 1, 2)\n",
        "#fig.show()"
      ]
    },
    {
      "cell_type": "code",
      "execution_count": null,
      "metadata": {
        "colab": {
          "base_uri": "https://localhost:8080/"
        },
        "id": "94DIt4J6R70i",
        "outputId": "41ef77ac-2528-4fc5-ba80-344a8f5e5c5a"
      },
      "outputs": [
        {
          "name": "stderr",
          "output_type": "stream",
          "text": [
            "/usr/local/lib/python3.8/dist-packages/torch_geometric/deprecation.py:12: UserWarning:\n",
            "\n",
            "'data.DataLoader' is deprecated, use 'loader.DataLoader' instead\n",
            "\n"
          ]
        }
      ],
      "source": [
        "train_size, test_size = 1000, 1000\n",
        "layerz = np.array([-16, 131, 477, 832, 1146, 1479.6, 1973 ])\n",
        "train_dataset = gen3D_edge_events(train_size,layerz)\n",
        "test_dataset = gen3D_edge_events(test_size,layerz)\n",
        "train_loader = DataLoader(train_dataset, batch_size=100, shuffle=True)\n",
        "test_loader = DataLoader(test_dataset, batch_size=100, shuffle=True)"
      ]
    },
    {
      "cell_type": "code",
      "execution_count": null,
      "metadata": {
        "colab": {
          "base_uri": "https://localhost:8080/"
        },
        "id": "8WXQu9GXR72B",
        "outputId": "35b40761-89c7-4327-e390-d80acc919197"
      },
      "outputs": [
        {
          "name": "stdout",
          "output_type": "stream",
          "text": [
            "Fake / True =  0.6\n"
          ]
        }
      ],
      "source": [
        "print(\"Fake / True = \", (len(train_dataset[0].y) - train_dataset[0].y.sum().item()) / train_dataset[0].y.sum().item())"
      ]
    },
    {
      "cell_type": "markdown",
      "metadata": {
        "id": "eusssWsdR73x"
      },
      "source": [
        "## A Simple GNN"
      ]
    },
    {
      "cell_type": "markdown",
      "metadata": {
        "id": "D1FRm4nsR730"
      },
      "source": [
        "### Message Passing GNN"
      ]
    },
    {
      "cell_type": "markdown",
      "metadata": {
        "id": "Gx0VuKz1R732"
      },
      "source": [
        "We can write out the full GNN as a class `MPNN_Network`. One can see its behaviour as:\n",
        "1. Encode (x,y) features as hidden features with an N-layer MLP called `node_encoder`\n",
        "2. Concatenate these along each edge, and feed the concatenated features into another MLP called `edge_network`\n",
        "3. Sum the output of `edge_classifier` at each node (that is, each node receives the sum of the \"messages\" of all connecting edges). This sum is fed into `node_network`\n",
        "4. Add the hidden features to the previous iteration (this helps to preserve information between messages)\n",
        "5. Repeat (2) --> (4) n_graph_iters times\n",
        "6. After the message passing loop, pass the features of each edge through an output classifier network called `edge_classifier`"
      ]
    },
    {
      "cell_type": "code",
      "execution_count": null,
      "metadata": {
        "id": "PEPycV6mR734"
      },
      "outputs": [],
      "source": [
        "def make_mlp(input_size, sizes,\n",
        "             hidden_activation='ReLU',\n",
        "             output_activation='ReLU',\n",
        "             layer_norm=False):\n",
        "    \"\"\"Construct an MLP with specified fully-connected layers.\"\"\"\n",
        "    hidden_activation = getattr(nn, hidden_activation)\n",
        "    if output_activation is not None:\n",
        "        output_activation = getattr(nn, output_activation)\n",
        "    layers = []\n",
        "    n_layers = len(sizes)\n",
        "    sizes = [input_size] + sizes\n",
        "    # Hidden layers\n",
        "    for i in range(n_layers-1):\n",
        "        layers.append(nn.Linear(sizes[i], sizes[i+1]))\n",
        "        if layer_norm:\n",
        "            layers.append(nn.LayerNorm(sizes[i+1]))\n",
        "        layers.append(hidden_activation())\n",
        "    # Final layer\n",
        "    layers.append(nn.Linear(sizes[-2], sizes[-1]))\n",
        "    if output_activation is not None:\n",
        "        if layer_norm:\n",
        "            layers.append(nn.LayerNorm(sizes[-1]))\n",
        "        layers.append(output_activation())\n",
        "    return nn.Sequential(*layers)\n",
        "\n",
        "class MPNN_Network(nn.Module):\n",
        "    \"\"\"\n",
        "    A message-passing graph network which takes a graph with:\n",
        "    - bi-directional edges\n",
        "    - node features, no edge features\n",
        "\n",
        "    and applies the following modules:\n",
        "    - a graph encoder (no message passing)\n",
        "    - recurrent edge and node networks\n",
        "    - an edge classifier\n",
        "    \"\"\"\n",
        "\n",
        "    def __init__(self, input_dim, hidden_node_dim, hidden_edge_dim, in_layers, node_layers, edge_layers,\n",
        "                 n_graph_iters=1, layer_norm=True):\n",
        "        super(MPNN_Network, self).__init__()\n",
        "        self.n_graph_iters = n_graph_iters\n",
        "\n",
        "        # The node encoder transforms input node features to the hidden space\n",
        "        self.node_encoder = make_mlp(input_dim, [hidden_node_dim]*in_layers)\n",
        "\n",
        "        # The edge network computes new edge features from connected nodes\n",
        "        self.edge_network = make_mlp(2*hidden_node_dim,\n",
        "                                     [hidden_edge_dim]*edge_layers,\n",
        "                                     layer_norm=layer_norm)\n",
        "\n",
        "        # The node network computes new node features\n",
        "        self.node_network = make_mlp(hidden_node_dim + hidden_edge_dim,\n",
        "                                     [hidden_node_dim]*node_layers,\n",
        "                                     layer_norm=layer_norm)\n",
        "\n",
        "        # The edge classifier computes final edge scores\n",
        "        self.edge_classifier = make_mlp(2*hidden_node_dim,\n",
        "                                        [hidden_edge_dim, 1],\n",
        "                                        output_activation=None)\n",
        "\n",
        "    def forward(self, data):\n",
        "        # Make every edge bi-directional\n",
        "        send_idx = torch.cat([data.edge_index[0], data.edge_index[1]], dim=0)\n",
        "        recv_idx = torch.cat([data.edge_index[1], data.edge_index[0]], dim=0)\n",
        "\n",
        "        # Encode the graph features into the hidden space\n",
        "        x = self.node_encoder(data.x)\n",
        "\n",
        "        # Loop over graph iterations\n",
        "        for i in range(self.n_graph_iters):\n",
        "\n",
        "            # Previous hidden state\n",
        "            x0 = x\n",
        "\n",
        "            # Compute new edge features\n",
        "            edge_inputs = torch.cat([x[send_idx], x[recv_idx]], dim=1)\n",
        "            e = self.edge_network(edge_inputs)\n",
        "\n",
        "            # Sum edge features coming into each node\n",
        "            aggr_messages = scatter_add(e, recv_idx, dim=0, dim_size=x.shape[0])\n",
        "\n",
        "            # Compute new node features\n",
        "            node_inputs = torch.cat([x, aggr_messages], dim=1)\n",
        "            x = self.node_network(node_inputs)\n",
        "\n",
        "            # Residual connection\n",
        "            x = x + x0\n",
        "\n",
        "        # Compute final edge scores; use original edge directions only\n",
        "        start_idx, end_idx = data.edge_index\n",
        "        clf_inputs = torch.cat([x[start_idx], x[end_idx]], dim=1)\n",
        "        return self.edge_classifier(clf_inputs).squeeze(-1)"
      ]
    },
    {
      "cell_type": "markdown",
      "metadata": {
        "id": "BOsNvEEpR74O"
      },
      "source": [
        "Build a version of the model and print it out."
      ]
    },
    {
      "cell_type": "code",
      "execution_count": null,
      "metadata": {
        "colab": {
          "base_uri": "https://localhost:8080/"
        },
        "id": "5fPSN18uR74Q",
        "outputId": "b2a263b3-7e4a-4b19-9b60-dbfd24be216d"
      },
      "outputs": [
        {
          "data": {
            "text/plain": [
              "MPNN_Network(\n",
              "  (node_encoder): Sequential(\n",
              "    (0): Linear(in_features=3, out_features=64, bias=True)\n",
              "    (1): ReLU()\n",
              "    (2): Linear(in_features=64, out_features=64, bias=True)\n",
              "    (3): ReLU()\n",
              "  )\n",
              "  (edge_network): Sequential(\n",
              "    (0): Linear(in_features=128, out_features=64, bias=True)\n",
              "    (1): LayerNorm((64,), eps=1e-05, elementwise_affine=True)\n",
              "    (2): ReLU()\n",
              "    (3): Linear(in_features=64, out_features=64, bias=True)\n",
              "    (4): LayerNorm((64,), eps=1e-05, elementwise_affine=True)\n",
              "    (5): ReLU()\n",
              "    (6): Linear(in_features=64, out_features=64, bias=True)\n",
              "    (7): LayerNorm((64,), eps=1e-05, elementwise_affine=True)\n",
              "    (8): ReLU()\n",
              "    (9): Linear(in_features=64, out_features=64, bias=True)\n",
              "    (10): LayerNorm((64,), eps=1e-05, elementwise_affine=True)\n",
              "    (11): ReLU()\n",
              "  )\n",
              "  (node_network): Sequential(\n",
              "    (0): Linear(in_features=128, out_features=64, bias=True)\n",
              "    (1): LayerNorm((64,), eps=1e-05, elementwise_affine=True)\n",
              "    (2): ReLU()\n",
              "    (3): Linear(in_features=64, out_features=64, bias=True)\n",
              "    (4): LayerNorm((64,), eps=1e-05, elementwise_affine=True)\n",
              "    (5): ReLU()\n",
              "    (6): Linear(in_features=64, out_features=64, bias=True)\n",
              "    (7): LayerNorm((64,), eps=1e-05, elementwise_affine=True)\n",
              "    (8): ReLU()\n",
              "    (9): Linear(in_features=64, out_features=64, bias=True)\n",
              "    (10): LayerNorm((64,), eps=1e-05, elementwise_affine=True)\n",
              "    (11): ReLU()\n",
              "  )\n",
              "  (edge_classifier): Sequential(\n",
              "    (0): Linear(in_features=128, out_features=64, bias=True)\n",
              "    (1): ReLU()\n",
              "    (2): Linear(in_features=64, out_features=1, bias=True)\n",
              "  )\n",
              ")"
            ]
          },
          "execution_count": 119,
          "metadata": {},
          "output_type": "execute_result"
        }
      ],
      "source": [
        "device = torch.device('cuda' if torch.cuda.is_available() else 'cpu')\n",
        "m_configs = {\"input_dim\": 3, \"hidden_node_dim\": 64, \"hidden_edge_dim\": 64, \"in_layers\": 2, \"node_layers\": 4, \"edge_layers\": 4, \"n_graph_iters\": 1, \"layer_norm\": True}\n",
        "model = MPNN_Network(**m_configs).to(device)\n",
        "model"
      ]
    },
    {
      "cell_type": "markdown",
      "metadata": {
        "id": "VSM30cK2R746"
      },
      "source": [
        "### Training on Toy Data"
      ]
    },
    {
      "cell_type": "code",
      "execution_count": null,
      "metadata": {
        "id": "NQrAmWD23j0x"
      },
      "outputs": [],
      "source": [
        "def train(model, train_loader, optimizer):\n",
        "    correct = 0\n",
        "    total = 0\n",
        "    total_loss = 0\n",
        "    for batch in train_loader:\n",
        "        optimizer.zero_grad()\n",
        "        data = batch.to(device)\n",
        "        pred = model(data)\n",
        "        loss = F.binary_cross_entropy_with_logits(pred.float(), data.y.float(), pos_weight=torch.tensor(weight))\n",
        "        loss.backward()\n",
        "        optimizer.step()\n",
        "        total_loss += loss.item()\n",
        "        correct += ((pred > 0.5) == (data.y > 0.5)).sum().item()\n",
        "        total += len(pred)\n",
        "    acc = correct/total\n",
        "    return acc, total_loss\n",
        "\n",
        "def evaluate(model, test_loader):\n",
        "    correct = 0\n",
        "    total = 0\n",
        "    total_loss = 0\n",
        "    for batch in test_loader:\n",
        "        data = batch.to(device)\n",
        "        pred = model(data)\n",
        "        loss = F.binary_cross_entropy_with_logits(pred.float(), data.y.float(), pos_weight=torch.tensor(weight))\n",
        "        total_loss += loss.item()\n",
        "        correct += ((pred > 0.5) == (data.y > 0.5)).sum().item()\n",
        "        total += len(pred)\n",
        "    acc = correct/total\n",
        "    return acc, total_loss"
      ]
    },
    {
      "cell_type": "code",
      "execution_count": null,
      "metadata": {
        "id": "dzAsqpGuR75G"
      },
      "outputs": [],
      "source": [
        "t_loss_v = []\n",
        "t_acc_v = []\n",
        "v_loss_v = []\n",
        "v_acc_v = []\n",
        "ep = 0"
      ]
    },
    {
      "cell_type": "markdown",
      "metadata": {
        "id": "8wbNjVo3R75N"
      },
      "source": [
        "We set a weight value that is more or less the (fake / true) ratio found above. This forces the loss function to punish incorrectly classified true edges more severely. It rebalances the distribution as if there was a 1:1 true:fake ratio."
      ]
    },
    {
      "cell_type": "code",
      "execution_count": null,
      "metadata": {
        "colab": {
          "base_uri": "https://localhost:8080/"
        },
        "id": "zBHqYJPaR75P",
        "outputId": "25c499ff-6d11-4e13-a5f3-175b391bbc9a"
      },
      "outputs": [
        {
          "name": "stdout",
          "output_type": "stream",
          "text": [
            "Epoch: 1, Accuracy: 0.5303\n",
            "Epoch: 2, Accuracy: 0.6250\n",
            "Epoch: 3, Accuracy: 0.6139\n",
            "Epoch: 4, Accuracy: 0.5958\n",
            "Epoch: 5, Accuracy: 0.5864\n",
            "Epoch: 6, Accuracy: 0.6355\n",
            "Epoch: 7, Accuracy: 0.6655\n",
            "Epoch: 8, Accuracy: 0.7021\n",
            "Epoch: 9, Accuracy: 0.7379\n",
            "Epoch: 10, Accuracy: 0.7907\n",
            "Epoch: 11, Accuracy: 0.8522\n",
            "Epoch: 12, Accuracy: 0.8811\n",
            "Epoch: 13, Accuracy: 0.8946\n",
            "Epoch: 14, Accuracy: 0.9109\n",
            "Epoch: 15, Accuracy: 0.9185\n",
            "Epoch: 16, Accuracy: 0.9243\n",
            "Epoch: 17, Accuracy: 0.9280\n",
            "Epoch: 18, Accuracy: 0.9315\n",
            "Epoch: 19, Accuracy: 0.9366\n",
            "Epoch: 20, Accuracy: 0.9413\n",
            "Epoch: 21, Accuracy: 0.9456\n",
            "Epoch: 22, Accuracy: 0.9476\n",
            "Epoch: 23, Accuracy: 0.9523\n",
            "Epoch: 24, Accuracy: 0.9511\n",
            "Epoch: 25, Accuracy: 0.9550\n",
            "Epoch: 26, Accuracy: 0.9557\n",
            "Epoch: 27, Accuracy: 0.9570\n",
            "Epoch: 28, Accuracy: 0.9596\n",
            "Epoch: 29, Accuracy: 0.9617\n",
            "Epoch: 30, Accuracy: 0.9627\n",
            "Epoch: 31, Accuracy: 0.9652\n",
            "Epoch: 32, Accuracy: 0.9655\n",
            "Epoch: 33, Accuracy: 0.9663\n",
            "Epoch: 34, Accuracy: 0.9677\n",
            "Epoch: 35, Accuracy: 0.9676\n",
            "Epoch: 36, Accuracy: 0.9690\n",
            "Epoch: 37, Accuracy: 0.9709\n",
            "Epoch: 38, Accuracy: 0.9729\n",
            "Epoch: 39, Accuracy: 0.9745\n",
            "Epoch: 40, Accuracy: 0.9759\n",
            "Epoch: 41, Accuracy: 0.9764\n",
            "Epoch: 42, Accuracy: 0.9769\n",
            "Epoch: 43, Accuracy: 0.9782\n",
            "Epoch: 44, Accuracy: 0.9786\n",
            "Epoch: 45, Accuracy: 0.9812\n",
            "Epoch: 46, Accuracy: 0.9809\n",
            "Epoch: 47, Accuracy: 0.9828\n",
            "Epoch: 48, Accuracy: 0.9823\n",
            "Epoch: 49, Accuracy: 0.9845\n",
            "Epoch: 50, Accuracy: 0.9837\n"
          ]
        }
      ],
      "source": [
        "weight = 2\n",
        "\n",
        "m_configs = {\"input_dim\": 3, \"hidden_node_dim\": 16, \"hidden_edge_dim\": 16, \"in_layers\": 1, \"node_layers\": 2, \"edge_layers\": 2, \"n_graph_iters\": 6, \"layer_norm\": True}\n",
        "model = MPNN_Network(**m_configs).to(device)\n",
        "\n",
        "optimizer = torch.optim.Adam(model.parameters(), lr=0.001, weight_decay=1e-3, amsgrad=True)\n",
        "\n",
        "t_loss_v = []\n",
        "t_acc_v = []\n",
        "v_loss_v = []\n",
        "v_acc_v = []\n",
        "ep = 0\n",
        "for epoch in range(50):\n",
        "    ep += 1  \n",
        "    model.train()\n",
        "    acc, total_loss = train(model, train_loader, optimizer)\n",
        "    t_loss_v.append(total_loss)\n",
        "    t_acc_v.append(acc)\n",
        "\n",
        "    model.eval()\n",
        "    acc, total_loss = evaluate(model, test_loader)\n",
        "    v_loss_v.append(total_loss)\n",
        "    v_acc_v.append(acc)\n",
        "\n",
        "    print('Epoch: {}, Accuracy: {:.4f}'.format(ep, acc))\n",
        "\n"
      ]
    },
    {
      "cell_type": "code",
      "execution_count": null,
      "metadata": {
        "colab": {
          "base_uri": "https://localhost:8080/",
          "height": 385
        },
        "id": "yEjmOmtuR75e",
        "outputId": "f09128de-f37d-408a-f678-73455377734b"
      },
      "outputs": [
        {
          "data": {
            "image/png": "[encoded data removed]",
            "text/plain": [
              "<Figure size 720x360 with 2 Axes>"
            ]
          },
          "metadata": {},
          "output_type": "display_data"
        }
      ],
      "source": [
        "fig, axs = plt.subplots(1, 2, constrained_layout=True, figsize=(10, 5))\n",
        "axs[0].set_title(\"loss\")\n",
        "axs[0].set_yscale(\"linear\")\n",
        "axs[0].plot(np.arange(len(t_loss_v)), t_loss_v, label='train')\n",
        "axs[0].plot(np.arange(len(v_loss_v)), v_loss_v, label='validation')\n",
        "axs[0].legend()\n",
        "\n",
        "axs[1].set_title(\"accuracy\")\n",
        "axs[1].plot(np.arange(len(t_acc_v)), t_acc_v, label='train')\n",
        "axs[1].plot(np.arange(len(v_acc_v)), v_acc_v, label='validation')\n",
        "axs[1].legend()\n",
        "axs[1].set_yscale(\"linear\")"
      ]
    },
    {
      "cell_type": "markdown",
      "metadata": {
        "id": "NEDdFqVnR75x"
      },
      "source": [
        "### Did it work?"
      ]
    },
    {
      "cell_type": "markdown",
      "metadata": {
        "id": "1fTa4sHsR75z"
      },
      "source": [
        "Running the above with 1 graph iteration gives me about 90% accuracy in 200 epochs."
      ]
    },
    {
      "cell_type": "markdown",
      "metadata": {
        "id": "lT5s0J70R751"
      },
      "source": [
        "The best performance that I can get with some simple manual tuning is around 95% accuracy. We can improve the efficiency at the cost of purity by raising the weight on true edges, but the accuracy won't significantly improve. In general, the biggest changes were from increasing the width (i.e. the number of dimensions) of the hidden layers. We can visualise the performance on a particular graph, colouring true positives black, false positives red, true negatives a transparent black, and false negatives in blue."
      ]
    },
    {
      "cell_type": "code",
      "execution_count": null,
      "metadata": {
        "id": "0vPsSkxwmArv"
      },
      "outputs": [],
      "source": [
        "def plot_toy_classified_3D(event, preds, cut=0.5, pyplot=False):\n",
        "    plt.figure(figsize=(10,5))\n",
        "    x, y, z = event.x[:,0].numpy(), event.x[:,1].numpy(), event.x[:,2].numpy()\n",
        "    y_true = event.y.numpy()\n",
        "    y_pred = preds.detach().numpy()\n",
        "    e = event.edge_index.numpy()\n",
        "    if pyplot:\n",
        "      fig = plt.figure()\n",
        "      ax = fig.add_subplot(projection='3d')\n",
        "      for j,i1,i2 in zip(e[0],e[1]):\n",
        "        ax.plot([x[i1], x[i2]], [y[i1], y[i2]], [z[i1], z[i2]], c='b')\n",
        "      #ax.plot([x[e[0,:]], x[e[1,:]]], [y[e[0,:]], y[e[1,:]]], [z[e[0,:]], z[e[1,:]]], c='b')\n",
        "      ax.scatter(x, y, z, c='k')\n",
        "    else:\n",
        "      fig = plt.figure()\n",
        "      #fig = px.scatter_3d(data[0], 0, 1, 2)\n",
        "      df = pd.DataFrame([], columns=['x', 'y', 'z', 'label', 'color', 'pred']) #label is not actually label, but edge index.\n",
        "      for j,i1,i2 in zip(range(len(e[0])),e[0],e[1]):\n",
        "        yt = y_true[j]\n",
        "        yp = y_pred[j]\n",
        "        color_value = 0\n",
        "        #the colors change dynamicaly, but 0 means correct edge,\n",
        "        #1 correct no edge, 2 edge not detected, 3 edge falsely detected\n",
        "        \n",
        "        if yt:\n",
        "          if yp > cut: color_value = 0\n",
        "          else: color_value = 2\n",
        "        else:\n",
        "          if yp > cut: color_value = 3\n",
        "          else: color_value = 1\n",
        "        df2 = pd.DataFrame([[x[i1], y[i1], z[i1], j, color_value, yp], [x[i2], y[i2], z[i2], j, color_value, yp]], columns=['x', 'y', 'z', 'label', 'color', 'pred'])\n",
        "        df = df.append(df2, ignore_index=True)\n",
        "      fig = px.line_3d(df, x='x', y='y', z='z', line_group='label', color='color')\n",
        "      fig.show()"
      ]
    },
    {
      "cell_type": "code",
      "execution_count": null,
      "metadata": {
        "colab": {
          "base_uri": "https://localhost:8080/",
          "height": 611
        },
        "id": "Y-fM1-DlnNPm",
        "outputId": "88027653-1252-42cb-b151-97710b0f97b1"
      },
      "outputs": [
        {
          "name": "stdout",
          "output_type": "stream",
          "text": [
            "[1. 1. 1. 1. 0. 1. 1. 1. 1. 0. 0. 1. 0. 0. 1. 0.]\n",
            "[1 1 1 1 0 1 1 1 1 1 0 1 0 0 1 0]\n"
          ]
        },
        {
          "data": {
            "text/html": [
              "<html>\n",
              "<head><meta charset=\"utf-8\" /></head>\n",
              "<body>\n",
              "    <div>            <script src=\"https://cdnjs.cloudflare.com/ajax/libs/mathjax/2.7.5/MathJax.js?config=TeX-AMS-MML_SVG\"></script><script type=\"text/javascript\">if (window.MathJax) {MathJax.Hub.Config({SVG: {font: \"STIX-Web\"}});}</script>                <script type=\"text/javascript\">window.PlotlyConfig = {MathJaxConfig: 'local'};</script>\n",
              "        <script src=\"https://cdn.plot.ly/plotly-2.8.3.min.js\"></script>                <div id=\"98e9793e-c027-4263-a4f4-0e1ac95ca4b9\" class=\"plotly-graph-div\" style=\"height:525px; width:100%;\"></div>            <script type=\"text/javascript\">                                    window.PLOTLYENV=window.PLOTLYENV || {};                                    if (document.getElementById(\"98e9793e-c027-4263-a4f4-0e1ac95ca4b9\")) {                    Plotly.newPlot(                        \"98e9793e-c027-4263-a4f4-0e1ac95ca4b9\",                        [{\"hovertemplate\":\"color=0<br>label=0<br>x=%{x}<br>y=%{y}<br>z=%{z}<extra></extra>\",\"legendgroup\":\"0\",\"line\":{\"color\":\"#636efa\",\"dash\":\"solid\"},\"marker\":{\"symbol\":\"circle\"},\"mode\":\"lines\",\"name\":\"0\",\"scene\":\"scene\",\"showlegend\":true,\"x\":[-214.15162658691406,-337.08038330078125],\"y\":[752.8994750976562,1185.083984375],\"z\":[1479.5999755859375,1973.0],\"type\":\"scatter3d\"},{\"hovertemplate\":\"color=0<br>label=1<br>x=%{x}<br>y=%{y}<br>z=%{z}<extra></extra>\",\"legendgroup\":\"0\",\"line\":{\"color\":\"#636efa\",\"dash\":\"solid\"},\"marker\":{\"symbol\":\"circle\"},\"mode\":\"lines\",\"name\":\"0\",\"scene\":\"scene\",\"showlegend\":false,\"x\":[50.734336853027344,79.8572006225586],\"y\":[178.36827087402344,280.7564392089844],\"z\":[1479.5999755859375,1973.0],\"type\":\"scatter3d\"},{\"hovertemplate\":\"color=0<br>label=2<br>x=%{x}<br>y=%{y}<br>z=%{z}<extra></extra>\",\"legendgroup\":\"0\",\"line\":{\"color\":\"#636efa\",\"dash\":\"solid\"},\"marker\":{\"symbol\":\"circle\"},\"mode\":\"lines\",\"name\":\"0\",\"scene\":\"scene\",\"showlegend\":false,\"x\":[-131.03643798828125,-214.15162658691406],\"y\":[460.6888427734375,752.8994750976562],\"z\":[1146.0,1479.5999755859375],\"type\":\"scatter3d\"},{\"hovertemplate\":\"color=0<br>label=3<br>x=%{x}<br>y=%{y}<br>z=%{z}<extra></extra>\",\"legendgroup\":\"0\",\"line\":{\"color\":\"#636efa\",\"dash\":\"solid\"},\"marker\":{\"symbol\":\"circle\"},\"mode\":\"lines\",\"name\":\"0\",\"scene\":\"scene\",\"showlegend\":false,\"x\":[0.0,12.509836196899414],\"y\":[0.0,43.98122024536133],\"z\":[477.0,832.0],\"type\":\"scatter3d\"},{\"hovertemplate\":\"color=0<br>label=5<br>x=%{x}<br>y=%{y}<br>z=%{z}<extra></extra>\",\"legendgroup\":\"0\",\"line\":{\"color\":\"#636efa\",\"dash\":\"solid\"},\"marker\":{\"symbol\":\"circle\"},\"mode\":\"lines\",\"name\":\"0\",\"scene\":\"scene\",\"showlegend\":false,\"x\":[31.043642044067383,50.734336853027344],\"y\":[109.14109802246094,178.36827087402344],\"z\":[1146.0,1479.5999755859375],\"type\":\"scatter3d\"},{\"hovertemplate\":\"color=0<br>label=6<br>x=%{x}<br>y=%{y}<br>z=%{z}<extra></extra>\",\"legendgroup\":\"0\",\"line\":{\"color\":\"#636efa\",\"dash\":\"solid\"},\"marker\":{\"symbol\":\"circle\"},\"mode\":\"lines\",\"name\":\"0\",\"scene\":\"scene\",\"showlegend\":false,\"x\":[0.0,0.0],\"y\":[0.0,0.0],\"z\":[131.0,477.0],\"type\":\"scatter3d\"},{\"hovertemplate\":\"color=0<br>label=7<br>x=%{x}<br>y=%{y}<br>z=%{z}<extra></extra>\",\"legendgroup\":\"0\",\"line\":{\"color\":\"#636efa\",\"dash\":\"solid\"},\"marker\":{\"symbol\":\"circle\"},\"mode\":\"lines\",\"name\":\"0\",\"scene\":\"scene\",\"showlegend\":false,\"x\":[12.509836196899414,31.043642044067383],\"y\":[43.98122024536133,109.14109802246094],\"z\":[832.0,1146.0],\"type\":\"scatter3d\"},{\"hovertemplate\":\"color=0<br>label=8<br>x=%{x}<br>y=%{y}<br>z=%{z}<extra></extra>\",\"legendgroup\":\"0\",\"line\":{\"color\":\"#636efa\",\"dash\":\"solid\"},\"marker\":{\"symbol\":\"circle\"},\"mode\":\"lines\",\"name\":\"0\",\"scene\":\"scene\",\"showlegend\":false,\"x\":[0.0,-52.804508209228516],\"y\":[0.0,185.64645385742188],\"z\":[477.0,832.0],\"type\":\"scatter3d\"},{\"hovertemplate\":\"color=0<br>label=11<br>x=%{x}<br>y=%{y}<br>z=%{z}<extra></extra>\",\"legendgroup\":\"0\",\"line\":{\"color\":\"#636efa\",\"dash\":\"solid\"},\"marker\":{\"symbol\":\"circle\"},\"mode\":\"lines\",\"name\":\"0\",\"scene\":\"scene\",\"showlegend\":false,\"x\":[0.0,0.0],\"y\":[0.0,0.0],\"z\":[-16.0,131.0],\"type\":\"scatter3d\"},{\"hovertemplate\":\"color=0<br>label=14<br>x=%{x}<br>y=%{y}<br>z=%{z}<extra></extra>\",\"legendgroup\":\"0\",\"line\":{\"color\":\"#636efa\",\"dash\":\"solid\"},\"marker\":{\"symbol\":\"circle\"},\"mode\":\"lines\",\"name\":\"0\",\"scene\":\"scene\",\"showlegend\":false,\"x\":[-52.804508209228516,-131.03643798828125],\"y\":[185.64645385742188,460.6888427734375],\"z\":[832.0,1146.0],\"type\":\"scatter3d\"},{\"hovertemplate\":\"color=1<br>label=4<br>x=%{x}<br>y=%{y}<br>z=%{z}<extra></extra>\",\"legendgroup\":\"1\",\"line\":{\"color\":\"#EF553B\",\"dash\":\"solid\"},\"marker\":{\"symbol\":\"circle\"},\"mode\":\"lines\",\"name\":\"1\",\"scene\":\"scene\",\"showlegend\":true,\"x\":[-214.15162658691406,79.8572006225586],\"y\":[752.8994750976562,280.7564392089844],\"z\":[1479.5999755859375,1973.0],\"type\":\"scatter3d\"},{\"hovertemplate\":\"color=1<br>label=10<br>x=%{x}<br>y=%{y}<br>z=%{z}<extra></extra>\",\"legendgroup\":\"1\",\"line\":{\"color\":\"#EF553B\",\"dash\":\"solid\"},\"marker\":{\"symbol\":\"circle\"},\"mode\":\"lines\",\"name\":\"1\",\"scene\":\"scene\",\"showlegend\":false,\"x\":[-131.03643798828125,50.734336853027344],\"y\":[460.6888427734375,178.36827087402344],\"z\":[1146.0,1479.5999755859375],\"type\":\"scatter3d\"},{\"hovertemplate\":\"color=1<br>label=12<br>x=%{x}<br>y=%{y}<br>z=%{z}<extra></extra>\",\"legendgroup\":\"1\",\"line\":{\"color\":\"#EF553B\",\"dash\":\"solid\"},\"marker\":{\"symbol\":\"circle\"},\"mode\":\"lines\",\"name\":\"1\",\"scene\":\"scene\",\"showlegend\":false,\"x\":[31.043642044067383,-214.15162658691406],\"y\":[109.14109802246094,752.8994750976562],\"z\":[1146.0,1479.5999755859375],\"type\":\"scatter3d\"},{\"hovertemplate\":\"color=1<br>label=13<br>x=%{x}<br>y=%{y}<br>z=%{z}<extra></extra>\",\"legendgroup\":\"1\",\"line\":{\"color\":\"#EF553B\",\"dash\":\"solid\"},\"marker\":{\"symbol\":\"circle\"},\"mode\":\"lines\",\"name\":\"1\",\"scene\":\"scene\",\"showlegend\":false,\"x\":[50.734336853027344,-337.08038330078125],\"y\":[178.36827087402344,1185.083984375],\"z\":[1479.5999755859375,1973.0],\"type\":\"scatter3d\"},{\"hovertemplate\":\"color=1<br>label=15<br>x=%{x}<br>y=%{y}<br>z=%{z}<extra></extra>\",\"legendgroup\":\"1\",\"line\":{\"color\":\"#EF553B\",\"dash\":\"solid\"},\"marker\":{\"symbol\":\"circle\"},\"mode\":\"lines\",\"name\":\"1\",\"scene\":\"scene\",\"showlegend\":false,\"x\":[-52.804508209228516,31.043642044067383],\"y\":[185.64645385742188,109.14109802246094],\"z\":[832.0,1146.0],\"type\":\"scatter3d\"},{\"hovertemplate\":\"color=3<br>label=9<br>x=%{x}<br>y=%{y}<br>z=%{z}<extra></extra>\",\"legendgroup\":\"3\",\"line\":{\"color\":\"#00cc96\",\"dash\":\"solid\"},\"marker\":{\"symbol\":\"circle\"},\"mode\":\"lines\",\"name\":\"3\",\"scene\":\"scene\",\"showlegend\":true,\"x\":[12.509836196899414,-131.03643798828125],\"y\":[43.98122024536133,460.6888427734375],\"z\":[832.0,1146.0],\"type\":\"scatter3d\"}],                        {\"template\":{\"data\":{\"bar\":[{\"error_x\":{\"color\":\"#2a3f5f\"},\"error_y\":{\"color\":\"#2a3f5f\"},\"marker\":{\"line\":{\"color\":\"#E5ECF6\",\"width\":0.5},\"pattern\":{\"fillmode\":\"overlay\",\"size\":10,\"solidity\":0.2}},\"type\":\"bar\"}],\"barpolar\":[{\"marker\":{\"line\":{\"color\":\"#E5ECF6\",\"width\":0.5},\"pattern\":{\"fillmode\":\"overlay\",\"size\":10,\"solidity\":0.2}},\"type\":\"barpolar\"}],\"carpet\":[{\"aaxis\":{\"endlinecolor\":\"#2a3f5f\",\"gridcolor\":\"white\",\"linecolor\":\"white\",\"minorgridcolor\":\"white\",\"startlinecolor\":\"#2a3f5f\"},\"baxis\":{\"endlinecolor\":\"#2a3f5f\",\"gridcolor\":\"white\",\"linecolor\":\"white\",\"minorgridcolor\":\"white\",\"startlinecolor\":\"#2a3f5f\"},\"type\":\"carpet\"}],\"choropleth\":[{\"colorbar\":{\"outlinewidth\":0,\"ticks\":\"\"},\"type\":\"choropleth\"}],\"contour\":[{\"colorbar\":{\"outlinewidth\":0,\"ticks\":\"\"},\"colorscale\":[[0.0,\"#0d0887\"],[0.1111111111111111,\"#46039f\"],[0.2222222222222222,\"#7201a8\"],[0.3333333333333333,\"#9c179e\"],[0.4444444444444444,\"#bd3786\"],[0.5555555555555556,\"#d8576b\"],[0.6666666666666666,\"#ed7953\"],[0.7777777777777778,\"#fb9f3a\"],[0.8888888888888888,\"#fdca26\"],[1.0,\"#f0f921\"]],\"type\":\"contour\"}],\"contourcarpet\":[{\"colorbar\":{\"outlinewidth\":0,\"ticks\":\"\"},\"type\":\"contourcarpet\"}],\"heatmap\":[{\"colorbar\":{\"outlinewidth\":0,\"ticks\":\"\"},\"colorscale\":[[0.0,\"#0d0887\"],[0.1111111111111111,\"#46039f\"],[0.2222222222222222,\"#7201a8\"],[0.3333333333333333,\"#9c179e\"],[0.4444444444444444,\"#bd3786\"],[0.5555555555555556,\"#d8576b\"],[0.6666666666666666,\"#ed7953\"],[0.7777777777777778,\"#fb9f3a\"],[0.8888888888888888,\"#fdca26\"],[1.0,\"#f0f921\"]],\"type\":\"heatmap\"}],\"heatmapgl\":[{\"colorbar\":{\"outlinewidth\":0,\"ticks\":\"\"},\"colorscale\":[[0.0,\"#0d0887\"],[0.1111111111111111,\"#46039f\"],[0.2222222222222222,\"#7201a8\"],[0.3333333333333333,\"#9c179e\"],[0.4444444444444444,\"#bd3786\"],[0.5555555555555556,\"#d8576b\"],[0.6666666666666666,\"#ed7953\"],[0.7777777777777778,\"#fb9f3a\"],[0.8888888888888888,\"#fdca26\"],[1.0,\"#f0f921\"]],\"type\":\"heatmapgl\"}],\"histogram\":[{\"marker\":{\"pattern\":{\"fillmode\":\"overlay\",\"size\":10,\"solidity\":0.2}},\"type\":\"histogram\"}],\"histogram2d\":[{\"colorbar\":{\"outlinewidth\":0,\"ticks\":\"\"},\"colorscale\":[[0.0,\"#0d0887\"],[0.1111111111111111,\"#46039f\"],[0.2222222222222222,\"#7201a8\"],[0.3333333333333333,\"#9c179e\"],[0.4444444444444444,\"#bd3786\"],[0.5555555555555556,\"#d8576b\"],[0.6666666666666666,\"#ed7953\"],[0.7777777777777778,\"#fb9f3a\"],[0.8888888888888888,\"#fdca26\"],[1.0,\"#f0f921\"]],\"type\":\"histogram2d\"}],\"histogram2dcontour\":[{\"colorbar\":{\"outlinewidth\":0,\"ticks\":\"\"},\"colorscale\":[[0.0,\"#0d0887\"],[0.1111111111111111,\"#46039f\"],[0.2222222222222222,\"#7201a8\"],[0.3333333333333333,\"#9c179e\"],[0.4444444444444444,\"#bd3786\"],[0.5555555555555556,\"#d8576b\"],[0.6666666666666666,\"#ed7953\"],[0.7777777777777778,\"#fb9f3a\"],[0.8888888888888888,\"#fdca26\"],[1.0,\"#f0f921\"]],\"type\":\"histogram2dcontour\"}],\"mesh3d\":[{\"colorbar\":{\"outlinewidth\":0,\"ticks\":\"\"},\"type\":\"mesh3d\"}],\"parcoords\":[{\"line\":{\"colorbar\":{\"outlinewidth\":0,\"ticks\":\"\"}},\"type\":\"parcoords\"}],\"pie\":[{\"automargin\":true,\"type\":\"pie\"}],\"scatter\":[{\"marker\":{\"colorbar\":{\"outlinewidth\":0,\"ticks\":\"\"}},\"type\":\"scatter\"}],\"scatter3d\":[{\"line\":{\"colorbar\":{\"outlinewidth\":0,\"ticks\":\"\"}},\"marker\":{\"colorbar\":{\"outlinewidth\":0,\"ticks\":\"\"}},\"type\":\"scatter3d\"}],\"scattercarpet\":[{\"marker\":{\"colorbar\":{\"outlinewidth\":0,\"ticks\":\"\"}},\"type\":\"scattercarpet\"}],\"scattergeo\":[{\"marker\":{\"colorbar\":{\"outlinewidth\":0,\"ticks\":\"\"}},\"type\":\"scattergeo\"}],\"scattergl\":[{\"marker\":{\"colorbar\":{\"outlinewidth\":0,\"ticks\":\"\"}},\"type\":\"scattergl\"}],\"scattermapbox\":[{\"marker\":{\"colorbar\":{\"outlinewidth\":0,\"ticks\":\"\"}},\"type\":\"scattermapbox\"}],\"scatterpolar\":[{\"marker\":{\"colorbar\":{\"outlinewidth\":0,\"ticks\":\"\"}},\"type\":\"scatterpolar\"}],\"scatterpolargl\":[{\"marker\":{\"colorbar\":{\"outlinewidth\":0,\"ticks\":\"\"}},\"type\":\"scatterpolargl\"}],\"scatterternary\":[{\"marker\":{\"colorbar\":{\"outlinewidth\":0,\"ticks\":\"\"}},\"type\":\"scatterternary\"}],\"surface\":[{\"colorbar\":{\"outlinewidth\":0,\"ticks\":\"\"},\"colorscale\":[[0.0,\"#0d0887\"],[0.1111111111111111,\"#46039f\"],[0.2222222222222222,\"#7201a8\"],[0.3333333333333333,\"#9c179e\"],[0.4444444444444444,\"#bd3786\"],[0.5555555555555556,\"#d8576b\"],[0.6666666666666666,\"#ed7953\"],[0.7777777777777778,\"#fb9f3a\"],[0.8888888888888888,\"#fdca26\"],[1.0,\"#f0f921\"]],\"type\":\"surface\"}],\"table\":[{\"cells\":{\"fill\":{\"color\":\"#EBF0F8\"},\"line\":{\"color\":\"white\"}},\"header\":{\"fill\":{\"color\":\"#C8D4E3\"},\"line\":{\"color\":\"white\"}},\"type\":\"table\"}]},\"layout\":{\"annotationdefaults\":{\"arrowcolor\":\"#2a3f5f\",\"arrowhead\":0,\"arrowwidth\":1},\"autotypenumbers\":\"strict\",\"coloraxis\":{\"colorbar\":{\"outlinewidth\":0,\"ticks\":\"\"}},\"colorscale\":{\"diverging\":[[0,\"#8e0152\"],[0.1,\"#c51b7d\"],[0.2,\"#de77ae\"],[0.3,\"#f1b6da\"],[0.4,\"#fde0ef\"],[0.5,\"#f7f7f7\"],[0.6,\"#e6f5d0\"],[0.7,\"#b8e186\"],[0.8,\"#7fbc41\"],[0.9,\"#4d9221\"],[1,\"#276419\"]],\"sequential\":[[0.0,\"#0d0887\"],[0.1111111111111111,\"#46039f\"],[0.2222222222222222,\"#7201a8\"],[0.3333333333333333,\"#9c179e\"],[0.4444444444444444,\"#bd3786\"],[0.5555555555555556,\"#d8576b\"],[0.6666666666666666,\"#ed7953\"],[0.7777777777777778,\"#fb9f3a\"],[0.8888888888888888,\"#fdca26\"],[1.0,\"#f0f921\"]],\"sequentialminus\":[[0.0,\"#0d0887\"],[0.1111111111111111,\"#46039f\"],[0.2222222222222222,\"#7201a8\"],[0.3333333333333333,\"#9c179e\"],[0.4444444444444444,\"#bd3786\"],[0.5555555555555556,\"#d8576b\"],[0.6666666666666666,\"#ed7953\"],[0.7777777777777778,\"#fb9f3a\"],[0.8888888888888888,\"#fdca26\"],[1.0,\"#f0f921\"]]},\"colorway\":[\"#636efa\",\"#EF553B\",\"#00cc96\",\"#ab63fa\",\"#FFA15A\",\"#19d3f3\",\"#FF6692\",\"#B6E880\",\"#FF97FF\",\"#FECB52\"],\"font\":{\"color\":\"#2a3f5f\"},\"geo\":{\"bgcolor\":\"white\",\"lakecolor\":\"white\",\"landcolor\":\"#E5ECF6\",\"showlakes\":true,\"showland\":true,\"subunitcolor\":\"white\"},\"hoverlabel\":{\"align\":\"left\"},\"hovermode\":\"closest\",\"mapbox\":{\"style\":\"light\"},\"paper_bgcolor\":\"white\",\"plot_bgcolor\":\"#E5ECF6\",\"polar\":{\"angularaxis\":{\"gridcolor\":\"white\",\"linecolor\":\"white\",\"ticks\":\"\"},\"bgcolor\":\"#E5ECF6\",\"radialaxis\":{\"gridcolor\":\"white\",\"linecolor\":\"white\",\"ticks\":\"\"}},\"scene\":{\"xaxis\":{\"backgroundcolor\":\"#E5ECF6\",\"gridcolor\":\"white\",\"gridwidth\":2,\"linecolor\":\"white\",\"showbackground\":true,\"ticks\":\"\",\"zerolinecolor\":\"white\"},\"yaxis\":{\"backgroundcolor\":\"#E5ECF6\",\"gridcolor\":\"white\",\"gridwidth\":2,\"linecolor\":\"white\",\"showbackground\":true,\"ticks\":\"\",\"zerolinecolor\":\"white\"},\"zaxis\":{\"backgroundcolor\":\"#E5ECF6\",\"gridcolor\":\"white\",\"gridwidth\":2,\"linecolor\":\"white\",\"showbackground\":true,\"ticks\":\"\",\"zerolinecolor\":\"white\"}},\"shapedefaults\":{\"line\":{\"color\":\"#2a3f5f\"}},\"ternary\":{\"aaxis\":{\"gridcolor\":\"white\",\"linecolor\":\"white\",\"ticks\":\"\"},\"baxis\":{\"gridcolor\":\"white\",\"linecolor\":\"white\",\"ticks\":\"\"},\"bgcolor\":\"#E5ECF6\",\"caxis\":{\"gridcolor\":\"white\",\"linecolor\":\"white\",\"ticks\":\"\"}},\"title\":{\"x\":0.05},\"xaxis\":{\"automargin\":true,\"gridcolor\":\"white\",\"linecolor\":\"white\",\"ticks\":\"\",\"title\":{\"standoff\":15},\"zerolinecolor\":\"white\",\"zerolinewidth\":2},\"yaxis\":{\"automargin\":true,\"gridcolor\":\"white\",\"linecolor\":\"white\",\"ticks\":\"\",\"title\":{\"standoff\":15},\"zerolinecolor\":\"white\",\"zerolinewidth\":2}}},\"scene\":{\"domain\":{\"x\":[0.0,1.0],\"y\":[0.0,1.0]},\"xaxis\":{\"title\":{\"text\":\"x\"}},\"yaxis\":{\"title\":{\"text\":\"y\"}},\"zaxis\":{\"title\":{\"text\":\"z\"}}},\"legend\":{\"title\":{\"text\":\"color\"},\"tracegroupgap\":0},\"margin\":{\"t\":60}},                        {\"responsive\": true}                    ).then(function(){\n",
              "                            \n",
              "var gd = document.getElementById('98e9793e-c027-4263-a4f4-0e1ac95ca4b9');\n",
              "var x = new MutationObserver(function (mutations, observer) {{\n",
              "        var display = window.getComputedStyle(gd).display;\n",
              "        if (!display || display === 'none') {{\n",
              "            console.log([gd, 'removed!']);\n",
              "            Plotly.purge(gd);\n",
              "            observer.disconnect();\n",
              "        }}\n",
              "}});\n",
              "\n",
              "// Listen for the removal of the full notebook cells\n",
              "var notebookContainer = gd.closest('#notebook-container');\n",
              "if (notebookContainer) {{\n",
              "    x.observe(notebookContainer, {childList: true});\n",
              "}}\n",
              "\n",
              "// Listen for the clearing of the current output cell\n",
              "var outputEl = gd.closest('.output');\n",
              "if (outputEl) {{\n",
              "    x.observe(outputEl, {childList: true});\n",
              "}}\n",
              "\n",
              "                        })                };                            </script>        </div>\n",
              "</body>\n",
              "</html>"
            ]
          },
          "metadata": {},
          "output_type": "display_data"
        },
        {
          "data": {
            "text/plain": [
              "<Figure size 720x360 with 0 Axes>"
            ]
          },
          "metadata": {},
          "output_type": "display_data"
        },
        {
          "data": {
            "text/plain": [
              "<Figure size 432x288 with 0 Axes>"
            ]
          },
          "metadata": {},
          "output_type": "display_data"
        }
      ],
      "source": [
        "for k in range(1000):\n",
        "  data = test_loader.dataset[k].to(device)\n",
        "  preds = torch.sigmoid(model(data)).to('cpu')\n",
        "  y_true = data.y.numpy()\n",
        "  y_pred = preds.detach().numpy() > 0.5\n",
        "  y_pred = y_pred.astype(int)\n",
        "  if (y_true == y_pred).sum()/len(y_true) > 0. and (y_true == y_pred).sum()/len(y_true) < 0.99: \n",
        "    \n",
        "    print(y_true)\n",
        "    print(y_pred)\n",
        "    plot_toy_classified_3D(data, preds)\n",
        "    break"
      ]
    },
    {
      "cell_type": "code",
      "execution_count": null,
      "metadata": {
        "colab": {
          "base_uri": "https://localhost:8080/",
          "height": 611
        },
        "id": "ZS8B_fAM6gYg",
        "outputId": "88641175-c051-414e-a2a7-1d9253f0d5f1"
      },
      "outputs": [
        {
          "name": "stdout",
          "output_type": "stream",
          "text": [
            "[0. 1. 1. 1. 0. 1. 0. 1. 0. 1. 0. 1. 1. 0. 1. 1.]\n",
            "[0 1 1 1 0 1 0 1 0 1 0 1 1 0 1 1]\n"
          ]
        },
        {
          "data": {
            "text/html": [
              "<html>\n",
              "<head><meta charset=\"utf-8\" /></head>\n",
              "<body>\n",
              "    <div>            <script src=\"https://cdnjs.cloudflare.com/ajax/libs/mathjax/2.7.5/MathJax.js?config=TeX-AMS-MML_SVG\"></script><script type=\"text/javascript\">if (window.MathJax) {MathJax.Hub.Config({SVG: {font: \"STIX-Web\"}});}</script>                <script type=\"text/javascript\">window.PlotlyConfig = {MathJaxConfig: 'local'};</script>\n",
              "        <script src=\"https://cdn.plot.ly/plotly-2.8.3.min.js\"></script>                <div id=\"873f3e79-d446-41ea-a362-3659ab31b548\" class=\"plotly-graph-div\" style=\"height:525px; width:100%;\"></div>            <script type=\"text/javascript\">                                    window.PLOTLYENV=window.PLOTLYENV || {};                                    if (document.getElementById(\"873f3e79-d446-41ea-a362-3659ab31b548\")) {                    Plotly.newPlot(                        \"873f3e79-d446-41ea-a362-3659ab31b548\",                        [{\"hovertemplate\":\"color=1<br>label=0<br>x=%{x}<br>y=%{y}<br>z=%{z}<extra></extra>\",\"legendgroup\":\"1\",\"line\":{\"color\":\"#636efa\",\"dash\":\"solid\"},\"marker\":{\"symbol\":\"circle\"},\"mode\":\"lines\",\"name\":\"1\",\"scene\":\"scene\",\"showlegend\":true,\"x\":[-80.12357330322266,794.1964721679688],\"y\":[-12.294649124145508,-121.86634063720703],\"z\":[1146.0,1479.5999755859375],\"type\":\"scatter3d\"},{\"hovertemplate\":\"color=1<br>label=4<br>x=%{x}<br>y=%{y}<br>z=%{z}<extra></extra>\",\"legendgroup\":\"1\",\"line\":{\"color\":\"#636efa\",\"dash\":\"solid\"},\"marker\":{\"symbol\":\"circle\"},\"mode\":\"lines\",\"name\":\"1\",\"scene\":\"scene\",\"showlegend\":false,\"x\":[794.1964721679688,-245.9974822998047],\"y\":[-121.86634063720703,-37.747352600097656],\"z\":[1479.5999755859375,1973.0],\"type\":\"scatter3d\"},{\"hovertemplate\":\"color=1<br>label=6<br>x=%{x}<br>y=%{y}<br>z=%{z}<extra></extra>\",\"legendgroup\":\"1\",\"line\":{\"color\":\"#636efa\",\"dash\":\"solid\"},\"marker\":{\"symbol\":\"circle\"},\"mode\":\"lines\",\"name\":\"1\",\"scene\":\"scene\",\"showlegend\":false,\"x\":[-17.14364242553711,432.7811279296875],\"y\":[-2.630624771118164,-66.4085693359375],\"z\":[832.0,1146.0],\"type\":\"scatter3d\"},{\"hovertemplate\":\"color=1<br>label=8<br>x=%{x}<br>y=%{y}<br>z=%{z}<extra></extra>\",\"legendgroup\":\"1\",\"line\":{\"color\":\"#636efa\",\"dash\":\"solid\"},\"marker\":{\"symbol\":\"circle\"},\"mode\":\"lines\",\"name\":\"1\",\"scene\":\"scene\",\"showlegend\":false,\"x\":[-147.0347442626953,1328.73583984375],\"y\":[-22.561906814575195,-203.88931274414062],\"z\":[1479.5999755859375,1973.0],\"type\":\"scatter3d\"},{\"hovertemplate\":\"color=1<br>label=10<br>x=%{x}<br>y=%{y}<br>z=%{z}<extra></extra>\",\"legendgroup\":\"1\",\"line\":{\"color\":\"#636efa\",\"dash\":\"solid\"},\"marker\":{\"symbol\":\"circle\"},\"mode\":\"lines\",\"name\":\"1\",\"scene\":\"scene\",\"showlegend\":false,\"x\":[432.7811279296875,-147.0347442626953],\"y\":[-66.4085693359375,-22.561906814575195],\"z\":[1146.0,1479.5999755859375],\"type\":\"scatter3d\"},{\"hovertemplate\":\"color=1<br>label=13<br>x=%{x}<br>y=%{y}<br>z=%{z}<extra></extra>\",\"legendgroup\":\"1\",\"line\":{\"color\":\"#636efa\",\"dash\":\"solid\"},\"marker\":{\"symbol\":\"circle\"},\"mode\":\"lines\",\"name\":\"1\",\"scene\":\"scene\",\"showlegend\":false,\"x\":[92.60001373291016,-80.12357330322266],\"y\":[-14.209110260009766,-12.294649124145508],\"z\":[832.0,1146.0],\"type\":\"scatter3d\"},{\"hovertemplate\":\"color=0<br>label=1<br>x=%{x}<br>y=%{y}<br>z=%{z}<extra></extra>\",\"legendgroup\":\"0\",\"line\":{\"color\":\"#EF553B\",\"dash\":\"solid\"},\"marker\":{\"symbol\":\"circle\"},\"mode\":\"lines\",\"name\":\"0\",\"scene\":\"scene\",\"showlegend\":true,\"x\":[0.0,92.60001373291016],\"y\":[0.0,-14.209110260009766],\"z\":[477.0,832.0],\"type\":\"scatter3d\"},{\"hovertemplate\":\"color=0<br>label=2<br>x=%{x}<br>y=%{y}<br>z=%{z}<extra></extra>\",\"legendgroup\":\"0\",\"line\":{\"color\":\"#EF553B\",\"dash\":\"solid\"},\"marker\":{\"symbol\":\"circle\"},\"mode\":\"lines\",\"name\":\"0\",\"scene\":\"scene\",\"showlegend\":false,\"x\":[-17.14364242553711,-80.12357330322266],\"y\":[-2.630624771118164,-12.294649124145508],\"z\":[832.0,1146.0],\"type\":\"scatter3d\"},{\"hovertemplate\":\"color=0<br>label=3<br>x=%{x}<br>y=%{y}<br>z=%{z}<extra></extra>\",\"legendgroup\":\"0\",\"line\":{\"color\":\"#EF553B\",\"dash\":\"solid\"},\"marker\":{\"symbol\":\"circle\"},\"mode\":\"lines\",\"name\":\"0\",\"scene\":\"scene\",\"showlegend\":false,\"x\":[-80.12357330322266,-147.0347442626953],\"y\":[-12.294649124145508,-22.561906814575195],\"z\":[1146.0,1479.5999755859375],\"type\":\"scatter3d\"},{\"hovertemplate\":\"color=0<br>label=5<br>x=%{x}<br>y=%{y}<br>z=%{z}<extra></extra>\",\"legendgroup\":\"0\",\"line\":{\"color\":\"#EF553B\",\"dash\":\"solid\"},\"marker\":{\"symbol\":\"circle\"},\"mode\":\"lines\",\"name\":\"0\",\"scene\":\"scene\",\"showlegend\":false,\"x\":[0.0,-17.14364242553711],\"y\":[0.0,-2.630624771118164],\"z\":[477.0,832.0],\"type\":\"scatter3d\"},{\"hovertemplate\":\"color=0<br>label=7<br>x=%{x}<br>y=%{y}<br>z=%{z}<extra></extra>\",\"legendgroup\":\"0\",\"line\":{\"color\":\"#EF553B\",\"dash\":\"solid\"},\"marker\":{\"symbol\":\"circle\"},\"mode\":\"lines\",\"name\":\"0\",\"scene\":\"scene\",\"showlegend\":false,\"x\":[92.60001373291016,432.7811279296875],\"y\":[-14.209110260009766,-66.4085693359375],\"z\":[832.0,1146.0],\"type\":\"scatter3d\"},{\"hovertemplate\":\"color=0<br>label=9<br>x=%{x}<br>y=%{y}<br>z=%{z}<extra></extra>\",\"legendgroup\":\"0\",\"line\":{\"color\":\"#EF553B\",\"dash\":\"solid\"},\"marker\":{\"symbol\":\"circle\"},\"mode\":\"lines\",\"name\":\"0\",\"scene\":\"scene\",\"showlegend\":false,\"x\":[0.0,0.0],\"y\":[0.0,0.0],\"z\":[-16.0,131.0],\"type\":\"scatter3d\"},{\"hovertemplate\":\"color=0<br>label=11<br>x=%{x}<br>y=%{y}<br>z=%{z}<extra></extra>\",\"legendgroup\":\"0\",\"line\":{\"color\":\"#EF553B\",\"dash\":\"solid\"},\"marker\":{\"symbol\":\"circle\"},\"mode\":\"lines\",\"name\":\"0\",\"scene\":\"scene\",\"showlegend\":false,\"x\":[794.1964721679688,1328.73583984375],\"y\":[-121.86634063720703,-203.88931274414062],\"z\":[1479.5999755859375,1973.0],\"type\":\"scatter3d\"},{\"hovertemplate\":\"color=0<br>label=12<br>x=%{x}<br>y=%{y}<br>z=%{z}<extra></extra>\",\"legendgroup\":\"0\",\"line\":{\"color\":\"#EF553B\",\"dash\":\"solid\"},\"marker\":{\"symbol\":\"circle\"},\"mode\":\"lines\",\"name\":\"0\",\"scene\":\"scene\",\"showlegend\":false,\"x\":[0.0,0.0],\"y\":[0.0,0.0],\"z\":[131.0,477.0],\"type\":\"scatter3d\"},{\"hovertemplate\":\"color=0<br>label=14<br>x=%{x}<br>y=%{y}<br>z=%{z}<extra></extra>\",\"legendgroup\":\"0\",\"line\":{\"color\":\"#EF553B\",\"dash\":\"solid\"},\"marker\":{\"symbol\":\"circle\"},\"mode\":\"lines\",\"name\":\"0\",\"scene\":\"scene\",\"showlegend\":false,\"x\":[-147.0347442626953,-245.9974822998047],\"y\":[-22.561906814575195,-37.747352600097656],\"z\":[1479.5999755859375,1973.0],\"type\":\"scatter3d\"},{\"hovertemplate\":\"color=0<br>label=15<br>x=%{x}<br>y=%{y}<br>z=%{z}<extra></extra>\",\"legendgroup\":\"0\",\"line\":{\"color\":\"#EF553B\",\"dash\":\"solid\"},\"marker\":{\"symbol\":\"circle\"},\"mode\":\"lines\",\"name\":\"0\",\"scene\":\"scene\",\"showlegend\":false,\"x\":[432.7811279296875,794.1964721679688],\"y\":[-66.4085693359375,-121.86634063720703],\"z\":[1146.0,1479.5999755859375],\"type\":\"scatter3d\"}],                        {\"template\":{\"data\":{\"bar\":[{\"error_x\":{\"color\":\"#2a3f5f\"},\"error_y\":{\"color\":\"#2a3f5f\"},\"marker\":{\"line\":{\"color\":\"#E5ECF6\",\"width\":0.5},\"pattern\":{\"fillmode\":\"overlay\",\"size\":10,\"solidity\":0.2}},\"type\":\"bar\"}],\"barpolar\":[{\"marker\":{\"line\":{\"color\":\"#E5ECF6\",\"width\":0.5},\"pattern\":{\"fillmode\":\"overlay\",\"size\":10,\"solidity\":0.2}},\"type\":\"barpolar\"}],\"carpet\":[{\"aaxis\":{\"endlinecolor\":\"#2a3f5f\",\"gridcolor\":\"white\",\"linecolor\":\"white\",\"minorgridcolor\":\"white\",\"startlinecolor\":\"#2a3f5f\"},\"baxis\":{\"endlinecolor\":\"#2a3f5f\",\"gridcolor\":\"white\",\"linecolor\":\"white\",\"minorgridcolor\":\"white\",\"startlinecolor\":\"#2a3f5f\"},\"type\":\"carpet\"}],\"choropleth\":[{\"colorbar\":{\"outlinewidth\":0,\"ticks\":\"\"},\"type\":\"choropleth\"}],\"contour\":[{\"colorbar\":{\"outlinewidth\":0,\"ticks\":\"\"},\"colorscale\":[[0.0,\"#0d0887\"],[0.1111111111111111,\"#46039f\"],[0.2222222222222222,\"#7201a8\"],[0.3333333333333333,\"#9c179e\"],[0.4444444444444444,\"#bd3786\"],[0.5555555555555556,\"#d8576b\"],[0.6666666666666666,\"#ed7953\"],[0.7777777777777778,\"#fb9f3a\"],[0.8888888888888888,\"#fdca26\"],[1.0,\"#f0f921\"]],\"type\":\"contour\"}],\"contourcarpet\":[{\"colorbar\":{\"outlinewidth\":0,\"ticks\":\"\"},\"type\":\"contourcarpet\"}],\"heatmap\":[{\"colorbar\":{\"outlinewidth\":0,\"ticks\":\"\"},\"colorscale\":[[0.0,\"#0d0887\"],[0.1111111111111111,\"#46039f\"],[0.2222222222222222,\"#7201a8\"],[0.3333333333333333,\"#9c179e\"],[0.4444444444444444,\"#bd3786\"],[0.5555555555555556,\"#d8576b\"],[0.6666666666666666,\"#ed7953\"],[0.7777777777777778,\"#fb9f3a\"],[0.8888888888888888,\"#fdca26\"],[1.0,\"#f0f921\"]],\"type\":\"heatmap\"}],\"heatmapgl\":[{\"colorbar\":{\"outlinewidth\":0,\"ticks\":\"\"},\"colorscale\":[[0.0,\"#0d0887\"],[0.1111111111111111,\"#46039f\"],[0.2222222222222222,\"#7201a8\"],[0.3333333333333333,\"#9c179e\"],[0.4444444444444444,\"#bd3786\"],[0.5555555555555556,\"#d8576b\"],[0.6666666666666666,\"#ed7953\"],[0.7777777777777778,\"#fb9f3a\"],[0.8888888888888888,\"#fdca26\"],[1.0,\"#f0f921\"]],\"type\":\"heatmapgl\"}],\"histogram\":[{\"marker\":{\"pattern\":{\"fillmode\":\"overlay\",\"size\":10,\"solidity\":0.2}},\"type\":\"histogram\"}],\"histogram2d\":[{\"colorbar\":{\"outlinewidth\":0,\"ticks\":\"\"},\"colorscale\":[[0.0,\"#0d0887\"],[0.1111111111111111,\"#46039f\"],[0.2222222222222222,\"#7201a8\"],[0.3333333333333333,\"#9c179e\"],[0.4444444444444444,\"#bd3786\"],[0.5555555555555556,\"#d8576b\"],[0.6666666666666666,\"#ed7953\"],[0.7777777777777778,\"#fb9f3a\"],[0.8888888888888888,\"#fdca26\"],[1.0,\"#f0f921\"]],\"type\":\"histogram2d\"}],\"histogram2dcontour\":[{\"colorbar\":{\"outlinewidth\":0,\"ticks\":\"\"},\"colorscale\":[[0.0,\"#0d0887\"],[0.1111111111111111,\"#46039f\"],[0.2222222222222222,\"#7201a8\"],[0.3333333333333333,\"#9c179e\"],[0.4444444444444444,\"#bd3786\"],[0.5555555555555556,\"#d8576b\"],[0.6666666666666666,\"#ed7953\"],[0.7777777777777778,\"#fb9f3a\"],[0.8888888888888888,\"#fdca26\"],[1.0,\"#f0f921\"]],\"type\":\"histogram2dcontour\"}],\"mesh3d\":[{\"colorbar\":{\"outlinewidth\":0,\"ticks\":\"\"},\"type\":\"mesh3d\"}],\"parcoords\":[{\"line\":{\"colorbar\":{\"outlinewidth\":0,\"ticks\":\"\"}},\"type\":\"parcoords\"}],\"pie\":[{\"automargin\":true,\"type\":\"pie\"}],\"scatter\":[{\"marker\":{\"colorbar\":{\"outlinewidth\":0,\"ticks\":\"\"}},\"type\":\"scatter\"}],\"scatter3d\":[{\"line\":{\"colorbar\":{\"outlinewidth\":0,\"ticks\":\"\"}},\"marker\":{\"colorbar\":{\"outlinewidth\":0,\"ticks\":\"\"}},\"type\":\"scatter3d\"}],\"scattercarpet\":[{\"marker\":{\"colorbar\":{\"outlinewidth\":0,\"ticks\":\"\"}},\"type\":\"scattercarpet\"}],\"scattergeo\":[{\"marker\":{\"colorbar\":{\"outlinewidth\":0,\"ticks\":\"\"}},\"type\":\"scattergeo\"}],\"scattergl\":[{\"marker\":{\"colorbar\":{\"outlinewidth\":0,\"ticks\":\"\"}},\"type\":\"scattergl\"}],\"scattermapbox\":[{\"marker\":{\"colorbar\":{\"outlinewidth\":0,\"ticks\":\"\"}},\"type\":\"scattermapbox\"}],\"scatterpolar\":[{\"marker\":{\"colorbar\":{\"outlinewidth\":0,\"ticks\":\"\"}},\"type\":\"scatterpolar\"}],\"scatterpolargl\":[{\"marker\":{\"colorbar\":{\"outlinewidth\":0,\"ticks\":\"\"}},\"type\":\"scatterpolargl\"}],\"scatterternary\":[{\"marker\":{\"colorbar\":{\"outlinewidth\":0,\"ticks\":\"\"}},\"type\":\"scatterternary\"}],\"surface\":[{\"colorbar\":{\"outlinewidth\":0,\"ticks\":\"\"},\"colorscale\":[[0.0,\"#0d0887\"],[0.1111111111111111,\"#46039f\"],[0.2222222222222222,\"#7201a8\"],[0.3333333333333333,\"#9c179e\"],[0.4444444444444444,\"#bd3786\"],[0.5555555555555556,\"#d8576b\"],[0.6666666666666666,\"#ed7953\"],[0.7777777777777778,\"#fb9f3a\"],[0.8888888888888888,\"#fdca26\"],[1.0,\"#f0f921\"]],\"type\":\"surface\"}],\"table\":[{\"cells\":{\"fill\":{\"color\":\"#EBF0F8\"},\"line\":{\"color\":\"white\"}},\"header\":{\"fill\":{\"color\":\"#C8D4E3\"},\"line\":{\"color\":\"white\"}},\"type\":\"table\"}]},\"layout\":{\"annotationdefaults\":{\"arrowcolor\":\"#2a3f5f\",\"arrowhead\":0,\"arrowwidth\":1},\"autotypenumbers\":\"strict\",\"coloraxis\":{\"colorbar\":{\"outlinewidth\":0,\"ticks\":\"\"}},\"colorscale\":{\"diverging\":[[0,\"#8e0152\"],[0.1,\"#c51b7d\"],[0.2,\"#de77ae\"],[0.3,\"#f1b6da\"],[0.4,\"#fde0ef\"],[0.5,\"#f7f7f7\"],[0.6,\"#e6f5d0\"],[0.7,\"#b8e186\"],[0.8,\"#7fbc41\"],[0.9,\"#4d9221\"],[1,\"#276419\"]],\"sequential\":[[0.0,\"#0d0887\"],[0.1111111111111111,\"#46039f\"],[0.2222222222222222,\"#7201a8\"],[0.3333333333333333,\"#9c179e\"],[0.4444444444444444,\"#bd3786\"],[0.5555555555555556,\"#d8576b\"],[0.6666666666666666,\"#ed7953\"],[0.7777777777777778,\"#fb9f3a\"],[0.8888888888888888,\"#fdca26\"],[1.0,\"#f0f921\"]],\"sequentialminus\":[[0.0,\"#0d0887\"],[0.1111111111111111,\"#46039f\"],[0.2222222222222222,\"#7201a8\"],[0.3333333333333333,\"#9c179e\"],[0.4444444444444444,\"#bd3786\"],[0.5555555555555556,\"#d8576b\"],[0.6666666666666666,\"#ed7953\"],[0.7777777777777778,\"#fb9f3a\"],[0.8888888888888888,\"#fdca26\"],[1.0,\"#f0f921\"]]},\"colorway\":[\"#636efa\",\"#EF553B\",\"#00cc96\",\"#ab63fa\",\"#FFA15A\",\"#19d3f3\",\"#FF6692\",\"#B6E880\",\"#FF97FF\",\"#FECB52\"],\"font\":{\"color\":\"#2a3f5f\"},\"geo\":{\"bgcolor\":\"white\",\"lakecolor\":\"white\",\"landcolor\":\"#E5ECF6\",\"showlakes\":true,\"showland\":true,\"subunitcolor\":\"white\"},\"hoverlabel\":{\"align\":\"left\"},\"hovermode\":\"closest\",\"mapbox\":{\"style\":\"light\"},\"paper_bgcolor\":\"white\",\"plot_bgcolor\":\"#E5ECF6\",\"polar\":{\"angularaxis\":{\"gridcolor\":\"white\",\"linecolor\":\"white\",\"ticks\":\"\"},\"bgcolor\":\"#E5ECF6\",\"radialaxis\":{\"gridcolor\":\"white\",\"linecolor\":\"white\",\"ticks\":\"\"}},\"scene\":{\"xaxis\":{\"backgroundcolor\":\"#E5ECF6\",\"gridcolor\":\"white\",\"gridwidth\":2,\"linecolor\":\"white\",\"showbackground\":true,\"ticks\":\"\",\"zerolinecolor\":\"white\"},\"yaxis\":{\"backgroundcolor\":\"#E5ECF6\",\"gridcolor\":\"white\",\"gridwidth\":2,\"linecolor\":\"white\",\"showbackground\":true,\"ticks\":\"\",\"zerolinecolor\":\"white\"},\"zaxis\":{\"backgroundcolor\":\"#E5ECF6\",\"gridcolor\":\"white\",\"gridwidth\":2,\"linecolor\":\"white\",\"showbackground\":true,\"ticks\":\"\",\"zerolinecolor\":\"white\"}},\"shapedefaults\":{\"line\":{\"color\":\"#2a3f5f\"}},\"ternary\":{\"aaxis\":{\"gridcolor\":\"white\",\"linecolor\":\"white\",\"ticks\":\"\"},\"baxis\":{\"gridcolor\":\"white\",\"linecolor\":\"white\",\"ticks\":\"\"},\"bgcolor\":\"#E5ECF6\",\"caxis\":{\"gridcolor\":\"white\",\"linecolor\":\"white\",\"ticks\":\"\"}},\"title\":{\"x\":0.05},\"xaxis\":{\"automargin\":true,\"gridcolor\":\"white\",\"linecolor\":\"white\",\"ticks\":\"\",\"title\":{\"standoff\":15},\"zerolinecolor\":\"white\",\"zerolinewidth\":2},\"yaxis\":{\"automargin\":true,\"gridcolor\":\"white\",\"linecolor\":\"white\",\"ticks\":\"\",\"title\":{\"standoff\":15},\"zerolinecolor\":\"white\",\"zerolinewidth\":2}}},\"scene\":{\"domain\":{\"x\":[0.0,1.0],\"y\":[0.0,1.0]},\"xaxis\":{\"title\":{\"text\":\"x\"}},\"yaxis\":{\"title\":{\"text\":\"y\"}},\"zaxis\":{\"title\":{\"text\":\"z\"}}},\"legend\":{\"title\":{\"text\":\"color\"},\"tracegroupgap\":0},\"margin\":{\"t\":60}},                        {\"responsive\": true}                    ).then(function(){\n",
              "                            \n",
              "var gd = document.getElementById('873f3e79-d446-41ea-a362-3659ab31b548');\n",
              "var x = new MutationObserver(function (mutations, observer) {{\n",
              "        var display = window.getComputedStyle(gd).display;\n",
              "        if (!display || display === 'none') {{\n",
              "            console.log([gd, 'removed!']);\n",
              "            Plotly.purge(gd);\n",
              "            observer.disconnect();\n",
              "        }}\n",
              "}});\n",
              "\n",
              "// Listen for the removal of the full notebook cells\n",
              "var notebookContainer = gd.closest('#notebook-container');\n",
              "if (notebookContainer) {{\n",
              "    x.observe(notebookContainer, {childList: true});\n",
              "}}\n",
              "\n",
              "// Listen for the clearing of the current output cell\n",
              "var outputEl = gd.closest('.output');\n",
              "if (outputEl) {{\n",
              "    x.observe(outputEl, {childList: true});\n",
              "}}\n",
              "\n",
              "                        })                };                            </script>        </div>\n",
              "</body>\n",
              "</html>"
            ]
          },
          "metadata": {},
          "output_type": "display_data"
        },
        {
          "data": {
            "text/plain": [
              "<Figure size 720x360 with 0 Axes>"
            ]
          },
          "metadata": {},
          "output_type": "display_data"
        },
        {
          "data": {
            "text/plain": [
              "<Figure size 432x288 with 0 Axes>"
            ]
          },
          "metadata": {},
          "output_type": "display_data"
        }
      ],
      "source": [
        "k = 10\n",
        "data = test_loader.dataset[k].to(device)\n",
        "preds = torch.sigmoid(model(data)).to('cpu')\n",
        "y_true = data.y.numpy()\n",
        "y_pred = preds.detach().numpy() > 0.5\n",
        "y_pred = y_pred.astype(int)\n",
        "print(y_true)\n",
        "print(y_pred)\n",
        "plot_toy_classified_3D(data, preds)"
      ]
    },
    {
      "cell_type": "markdown",
      "metadata": {
        "id": "cIo7EeyJR76L"
      },
      "source": [
        "So we can see that it's working quite well. Few missed true edges, and few misclassified fake edges. The ratio of false positives to false negatives (which can be defined with efficiency and purity) is controlled by the cut we put on the prediction score. "
      ]
    },
    {
      "cell_type": "markdown",
      "metadata": {
        "id": "8CBDsYlxR76N"
      },
      "source": [
        "### The effect of Message Passing"
      ]
    },
    {
      "cell_type": "markdown",
      "metadata": {
        "id": "wSZzzAtDR76P"
      },
      "source": [
        "In this simple example, the message passing does not do a huge amount. Going from 1 iteration to 6 iterations improves the accuracy to around 93% (from 90%). This improvement is washed out with more hidden dimensions, as one can see from the below set of tests. Try playing with more hidden node and edge dimensions (e.g. 64) and see if the message passing iterations can improve the performance."
      ]
    },
    {
      "cell_type": "code",
      "execution_count": null,
      "metadata": {
        "colab": {
          "base_uri": "https://localhost:8080/",
          "height": 1000
        },
        "id": "-9vg_JclR76S",
        "outputId": "b2124d3f-ef98-40e9-ab64-11e79d059500"
      },
      "outputs": [
        {
          "name": "stdout",
          "output_type": "stream",
          "text": [
            "Epoch: 1, Accuracy: 0.5088\n",
            "Epoch: 2, Accuracy: 0.5764\n",
            "Epoch: 3, Accuracy: 0.5764\n",
            "Epoch: 4, Accuracy: 0.5764\n",
            "Epoch: 5, Accuracy: 0.5764\n",
            "Epoch: 6, Accuracy: 0.5764\n",
            "Epoch: 7, Accuracy: 0.5764\n",
            "Epoch: 8, Accuracy: 0.5764\n",
            "Epoch: 9, Accuracy: 0.5764\n",
            "Epoch: 10, Accuracy: 0.5802\n",
            "Epoch: 11, Accuracy: 0.5929\n",
            "Epoch: 12, Accuracy: 0.5962\n",
            "Epoch: 13, Accuracy: 0.6178\n",
            "Epoch: 14, Accuracy: 0.6250\n",
            "Epoch: 15, Accuracy: 0.6160\n",
            "Epoch: 16, Accuracy: 0.6253\n",
            "Epoch: 17, Accuracy: 0.6303\n",
            "Epoch: 18, Accuracy: 0.6238\n",
            "Epoch: 19, Accuracy: 0.6331\n",
            "Epoch: 20, Accuracy: 0.6225\n",
            "Epoch: 21, Accuracy: 0.6494\n",
            "Epoch: 22, Accuracy: 0.6107\n",
            "Epoch: 23, Accuracy: 0.6811\n",
            "Epoch: 24, Accuracy: 0.6324\n",
            "Epoch: 25, Accuracy: 0.7029\n",
            "Epoch: 26, Accuracy: 0.7245\n",
            "Epoch: 27, Accuracy: 0.6588\n",
            "Epoch: 28, Accuracy: 0.8863\n",
            "Epoch: 29, Accuracy: 0.8582\n",
            "Epoch: 30, Accuracy: 0.8261\n",
            "Epoch: 31, Accuracy: 0.8573\n",
            "Epoch: 32, Accuracy: 0.8889\n",
            "Epoch: 33, Accuracy: 0.9489\n",
            "Epoch: 34, Accuracy: 0.9385\n",
            "Epoch: 35, Accuracy: 0.9565\n",
            "Epoch: 36, Accuracy: 0.9314\n",
            "Epoch: 37, Accuracy: 0.9404\n",
            "Epoch: 38, Accuracy: 0.9620\n",
            "Epoch: 39, Accuracy: 0.9370\n",
            "Epoch: 40, Accuracy: 0.9515\n",
            "Epoch: 41, Accuracy: 0.9587\n",
            "Epoch: 42, Accuracy: 0.9579\n",
            "Epoch: 43, Accuracy: 0.9611\n",
            "Epoch: 44, Accuracy: 0.9506\n",
            "Epoch: 45, Accuracy: 0.9520\n",
            "Epoch: 46, Accuracy: 0.9197\n",
            "Epoch: 47, Accuracy: 0.9274\n",
            "Epoch: 48, Accuracy: 0.9466\n",
            "Epoch: 49, Accuracy: 0.9666\n",
            "Epoch: 50, Accuracy: 0.9635\n",
            "Epoch: 51, Accuracy: 0.9679\n",
            "Epoch: 52, Accuracy: 0.9656\n",
            "Epoch: 53, Accuracy: 0.9760\n",
            "Epoch: 54, Accuracy: 0.9608\n",
            "Epoch: 55, Accuracy: 0.9763\n",
            "Epoch: 56, Accuracy: 0.9729\n",
            "Epoch: 57, Accuracy: 0.9752\n",
            "Epoch: 58, Accuracy: 0.9720\n",
            "Epoch: 59, Accuracy: 0.9741\n",
            "Epoch: 60, Accuracy: 0.9733\n",
            "Epoch: 61, Accuracy: 0.9538\n",
            "Epoch: 62, Accuracy: 0.9637\n",
            "Epoch: 63, Accuracy: 0.9575\n",
            "Epoch: 64, Accuracy: 0.9599\n",
            "Epoch: 65, Accuracy: 0.9719\n",
            "Epoch: 66, Accuracy: 0.9743\n",
            "Epoch: 67, Accuracy: 0.9603\n",
            "Epoch: 68, Accuracy: 0.9747\n",
            "Epoch: 69, Accuracy: 0.9741\n",
            "Epoch: 70, Accuracy: 0.9671\n",
            "Epoch: 71, Accuracy: 0.9687\n",
            "Epoch: 72, Accuracy: 0.9752\n",
            "Epoch: 73, Accuracy: 0.9504\n",
            "Epoch: 74, Accuracy: 0.9637\n",
            "Epoch: 75, Accuracy: 0.9559\n",
            "Epoch: 76, Accuracy: 0.9616\n",
            "Epoch: 77, Accuracy: 0.9639\n",
            "Epoch: 78, Accuracy: 0.9775\n",
            "Epoch: 79, Accuracy: 0.9682\n",
            "Epoch: 80, Accuracy: 0.9660\n",
            "Epoch: 81, Accuracy: 0.9726\n",
            "Epoch: 82, Accuracy: 0.9744\n",
            "Epoch: 83, Accuracy: 0.9747\n",
            "Epoch: 84, Accuracy: 0.9720\n",
            "Epoch: 85, Accuracy: 0.9720\n",
            "Epoch: 86, Accuracy: 0.9760\n",
            "Epoch: 87, Accuracy: 0.9557\n",
            "Epoch: 88, Accuracy: 0.9695\n",
            "Epoch: 89, Accuracy: 0.9676\n",
            "Epoch: 90, Accuracy: 0.9770\n",
            "Epoch: 91, Accuracy: 0.9763\n",
            "Epoch: 92, Accuracy: 0.9768\n",
            "Epoch: 93, Accuracy: 0.9725\n",
            "Epoch: 94, Accuracy: 0.9676\n",
            "Epoch: 95, Accuracy: 0.9718\n",
            "Epoch: 96, Accuracy: 0.9681\n",
            "Epoch: 97, Accuracy: 0.9771\n",
            "Epoch: 98, Accuracy: 0.9740\n",
            "Epoch: 99, Accuracy: 0.9728\n",
            "Epoch: 100, Accuracy: 0.9788\n",
            "Epoch: 101, Accuracy: 0.9732\n",
            "Epoch: 102, Accuracy: 0.9641\n",
            "Epoch: 103, Accuracy: 0.9414\n",
            "Epoch: 104, Accuracy: 0.9679\n",
            "Epoch: 105, Accuracy: 0.9744\n",
            "Epoch: 106, Accuracy: 0.9698\n",
            "Epoch: 107, Accuracy: 0.9792\n",
            "Epoch: 108, Accuracy: 0.9721\n",
            "Epoch: 109, Accuracy: 0.9763\n",
            "Epoch: 110, Accuracy: 0.9774\n",
            "Epoch: 111, Accuracy: 0.9752\n",
            "Epoch: 112, Accuracy: 0.9753\n",
            "Epoch: 113, Accuracy: 0.9776\n",
            "Epoch: 114, Accuracy: 0.9731\n",
            "Epoch: 115, Accuracy: 0.9761\n",
            "Epoch: 116, Accuracy: 0.9757\n",
            "Epoch: 117, Accuracy: 0.9800\n",
            "Epoch: 118, Accuracy: 0.9764\n",
            "Epoch: 119, Accuracy: 0.9769\n",
            "Epoch: 120, Accuracy: 0.9567\n",
            "Epoch: 121, Accuracy: 0.9773\n",
            "Epoch: 122, Accuracy: 0.9786\n",
            "Epoch: 123, Accuracy: 0.9800\n",
            "Epoch: 124, Accuracy: 0.9657\n",
            "Epoch: 125, Accuracy: 0.9762\n",
            "Epoch: 126, Accuracy: 0.9728\n",
            "Epoch: 127, Accuracy: 0.9739\n",
            "Epoch: 128, Accuracy: 0.9709\n",
            "Epoch: 129, Accuracy: 0.9768\n",
            "Epoch: 130, Accuracy: 0.9763\n",
            "Epoch: 131, Accuracy: 0.9556\n",
            "Epoch: 132, Accuracy: 0.9702\n",
            "Epoch: 133, Accuracy: 0.9724\n",
            "Epoch: 134, Accuracy: 0.9776\n",
            "Epoch: 135, Accuracy: 0.9711\n",
            "Epoch: 136, Accuracy: 0.9619\n",
            "Epoch: 137, Accuracy: 0.9755\n",
            "Epoch: 138, Accuracy: 0.9737\n",
            "Epoch: 139, Accuracy: 0.9775\n",
            "Epoch: 140, Accuracy: 0.9752\n",
            "Epoch: 141, Accuracy: 0.9716\n",
            "Epoch: 142, Accuracy: 0.9787\n",
            "Epoch: 143, Accuracy: 0.9773\n",
            "Epoch: 144, Accuracy: 0.9777\n",
            "Epoch: 145, Accuracy: 0.9797\n",
            "Epoch: 146, Accuracy: 0.9798\n",
            "Epoch: 147, Accuracy: 0.9791\n",
            "Epoch: 148, Accuracy: 0.9739\n",
            "Epoch: 149, Accuracy: 0.9756\n",
            "Epoch: 150, Accuracy: 0.9627\n",
            "Epoch: 151, Accuracy: 0.9743\n",
            "Epoch: 152, Accuracy: 0.9772\n",
            "Epoch: 153, Accuracy: 0.9643\n",
            "Epoch: 154, Accuracy: 0.9715\n",
            "Epoch: 155, Accuracy: 0.9765\n",
            "Epoch: 156, Accuracy: 0.9764\n",
            "Epoch: 157, Accuracy: 0.9776\n",
            "Epoch: 158, Accuracy: 0.9772\n",
            "Epoch: 159, Accuracy: 0.9677\n",
            "Epoch: 160, Accuracy: 0.9725\n",
            "Epoch: 161, Accuracy: 0.9808\n",
            "Epoch: 162, Accuracy: 0.9803\n",
            "Epoch: 163, Accuracy: 0.9802\n",
            "Epoch: 164, Accuracy: 0.9796\n",
            "Epoch: 165, Accuracy: 0.9791\n",
            "Epoch: 166, Accuracy: 0.9516\n",
            "Epoch: 167, Accuracy: 0.9673\n",
            "Epoch: 168, Accuracy: 0.9754\n",
            "Epoch: 169, Accuracy: 0.9730\n",
            "Epoch: 170, Accuracy: 0.9789\n",
            "Epoch: 171, Accuracy: 0.9781\n",
            "Epoch: 172, Accuracy: 0.9787\n",
            "Epoch: 173, Accuracy: 0.9753\n",
            "Epoch: 174, Accuracy: 0.9787\n",
            "Epoch: 175, Accuracy: 0.9771\n",
            "Epoch: 176, Accuracy: 0.9761\n",
            "Epoch: 177, Accuracy: 0.9771\n",
            "Epoch: 178, Accuracy: 0.9767\n",
            "Epoch: 179, Accuracy: 0.9708\n",
            "Epoch: 180, Accuracy: 0.9764\n",
            "Epoch: 181, Accuracy: 0.9796\n",
            "Epoch: 182, Accuracy: 0.9727\n",
            "Epoch: 183, Accuracy: 0.9769\n",
            "Epoch: 184, Accuracy: 0.9739\n",
            "Epoch: 185, Accuracy: 0.9394\n",
            "Epoch: 186, Accuracy: 0.9605\n",
            "Epoch: 187, Accuracy: 0.9707\n",
            "Epoch: 188, Accuracy: 0.9769\n",
            "Epoch: 189, Accuracy: 0.9791\n",
            "Epoch: 190, Accuracy: 0.9785\n",
            "Epoch: 191, Accuracy: 0.9778\n",
            "Epoch: 192, Accuracy: 0.9795\n",
            "Epoch: 193, Accuracy: 0.9785\n",
            "Epoch: 194, Accuracy: 0.9799\n",
            "Epoch: 195, Accuracy: 0.9789\n",
            "Epoch: 196, Accuracy: 0.9785\n",
            "Epoch: 197, Accuracy: 0.9767\n",
            "Epoch: 198, Accuracy: 0.9777\n",
            "Epoch: 199, Accuracy: 0.9783\n",
            "Epoch: 200, Accuracy: 0.9784\n"
          ]
        },
        {
          "data": {
            "text/plain": [
              "[<matplotlib.lines.Line2D at 0x7f02522ac700>]"
            ]
          },
          "execution_count": 30,
          "metadata": {},
          "output_type": "execute_result"
        },
        {
          "data": {
            "image/png": "[encoded data removed]",
            "text/plain": [
              "<Figure size 432x288 with 1 Axes>"
            ]
          },
          "metadata": {},
          "output_type": "display_data"
        }
      ],
      "source": [
        "t_loss_v = []\n",
        "t_acc_v = []\n",
        "v_loss_v = []\n",
        "v_acc_v = []\n",
        "ep = 0\n",
        "best_acc = np.zeros(10)\n",
        "for i in range(1,2): #for i in range(1,11): # shorten to 2 iterations to speed up\n",
        "    m_configs = {\"input_dim\": 3, \"hidden_node_dim\": 16, \"hidden_edge_dim\": 16, \"in_layers\": 1, \"node_layers\": 2, \"edge_layers\": 2, \"n_graph_iters\": i, \"layer_norm\": True}\n",
        "    model = MPNN_Network(**m_configs).to(device)\n",
        "    optimizer = torch.optim.Adam(model.parameters(), lr=0.001, weight_decay=1e-3, amsgrad=True)\n",
        "    for epoch in range(50):\n",
        "        ep += 1  \n",
        "        model.train()\n",
        "        acc, total_loss = train(model, train_loader, optimizer)\n",
        "        t_loss_v.append(total_loss)\n",
        "        t_acc_v.append(acc)\n",
        "\n",
        "        model.eval()\n",
        "        acc, total_loss = evaluate(model, test_loader)\n",
        "        if acc > best_acc[i-1]: best_acc[i-1] = acc\n",
        "        v_loss_v.append(total_loss)\n",
        "        v_acc_v.append(acc)\n",
        "\n",
        "        print('Epoch: {}, Accuracy: {:.4f}'.format(ep, acc))\n",
        "plt.plot(np.arange(len(best_acc)), best_acc)"
      ]
    },
    {
      "cell_type": "code",
      "execution_count": null,
      "metadata": {
        "colab": {
          "base_uri": "https://localhost:8080/",
          "height": 283
        },
        "id": "_XjlMCJ_-BxA",
        "outputId": "3a4dc924-de04-4fdf-fce2-60530f27963c"
      },
      "outputs": [
        {
          "data": {
            "text/plain": [
              "[<matplotlib.lines.Line2D at 0x7f88ec8cd050>]"
            ]
          },
          "execution_count": 27,
          "metadata": {},
          "output_type": "execute_result"
        },
        {
          "data": {
            "image/png": "[encoded data removed]",
            "text/plain": [
              "<Figure size 432x288 with 1 Axes>"
            ]
          },
          "metadata": {},
          "output_type": "display_data"
        }
      ],
      "source": [
        "plt.plot(np.arange(len(best_acc)), best_acc)"
      ]
    },
    {
      "cell_type": "code",
      "execution_count": 3,
      "metadata": {
        "colab": {
          "base_uri": "https://localhost:8080/"
        },
        "id": "T-mGoB8gsrBX",
        "outputId": "b6108842-477c-4b18-9383-f011bbe671b1"
      },
      "outputs": [
        {
          "output_type": "stream",
          "name": "stdout",
          "text": [
            "Mounted at /content/drive/\n"
          ]
        }
      ],
      "source": [
        "from google.colab import drive\n",
        "drive.mount('/content/drive/')"
      ]
    },
    {
      "cell_type": "code",
      "execution_count": 16,
      "metadata": {
        "id": "KlJh3ELkssQA"
      },
      "outputs": [],
      "source": [
        "import numpy as np, pandas as pd\n",
        "def xyz_from_hits(layer_info):\n",
        "  #layer_info - dataframe consisting of two rows that contain information about two closeby layers\n",
        "  #returns x,y,z array\n",
        "  df = layer_info.sort_values('hitType')\n",
        "  z = df['layerZ'].mean()\n",
        "  #knowing df is sorted:\n",
        "  #this can be changed when i know how stereo layers work\n",
        "  tag = df['hitType'].tolist()\n",
        "  pos = df['hitPos'].tolist()\n",
        "  s = np.sqrt(2)\n",
        "  if (tag == [0, 1]):\n",
        "    x,y = pos\n",
        "  elif (tag == [0, 2]):\n",
        "    #assuming x+y/sqrt2\n",
        "    x = pos[0]\n",
        "    y = pos[1]*s - x\n",
        "  elif (tag == [0, 3]):\n",
        "    #-y+x/sqrt2\n",
        "    x = pos[0]\n",
        "    y = -pos[1]*s - x\n",
        "  elif (tag == [1, 2]):\n",
        "    #assuming x+y/sqrt2\n",
        "    y = pos[0]\n",
        "    x = pos[1]*s - y\n",
        "  elif (tag == [1, 3]):\n",
        "    #-y+x/sqrt2\n",
        "    y = pos[0]\n",
        "    x = pos[1]*s + y\n",
        "  try:\n",
        "    return np.array([x, y, z])\n",
        "  except:\n",
        "    print('Unknown hit type')\n",
        "    return np.array([0, 0, z])\n",
        "\n",
        "def generate_points(sub_event, layer_groups):\n",
        "  #event with only one track\n",
        "  points = np.empty((0,3))\n",
        "  for group in layer_groups:\n",
        "    points = np.append(points, [xyz_from_hits(sub_event[sub_event['layerIndex'].isin(group)])], axis=0)\n",
        "  return points\n",
        "\n",
        "def generate_event_possible_points(event, two_layer_groups):\n",
        "  #assuming event is sorted by layer index\n",
        "  #layer groups are layer indices of closeby layers, grouped into two lists for before and after\n",
        "  df = event.sort_values('trackID')\n",
        "  df0, df1, df2 = [df_i.sort_values('layerIndex') for _, df_i in df.groupby(df['trackID'])]\n",
        "  p0s = generate_points(df0, two_layer_groups[0])\n",
        "  p1s = generate_points(df1, two_layer_groups[1])\n",
        "  p2s = generate_points(df2, two_layer_groups[1])\n",
        "\n",
        "  #generating ghost hits as particle 3 ( ghoston :) )\n",
        "  #there are two ghost points at each layer group: a and b\n",
        "  layers1, layers2 = np.transpose(two_layer_groups[1])\n",
        "  df3a = pd.concat([df1[df1['layerIndex'].isin(layers1)], df2[df2['layerIndex'].isin(layers2)]]).sort_values('layerIndex')\n",
        "  df3b = pd.concat([df1[df1['layerIndex'].isin(layers2)], df2[df2['layerIndex'].isin(layers1)]]).sort_values('layerIndex')\n",
        "  \n",
        "  p3as = generate_points(df3a, two_layer_groups[1])\n",
        "  p3bs = generate_points(df3b, two_layer_groups[1])\n",
        "  return p0s, p1s, p2s, p3as, p3bs\n",
        "\n",
        "def ShuffleIndexSwap(Edges, nIdx):\n",
        "  #changes edges according to the shuffled index\n",
        "  my_dict = {}\n",
        "  for i in range(len(nIdx)):\n",
        "    my_dict[i] = nIdx[i]\n",
        "  \n",
        "  return np.vectorize(my_dict.get)(Edges)\n",
        "\n",
        "\n",
        "def gen3D_edge_events(event):\n",
        "  #event - pandas dataframe of one event\n",
        "  #tbc\n",
        "  lp1s, lp2s = GenerateTracks(n)\n",
        "  layers_before = layerz[layerz < minz]\n",
        "  layers_after = layerz[layerz >= minz]\n",
        "  points_before = np.zeros((len(layers_before),3))\n",
        "  points_before[2] = layers_before\n",
        "  events_data = []\n",
        "  for lp1, lp2 in zip(lp1s, lp2s):\n",
        "    p1s = GenerateIntersection3D(lp1, layers_after)\n",
        "    p2s = GenerateIntersection3D(lp2, layers_after)\n",
        "\n",
        "    x = np.concatenate((points_before, p1s, p2s), axis=1).T\n",
        "\n",
        "    #this connects the graph like this: ---<===\n",
        "    #and then adds fake edges between two tracks 'X'\n",
        "    #         3 - 4 - 5\n",
        "    # -0-1-2<   X   X\n",
        "    #         6 - 7 - 8\n",
        "    true_edges = [[i, i+1] for i in range(len(x)-1)]\n",
        "    true_edges.append([len(layers_before)-1, len(layers_before) + len(layers_after)])\n",
        "    true_edges.remove([len(layers_before) + len(layers_after) - 1, len(layers_before) + len(layers_after)])\n",
        "\n",
        "    fake_edges = []\n",
        "    for i in range(len(layers_after)-1):\n",
        "      a = len(layers_before) + i\n",
        "      b = len(layers_before) + len(layers_after) + i\n",
        "      fake_edges.append([a, b + 1])\n",
        "      fake_edges.append([b, a + 1])\n",
        "    edges = np.array(true_edges + fake_edges).T\n",
        "    y = np.append(np.ones(len(true_edges)), np.zeros(len(fake_edges)))\n",
        "\n",
        "    #as of now the data is not shuffled at all, so:\n",
        "    #shuffling points:\n",
        "    nIdx = np.arange(len(x))\n",
        "    np.random.shuffle(nIdx)\n",
        "    edges = ShuffleIndexSwap(edges, nIdx)\n",
        "    x[nIdx] = x.copy()\n",
        "    #shuffling edges:\n",
        "    \n",
        "    neidx = np.arange(len(y))\n",
        "    np.random.shuffle(neidx)\n",
        "    edges[0] = edges[0][neidx]\n",
        "    edges[1] = edges[1][neidx]\n",
        "    y = y[neidx]\n",
        "    data = Data(x = torch.from_numpy(x).float(), edge_index = torch.from_numpy(edges), y = torch.from_numpy(y))\n",
        "    events_data.append(data)\n",
        "  return events_data"
      ]
    },
    {
      "cell_type": "code",
      "source": [
        "event_file= \"/content/drive/My Drive/MuonE_tracking/hitFile_small.csv\"\n",
        "data = pd.read_csv(event_file)\n",
        "data.rename(columns=lambda x: x.strip(), inplace=True)\n",
        "\n",
        "#this can be automated with axis1parameters.csv\n",
        "layers_before = [[0, 1], [2,3], [4,5]]\n",
        "layers_after = [[i, i+1] for i in np.arange(6, 16, 2, dtype=int)]\n",
        "two_layer_groups = [layers_before, layers_after]"
      ],
      "metadata": {
        "id": "1xIGhfLYIzZT"
      },
      "execution_count": 5,
      "outputs": []
    },
    {
      "cell_type": "code",
      "source": [
        "print(two_layer_groups)"
      ],
      "metadata": {
        "colab": {
          "base_uri": "https://localhost:8080/"
        },
        "id": "dpy8ZN6iNJ3y",
        "outputId": "e14911c8-90df-4535-e655-f2539e529aeb"
      },
      "execution_count": 19,
      "outputs": [
        {
          "output_type": "stream",
          "name": "stdout",
          "text": [
            "[[[0, 1], [2, 3], [4, 5]], [[6, 7], [8, 9], [10, 11], [12, 13], [14, 15]]]\n"
          ]
        }
      ]
    },
    {
      "cell_type": "code",
      "source": [
        "event = data[data['nEvent'] == 2]"
      ],
      "metadata": {
        "id": "XGlOpkkiLWkQ"
      },
      "execution_count": 13,
      "outputs": []
    },
    {
      "cell_type": "code",
      "source": [
        "print(event)"
      ],
      "metadata": {
        "colab": {
          "base_uri": "https://localhost:8080/"
        },
        "id": "gyg-wR2ALg7M",
        "outputId": "6cedffc2-ab22-4b7f-80fb-063ef0063bbc"
      },
      "execution_count": 13,
      "outputs": [
        {
          "output_type": "stream",
          "name": "stdout",
          "text": [
            "    nEvent        hitPos  hitType  layerZ  layerIndex  trackID\n",
            "0        1  2.826200e-05        1   -16.0           0        0\n",
            "1        1 -9.032680e-07        0   -21.0           1        0\n",
            "2        1  1.956890e-03        1   131.0           2        0\n",
            "3        1 -1.329020e-03        0   151.0           3        0\n",
            "4        1  1.020050e-02        1   477.0           4        0\n",
            "5        1 -4.013290e-03        0   497.0           5        0\n",
            "6        1  6.936620e-01        1   832.0           6        2\n",
            "7        1 -5.503250e-02        1   832.0           6        1\n",
            "8        1  4.251230e+00        0   843.7           7        2\n",
            "9        1 -1.353290e-01        0   843.7           7        1\n",
            "10       1  1.353980e+00        1  1146.0           8        2\n",
            "11       1 -1.114350e-01        1  1146.0           8        1\n",
            "12       1  8.254280e+00        0  1141.0           9        2\n",
            "13       1 -2.633850e-01        0  1141.0           9        1\n",
            "14       1  7.974820e+00        2  1252.7          10        2\n",
            "15       1 -3.131020e-01        2  1252.7          10        1\n",
            "16       1  9.906090e+00        0  1266.0          11        2\n",
            "17       1 -3.181510e-01        0  1266.0          11        1\n",
            "18       1  2.025030e+00        1  1479.6          12        2\n",
            "19       1 -1.705500e-01        1  1479.6          12        1\n",
            "20       1  7.478220e+00        3  1467.4          13        2\n",
            "21       1 -1.679750e-01        3  1467.4          13        1\n",
            "22       1  2.887420e+00        1  1973.0          14        2\n",
            "23       1 -2.577090e-01        1  1973.0          14        1\n",
            "24       1  1.899760e+01        0  1960.0          15        2\n",
            "25       1 -6.245330e-01        0  1960.0          15        1\n"
          ]
        }
      ]
    },
    {
      "cell_type": "code",
      "source": [
        "p0s, p1s, p2s, p3as, p3bs = generate_event_possible_points(event, two_layer_groups)\n",
        "pss = [p0s, p1s, p2s, p3as, p3bs]"
      ],
      "metadata": {
        "id": "-2osI_sVMN-U"
      },
      "execution_count": 17,
      "outputs": []
    },
    {
      "cell_type": "code",
      "source": [
        "print(p0s)"
      ],
      "metadata": {
        "colab": {
          "base_uri": "https://localhost:8080/"
        },
        "id": "DK5tCEToR9sC",
        "outputId": "c0e6e49e-8ff7-41e1-f728-82330962ca21"
      },
      "execution_count": 52,
      "outputs": [
        {
          "output_type": "stream",
          "name": "stdout",
          "text": [
            "[[-9.03268e-07  2.82620e-05 -1.85000e+01]\n",
            " [-1.32902e-03  1.95689e-03  1.41000e+02]\n",
            " [-4.01329e-03  1.02005e-02  4.87000e+02]]\n"
          ]
        }
      ]
    },
    {
      "cell_type": "code",
      "source": [
        "import plotly.express as px\n",
        "import matplotlib.pyplot as plt\n",
        "def plot_points_plt(pss):\n",
        "  color_code = ['b', 'g', 'r', 'k', 'k']\n",
        "  fig = plt.figure()\n",
        "  plt.figure(figsize=(10,5))\n",
        "  ax = fig.add_subplot(projection='3d')\n",
        "  for i,ps in enumerate(pss):\n",
        "    print(ps.T)\n",
        "    x, y, z = ps.T\n",
        "    ax.scatter(x, y, z, c=color_code[i])\n",
        "  plt.show()\n",
        "def plot_points_px(pss):\n",
        "  df = pd.DataFrame([], columns=['x', 'y', 'z', 'color'])\n",
        "  vals = [0, 1, 2, 3, 3]\n",
        "  for i,ps in enumerate(pss):\n",
        "    col = np.full((ps.shape[0], 1), vals[i])\n",
        "    arr = np.concatenate((ps, col), axis=1)\n",
        "    df2 = pd.DataFrame(arr, columns=['x', 'y', 'z', 'color'])\n",
        "    df = df.append(df2, ignore_index=True)\n",
        "  fig = px.scatter_3d(df, x='x', y='y', z='z', color='color')\n",
        "  fig.show()"
      ],
      "metadata": {
        "id": "4UgI-6OJNm68"
      },
      "execution_count": 8,
      "outputs": []
    },
    {
      "cell_type": "code",
      "source": [
        "plot_points_px(pss)"
      ],
      "metadata": {
        "colab": {
          "base_uri": "https://localhost:8080/",
          "height": 542
        },
        "id": "B9VNkJXDQi0H",
        "outputId": "b2b4ced9-3456-4a54-ba06-feb64fbcf65a"
      },
      "execution_count": 18,
      "outputs": [
        {
          "output_type": "display_data",
          "data": {
            "text/html": [
              "<html>\n",
              "<head><meta charset=\"utf-8\" /></head>\n",
              "<body>\n",
              "    <div>            <script src=\"https://cdnjs.cloudflare.com/ajax/libs/mathjax/2.7.5/MathJax.js?config=TeX-AMS-MML_SVG\"></script><script type=\"text/javascript\">if (window.MathJax) {MathJax.Hub.Config({SVG: {font: \"STIX-Web\"}});}</script>                <script type=\"text/javascript\">window.PlotlyConfig = {MathJaxConfig: 'local'};</script>\n",
              "        <script src=\"https://cdn.plot.ly/plotly-2.8.3.min.js\"></script>                <div id=\"ad651b4b-3303-45f7-ad4e-67fb5028b2e1\" class=\"plotly-graph-div\" style=\"height:525px; width:100%;\"></div>            <script type=\"text/javascript\">                                    window.PLOTLYENV=window.PLOTLYENV || {};                                    if (document.getElementById(\"ad651b4b-3303-45f7-ad4e-67fb5028b2e1\")) {                    Plotly.newPlot(                        \"ad651b4b-3303-45f7-ad4e-67fb5028b2e1\",                        [{\"hovertemplate\":\"x=%{x}<br>y=%{y}<br>z=%{z}<br>color=%{marker.color}<extra></extra>\",\"legendgroup\":\"\",\"marker\":{\"color\":[0.0,0.0,0.0,1.0,1.0,1.0,1.0,1.0,2.0,2.0,2.0,2.0,2.0,3.0,3.0,3.0,3.0,3.0,3.0,3.0,3.0,3.0,3.0],\"coloraxis\":\"coloraxis\",\"symbol\":\"circle\"},\"mode\":\"markers\",\"name\":\"\",\"scene\":\"scene\",\"showlegend\":false,\"x\":[4.83394e-07,0.00179628,0.00835404,-0.0914207,-0.18167,-0.21981,-0.284800682539532,-0.423971,-3.93031,-7.69648,-9.27269,-11.849815486832032,-17.9631,-3.93031,-7.69648,-9.27269,-7.7307224868320334,-17.9631,-0.0914207,-0.18167,-0.21981,-4.403893682539532,-0.423971],\"y\":[-1.78647e-05,-0.000375065,0.00146764,-0.121674,-0.25014,-0.2892305149219461,-0.384477,-0.585098,-1.3374,-2.79309,-3.1593361577025334,-4.50357,-7.0983,-0.121674,-0.25014,8.763649485078055,-0.384477,-0.585098,-1.3374,-2.79309,-12.212216157702533,-4.50357,-7.0983],\"z\":[-18.5,141.0,487.0,837.85,1143.5,1259.35,1473.5,1966.5,837.85,1143.5,1259.35,1473.5,1966.5,837.85,1143.5,1259.35,1473.5,1966.5,837.85,1143.5,1259.35,1473.5,1966.5],\"type\":\"scatter3d\"}],                        {\"template\":{\"data\":{\"bar\":[{\"error_x\":{\"color\":\"#2a3f5f\"},\"error_y\":{\"color\":\"#2a3f5f\"},\"marker\":{\"line\":{\"color\":\"#E5ECF6\",\"width\":0.5},\"pattern\":{\"fillmode\":\"overlay\",\"size\":10,\"solidity\":0.2}},\"type\":\"bar\"}],\"barpolar\":[{\"marker\":{\"line\":{\"color\":\"#E5ECF6\",\"width\":0.5},\"pattern\":{\"fillmode\":\"overlay\",\"size\":10,\"solidity\":0.2}},\"type\":\"barpolar\"}],\"carpet\":[{\"aaxis\":{\"endlinecolor\":\"#2a3f5f\",\"gridcolor\":\"white\",\"linecolor\":\"white\",\"minorgridcolor\":\"white\",\"startlinecolor\":\"#2a3f5f\"},\"baxis\":{\"endlinecolor\":\"#2a3f5f\",\"gridcolor\":\"white\",\"linecolor\":\"white\",\"minorgridcolor\":\"white\",\"startlinecolor\":\"#2a3f5f\"},\"type\":\"carpet\"}],\"choropleth\":[{\"colorbar\":{\"outlinewidth\":0,\"ticks\":\"\"},\"type\":\"choropleth\"}],\"contour\":[{\"colorbar\":{\"outlinewidth\":0,\"ticks\":\"\"},\"colorscale\":[[0.0,\"#0d0887\"],[0.1111111111111111,\"#46039f\"],[0.2222222222222222,\"#7201a8\"],[0.3333333333333333,\"#9c179e\"],[0.4444444444444444,\"#bd3786\"],[0.5555555555555556,\"#d8576b\"],[0.6666666666666666,\"#ed7953\"],[0.7777777777777778,\"#fb9f3a\"],[0.8888888888888888,\"#fdca26\"],[1.0,\"#f0f921\"]],\"type\":\"contour\"}],\"contourcarpet\":[{\"colorbar\":{\"outlinewidth\":0,\"ticks\":\"\"},\"type\":\"contourcarpet\"}],\"heatmap\":[{\"colorbar\":{\"outlinewidth\":0,\"ticks\":\"\"},\"colorscale\":[[0.0,\"#0d0887\"],[0.1111111111111111,\"#46039f\"],[0.2222222222222222,\"#7201a8\"],[0.3333333333333333,\"#9c179e\"],[0.4444444444444444,\"#bd3786\"],[0.5555555555555556,\"#d8576b\"],[0.6666666666666666,\"#ed7953\"],[0.7777777777777778,\"#fb9f3a\"],[0.8888888888888888,\"#fdca26\"],[1.0,\"#f0f921\"]],\"type\":\"heatmap\"}],\"heatmapgl\":[{\"colorbar\":{\"outlinewidth\":0,\"ticks\":\"\"},\"colorscale\":[[0.0,\"#0d0887\"],[0.1111111111111111,\"#46039f\"],[0.2222222222222222,\"#7201a8\"],[0.3333333333333333,\"#9c179e\"],[0.4444444444444444,\"#bd3786\"],[0.5555555555555556,\"#d8576b\"],[0.6666666666666666,\"#ed7953\"],[0.7777777777777778,\"#fb9f3a\"],[0.8888888888888888,\"#fdca26\"],[1.0,\"#f0f921\"]],\"type\":\"heatmapgl\"}],\"histogram\":[{\"marker\":{\"pattern\":{\"fillmode\":\"overlay\",\"size\":10,\"solidity\":0.2}},\"type\":\"histogram\"}],\"histogram2d\":[{\"colorbar\":{\"outlinewidth\":0,\"ticks\":\"\"},\"colorscale\":[[0.0,\"#0d0887\"],[0.1111111111111111,\"#46039f\"],[0.2222222222222222,\"#7201a8\"],[0.3333333333333333,\"#9c179e\"],[0.4444444444444444,\"#bd3786\"],[0.5555555555555556,\"#d8576b\"],[0.6666666666666666,\"#ed7953\"],[0.7777777777777778,\"#fb9f3a\"],[0.8888888888888888,\"#fdca26\"],[1.0,\"#f0f921\"]],\"type\":\"histogram2d\"}],\"histogram2dcontour\":[{\"colorbar\":{\"outlinewidth\":0,\"ticks\":\"\"},\"colorscale\":[[0.0,\"#0d0887\"],[0.1111111111111111,\"#46039f\"],[0.2222222222222222,\"#7201a8\"],[0.3333333333333333,\"#9c179e\"],[0.4444444444444444,\"#bd3786\"],[0.5555555555555556,\"#d8576b\"],[0.6666666666666666,\"#ed7953\"],[0.7777777777777778,\"#fb9f3a\"],[0.8888888888888888,\"#fdca26\"],[1.0,\"#f0f921\"]],\"type\":\"histogram2dcontour\"}],\"mesh3d\":[{\"colorbar\":{\"outlinewidth\":0,\"ticks\":\"\"},\"type\":\"mesh3d\"}],\"parcoords\":[{\"line\":{\"colorbar\":{\"outlinewidth\":0,\"ticks\":\"\"}},\"type\":\"parcoords\"}],\"pie\":[{\"automargin\":true,\"type\":\"pie\"}],\"scatter\":[{\"marker\":{\"colorbar\":{\"outlinewidth\":0,\"ticks\":\"\"}},\"type\":\"scatter\"}],\"scatter3d\":[{\"line\":{\"colorbar\":{\"outlinewidth\":0,\"ticks\":\"\"}},\"marker\":{\"colorbar\":{\"outlinewidth\":0,\"ticks\":\"\"}},\"type\":\"scatter3d\"}],\"scattercarpet\":[{\"marker\":{\"colorbar\":{\"outlinewidth\":0,\"ticks\":\"\"}},\"type\":\"scattercarpet\"}],\"scattergeo\":[{\"marker\":{\"colorbar\":{\"outlinewidth\":0,\"ticks\":\"\"}},\"type\":\"scattergeo\"}],\"scattergl\":[{\"marker\":{\"colorbar\":{\"outlinewidth\":0,\"ticks\":\"\"}},\"type\":\"scattergl\"}],\"scattermapbox\":[{\"marker\":{\"colorbar\":{\"outlinewidth\":0,\"ticks\":\"\"}},\"type\":\"scattermapbox\"}],\"scatterpolar\":[{\"marker\":{\"colorbar\":{\"outlinewidth\":0,\"ticks\":\"\"}},\"type\":\"scatterpolar\"}],\"scatterpolargl\":[{\"marker\":{\"colorbar\":{\"outlinewidth\":0,\"ticks\":\"\"}},\"type\":\"scatterpolargl\"}],\"scatterternary\":[{\"marker\":{\"colorbar\":{\"outlinewidth\":0,\"ticks\":\"\"}},\"type\":\"scatterternary\"}],\"surface\":[{\"colorbar\":{\"outlinewidth\":0,\"ticks\":\"\"},\"colorscale\":[[0.0,\"#0d0887\"],[0.1111111111111111,\"#46039f\"],[0.2222222222222222,\"#7201a8\"],[0.3333333333333333,\"#9c179e\"],[0.4444444444444444,\"#bd3786\"],[0.5555555555555556,\"#d8576b\"],[0.6666666666666666,\"#ed7953\"],[0.7777777777777778,\"#fb9f3a\"],[0.8888888888888888,\"#fdca26\"],[1.0,\"#f0f921\"]],\"type\":\"surface\"}],\"table\":[{\"cells\":{\"fill\":{\"color\":\"#EBF0F8\"},\"line\":{\"color\":\"white\"}},\"header\":{\"fill\":{\"color\":\"#C8D4E3\"},\"line\":{\"color\":\"white\"}},\"type\":\"table\"}]},\"layout\":{\"annotationdefaults\":{\"arrowcolor\":\"#2a3f5f\",\"arrowhead\":0,\"arrowwidth\":1},\"autotypenumbers\":\"strict\",\"coloraxis\":{\"colorbar\":{\"outlinewidth\":0,\"ticks\":\"\"}},\"colorscale\":{\"diverging\":[[0,\"#8e0152\"],[0.1,\"#c51b7d\"],[0.2,\"#de77ae\"],[0.3,\"#f1b6da\"],[0.4,\"#fde0ef\"],[0.5,\"#f7f7f7\"],[0.6,\"#e6f5d0\"],[0.7,\"#b8e186\"],[0.8,\"#7fbc41\"],[0.9,\"#4d9221\"],[1,\"#276419\"]],\"sequential\":[[0.0,\"#0d0887\"],[0.1111111111111111,\"#46039f\"],[0.2222222222222222,\"#7201a8\"],[0.3333333333333333,\"#9c179e\"],[0.4444444444444444,\"#bd3786\"],[0.5555555555555556,\"#d8576b\"],[0.6666666666666666,\"#ed7953\"],[0.7777777777777778,\"#fb9f3a\"],[0.8888888888888888,\"#fdca26\"],[1.0,\"#f0f921\"]],\"sequentialminus\":[[0.0,\"#0d0887\"],[0.1111111111111111,\"#46039f\"],[0.2222222222222222,\"#7201a8\"],[0.3333333333333333,\"#9c179e\"],[0.4444444444444444,\"#bd3786\"],[0.5555555555555556,\"#d8576b\"],[0.6666666666666666,\"#ed7953\"],[0.7777777777777778,\"#fb9f3a\"],[0.8888888888888888,\"#fdca26\"],[1.0,\"#f0f921\"]]},\"colorway\":[\"#636efa\",\"#EF553B\",\"#00cc96\",\"#ab63fa\",\"#FFA15A\",\"#19d3f3\",\"#FF6692\",\"#B6E880\",\"#FF97FF\",\"#FECB52\"],\"font\":{\"color\":\"#2a3f5f\"},\"geo\":{\"bgcolor\":\"white\",\"lakecolor\":\"white\",\"landcolor\":\"#E5ECF6\",\"showlakes\":true,\"showland\":true,\"subunitcolor\":\"white\"},\"hoverlabel\":{\"align\":\"left\"},\"hovermode\":\"closest\",\"mapbox\":{\"style\":\"light\"},\"paper_bgcolor\":\"white\",\"plot_bgcolor\":\"#E5ECF6\",\"polar\":{\"angularaxis\":{\"gridcolor\":\"white\",\"linecolor\":\"white\",\"ticks\":\"\"},\"bgcolor\":\"#E5ECF6\",\"radialaxis\":{\"gridcolor\":\"white\",\"linecolor\":\"white\",\"ticks\":\"\"}},\"scene\":{\"xaxis\":{\"backgroundcolor\":\"#E5ECF6\",\"gridcolor\":\"white\",\"gridwidth\":2,\"linecolor\":\"white\",\"showbackground\":true,\"ticks\":\"\",\"zerolinecolor\":\"white\"},\"yaxis\":{\"backgroundcolor\":\"#E5ECF6\",\"gridcolor\":\"white\",\"gridwidth\":2,\"linecolor\":\"white\",\"showbackground\":true,\"ticks\":\"\",\"zerolinecolor\":\"white\"},\"zaxis\":{\"backgroundcolor\":\"#E5ECF6\",\"gridcolor\":\"white\",\"gridwidth\":2,\"linecolor\":\"white\",\"showbackground\":true,\"ticks\":\"\",\"zerolinecolor\":\"white\"}},\"shapedefaults\":{\"line\":{\"color\":\"#2a3f5f\"}},\"ternary\":{\"aaxis\":{\"gridcolor\":\"white\",\"linecolor\":\"white\",\"ticks\":\"\"},\"baxis\":{\"gridcolor\":\"white\",\"linecolor\":\"white\",\"ticks\":\"\"},\"bgcolor\":\"#E5ECF6\",\"caxis\":{\"gridcolor\":\"white\",\"linecolor\":\"white\",\"ticks\":\"\"}},\"title\":{\"x\":0.05},\"xaxis\":{\"automargin\":true,\"gridcolor\":\"white\",\"linecolor\":\"white\",\"ticks\":\"\",\"title\":{\"standoff\":15},\"zerolinecolor\":\"white\",\"zerolinewidth\":2},\"yaxis\":{\"automargin\":true,\"gridcolor\":\"white\",\"linecolor\":\"white\",\"ticks\":\"\",\"title\":{\"standoff\":15},\"zerolinecolor\":\"white\",\"zerolinewidth\":2}}},\"scene\":{\"domain\":{\"x\":[0.0,1.0],\"y\":[0.0,1.0]},\"xaxis\":{\"title\":{\"text\":\"x\"}},\"yaxis\":{\"title\":{\"text\":\"y\"}},\"zaxis\":{\"title\":{\"text\":\"z\"}}},\"coloraxis\":{\"colorbar\":{\"title\":{\"text\":\"color\"}},\"colorscale\":[[0.0,\"#0d0887\"],[0.1111111111111111,\"#46039f\"],[0.2222222222222222,\"#7201a8\"],[0.3333333333333333,\"#9c179e\"],[0.4444444444444444,\"#bd3786\"],[0.5555555555555556,\"#d8576b\"],[0.6666666666666666,\"#ed7953\"],[0.7777777777777778,\"#fb9f3a\"],[0.8888888888888888,\"#fdca26\"],[1.0,\"#f0f921\"]]},\"legend\":{\"tracegroupgap\":0},\"margin\":{\"t\":60}},                        {\"responsive\": true}                    ).then(function(){\n",
              "                            \n",
              "var gd = document.getElementById('ad651b4b-3303-45f7-ad4e-67fb5028b2e1');\n",
              "var x = new MutationObserver(function (mutations, observer) {{\n",
              "        var display = window.getComputedStyle(gd).display;\n",
              "        if (!display || display === 'none') {{\n",
              "            console.log([gd, 'removed!']);\n",
              "            Plotly.purge(gd);\n",
              "            observer.disconnect();\n",
              "        }}\n",
              "}});\n",
              "\n",
              "// Listen for the removal of the full notebook cells\n",
              "var notebookContainer = gd.closest('#notebook-container');\n",
              "if (notebookContainer) {{\n",
              "    x.observe(notebookContainer, {childList: true});\n",
              "}}\n",
              "\n",
              "// Listen for the clearing of the current output cell\n",
              "var outputEl = gd.closest('.output');\n",
              "if (outputEl) {{\n",
              "    x.observe(outputEl, {childList: true});\n",
              "}}\n",
              "\n",
              "                        })                };                            </script>        </div>\n",
              "</body>\n",
              "</html>"
            ]
          },
          "metadata": {}
        }
      ]
    },
    {
      "cell_type": "code",
      "source": [],
      "metadata": {
        "id": "dwaWg3MKR0CT"
      },
      "execution_count": null,
      "outputs": []
    }
  ],
  "metadata": {
    "colab": {
      "provenance": [],
      "include_colab_link": true
    },
    "gpuClass": "standard",
    "kernelspec": {
      "display_name": "Python 3",
      "name": "python3"
    },
    "language_info": {
      "codemirror_mode": {
        "name": "ipython",
        "version": 3
      },
      "file_extension": ".py",
      "mimetype": "text/x-python",
      "name": "python",
      "nbconvert_exporter": "python",
      "pygments_lexer": "ipython3",
      "version": "3.7.1"
    }
  },
  "nbformat": 4,
  "nbformat_minor": 0
}
